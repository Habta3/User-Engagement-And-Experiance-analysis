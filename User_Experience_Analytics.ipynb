{
 "cells": [
  {
   "cell_type": "code",
   "execution_count": 1,
   "id": "61092a85",
   "metadata": {},
   "outputs": [],
   "source": [
    "import pandas as pd\n",
    "import matplotlib.pyplot as plt\n",
    "import seaborn as sns\n",
    "import pickle"
   ]
  },
  {
   "cell_type": "code",
   "execution_count": 3,
   "id": "2f0f5241",
   "metadata": {},
   "outputs": [
    {
     "data": {
      "text/html": [
       "<div>\n",
       "<style scoped>\n",
       "    .dataframe tbody tr th:only-of-type {\n",
       "        vertical-align: middle;\n",
       "    }\n",
       "\n",
       "    .dataframe tbody tr th {\n",
       "        vertical-align: top;\n",
       "    }\n",
       "\n",
       "    .dataframe thead th {\n",
       "        text-align: right;\n",
       "    }\n",
       "</style>\n",
       "<table border=\"1\" class=\"dataframe\">\n",
       "  <thead>\n",
       "    <tr style=\"text-align: right;\">\n",
       "      <th></th>\n",
       "      <th>bearer_id</th>\n",
       "      <th>start</th>\n",
       "      <th>start_ms</th>\n",
       "      <th>end</th>\n",
       "      <th>end_ms</th>\n",
       "      <th>dur._(ms)</th>\n",
       "      <th>imsi</th>\n",
       "      <th>msisdn/number</th>\n",
       "      <th>imei</th>\n",
       "      <th>last_location_name</th>\n",
       "      <th>...</th>\n",
       "      <th>youtube_dl_(bytes)</th>\n",
       "      <th>youtube_ul_(bytes)</th>\n",
       "      <th>netflix_dl_(bytes)</th>\n",
       "      <th>netflix_ul_(bytes)</th>\n",
       "      <th>gaming_dl_(bytes)</th>\n",
       "      <th>gaming_ul_(bytes)</th>\n",
       "      <th>other_dl_(bytes)</th>\n",
       "      <th>other_ul_(bytes)</th>\n",
       "      <th>total_ul_(bytes)</th>\n",
       "      <th>total_dl_(bytes)</th>\n",
       "    </tr>\n",
       "  </thead>\n",
       "  <tbody>\n",
       "    <tr>\n",
       "      <th>0</th>\n",
       "      <td>1.311448e+19</td>\n",
       "      <td>4/4/2019 12:01</td>\n",
       "      <td>770.0</td>\n",
       "      <td>4/25/2019 14:35</td>\n",
       "      <td>662.0</td>\n",
       "      <td>14.416352</td>\n",
       "      <td>2.082014e+14</td>\n",
       "      <td>3.366496e+10</td>\n",
       "      <td>3.552121e+13</td>\n",
       "      <td>9.16456699548519E+015</td>\n",
       "      <td>...</td>\n",
       "      <td>16.578971</td>\n",
       "      <td>14.732334</td>\n",
       "      <td>15.919515</td>\n",
       "      <td>16.083116</td>\n",
       "      <td>19.443428</td>\n",
       "      <td>16.478853</td>\n",
       "      <td>18.961518</td>\n",
       "      <td>15.991897</td>\n",
       "      <td>17.419642</td>\n",
       "      <td>19.548462</td>\n",
       "    </tr>\n",
       "    <tr>\n",
       "      <th>1</th>\n",
       "      <td>1.311448e+19</td>\n",
       "      <td>4/9/2019 13:04</td>\n",
       "      <td>235.0</td>\n",
       "      <td>4/25/2019 8:15</td>\n",
       "      <td>606.0</td>\n",
       "      <td>14.126741</td>\n",
       "      <td>2.082019e+14</td>\n",
       "      <td>3.368185e+10</td>\n",
       "      <td>3.579401e+13</td>\n",
       "      <td>L77566A</td>\n",
       "      <td>...</td>\n",
       "      <td>16.823537</td>\n",
       "      <td>16.765813</td>\n",
       "      <td>16.724508</td>\n",
       "      <td>16.661996</td>\n",
       "      <td>20.226918</td>\n",
       "      <td>13.973120</td>\n",
       "      <td>20.082529</td>\n",
       "      <td>16.527230</td>\n",
       "      <td>17.800791</td>\n",
       "      <td>20.297677</td>\n",
       "    </tr>\n",
       "    <tr>\n",
       "      <th>2</th>\n",
       "      <td>1.311448e+19</td>\n",
       "      <td>4/9/2019 17:42</td>\n",
       "      <td>1.0</td>\n",
       "      <td>4/25/2019 11:58</td>\n",
       "      <td>652.0</td>\n",
       "      <td>14.124290</td>\n",
       "      <td>2.082003e+14</td>\n",
       "      <td>3.376063e+10</td>\n",
       "      <td>3.528151e+13</td>\n",
       "      <td>D42335A</td>\n",
       "      <td>...</td>\n",
       "      <td>16.797431</td>\n",
       "      <td>16.503329</td>\n",
       "      <td>16.682716</td>\n",
       "      <td>15.634140</td>\n",
       "      <td>19.251782</td>\n",
       "      <td>12.888235</td>\n",
       "      <td>19.833356</td>\n",
       "      <td>15.254341</td>\n",
       "      <td>17.143551</td>\n",
       "      <td>19.449612</td>\n",
       "    </tr>\n",
       "    <tr>\n",
       "      <th>3</th>\n",
       "      <td>1.311448e+19</td>\n",
       "      <td>4/10/2019 0:31</td>\n",
       "      <td>486.0</td>\n",
       "      <td>4/25/2019 7:36</td>\n",
       "      <td>171.0</td>\n",
       "      <td>14.094285</td>\n",
       "      <td>2.082014e+14</td>\n",
       "      <td>3.375034e+10</td>\n",
       "      <td>3.535661e+13</td>\n",
       "      <td>T21824A</td>\n",
       "      <td>...</td>\n",
       "      <td>16.878346</td>\n",
       "      <td>16.533289</td>\n",
       "      <td>16.454185</td>\n",
       "      <td>13.908948</td>\n",
       "      <td>20.499545</td>\n",
       "      <td>16.199650</td>\n",
       "      <td>20.434303</td>\n",
       "      <td>16.364743</td>\n",
       "      <td>17.584222</td>\n",
       "      <td>20.556064</td>\n",
       "    </tr>\n",
       "    <tr>\n",
       "      <th>4</th>\n",
       "      <td>1.311448e+19</td>\n",
       "      <td>4/12/2019 20:10</td>\n",
       "      <td>565.0</td>\n",
       "      <td>4/25/2019 10:40</td>\n",
       "      <td>954.0</td>\n",
       "      <td>13.900779</td>\n",
       "      <td>2.082014e+14</td>\n",
       "      <td>3.369980e+10</td>\n",
       "      <td>3.540701e+13</td>\n",
       "      <td>D88865A</td>\n",
       "      <td>...</td>\n",
       "      <td>16.540705</td>\n",
       "      <td>16.757994</td>\n",
       "      <td>16.656025</td>\n",
       "      <td>12.936559</td>\n",
       "      <td>20.084052</td>\n",
       "      <td>15.076752</td>\n",
       "      <td>20.126718</td>\n",
       "      <td>16.448142</td>\n",
       "      <td>17.467280</td>\n",
       "      <td>20.159635</td>\n",
       "    </tr>\n",
       "  </tbody>\n",
       "</table>\n",
       "<p>5 rows × 55 columns</p>\n",
       "</div>"
      ],
      "text/plain": [
       "      bearer_id            start  start_ms              end  end_ms  \\\n",
       "0  1.311448e+19   4/4/2019 12:01     770.0  4/25/2019 14:35   662.0   \n",
       "1  1.311448e+19   4/9/2019 13:04     235.0   4/25/2019 8:15   606.0   \n",
       "2  1.311448e+19   4/9/2019 17:42       1.0  4/25/2019 11:58   652.0   \n",
       "3  1.311448e+19   4/10/2019 0:31     486.0   4/25/2019 7:36   171.0   \n",
       "4  1.311448e+19  4/12/2019 20:10     565.0  4/25/2019 10:40   954.0   \n",
       "\n",
       "   dur._(ms)          imsi  msisdn/number          imei  \\\n",
       "0  14.416352  2.082014e+14   3.366496e+10  3.552121e+13   \n",
       "1  14.126741  2.082019e+14   3.368185e+10  3.579401e+13   \n",
       "2  14.124290  2.082003e+14   3.376063e+10  3.528151e+13   \n",
       "3  14.094285  2.082014e+14   3.375034e+10  3.535661e+13   \n",
       "4  13.900779  2.082014e+14   3.369980e+10  3.540701e+13   \n",
       "\n",
       "      last_location_name  ...  youtube_dl_(bytes)  youtube_ul_(bytes)  \\\n",
       "0  9.16456699548519E+015  ...           16.578971           14.732334   \n",
       "1                L77566A  ...           16.823537           16.765813   \n",
       "2                D42335A  ...           16.797431           16.503329   \n",
       "3                T21824A  ...           16.878346           16.533289   \n",
       "4                D88865A  ...           16.540705           16.757994   \n",
       "\n",
       "   netflix_dl_(bytes)  netflix_ul_(bytes)  gaming_dl_(bytes)  \\\n",
       "0           15.919515           16.083116          19.443428   \n",
       "1           16.724508           16.661996          20.226918   \n",
       "2           16.682716           15.634140          19.251782   \n",
       "3           16.454185           13.908948          20.499545   \n",
       "4           16.656025           12.936559          20.084052   \n",
       "\n",
       "   gaming_ul_(bytes)  other_dl_(bytes)  other_ul_(bytes)  total_ul_(bytes)  \\\n",
       "0          16.478853         18.961518         15.991897         17.419642   \n",
       "1          13.973120         20.082529         16.527230         17.800791   \n",
       "2          12.888235         19.833356         15.254341         17.143551   \n",
       "3          16.199650         20.434303         16.364743         17.584222   \n",
       "4          15.076752         20.126718         16.448142         17.467280   \n",
       "\n",
       "   total_dl_(bytes)  \n",
       "0         19.548462  \n",
       "1         20.297677  \n",
       "2         19.449612  \n",
       "3         20.556064  \n",
       "4         20.159635  \n",
       "\n",
       "[5 rows x 55 columns]"
      ]
     },
     "execution_count": 3,
     "metadata": {},
     "output_type": "execute_result"
    }
   ],
   "source": [
    "Exp_data=pd.read_csv(\"E:\\\\10xAccademy_Practice\\\\Week 1\\\\Data\\\\OutlierRemved_telecoData_outliers.csv\")\n",
    "Exp_data.head(5)"
   ]
  },
  {
   "cell_type": "code",
   "execution_count": 5,
   "id": "812b662b",
   "metadata": {},
   "outputs": [],
   "source": [
    "df=Exp_data.copy()"
   ]
  },
  {
   "cell_type": "code",
   "execution_count": 7,
   "id": "e570bec0",
   "metadata": {},
   "outputs": [
    {
     "data": {
      "text/plain": [
       "['bearer_id',\n",
       " 'start',\n",
       " 'start_ms',\n",
       " 'end',\n",
       " 'end_ms',\n",
       " 'dur._(ms)',\n",
       " 'imsi',\n",
       " 'msisdn/number',\n",
       " 'imei',\n",
       " 'last_location_name',\n",
       " 'avg_rtt_dl_(ms)',\n",
       " 'avg_rtt_ul_(ms)',\n",
       " 'avg_bearer_tp_dl_(kbps)',\n",
       " 'avg_bearer_tp_ul_(kbps)',\n",
       " 'tcp_dl_retrans._vol_(bytes)',\n",
       " 'tcp_ul_retrans._vol_(bytes)',\n",
       " 'dl_tp_<_50_kbps_(%)',\n",
       " '50_kbps_<_dl_tp_<_250_kbps_(%)',\n",
       " '250_kbps_<_dl_tp_<_1_mbps_(%)',\n",
       " 'dl_tp_>_1_mbps_(%)',\n",
       " 'ul_tp_<_10_kbps_(%)',\n",
       " '10_kbps_<_ul_tp_<_50_kbps_(%)',\n",
       " '50_kbps_<_ul_tp_<_300_kbps_(%)',\n",
       " 'ul_tp_>_300_kbps_(%)',\n",
       " 'http_dl_(bytes)',\n",
       " 'http_ul_(bytes)',\n",
       " 'activity_duration_dl_(ms)',\n",
       " 'activity_duration_ul_(ms)',\n",
       " 'dur._(ms).1',\n",
       " 'handset_manufacturer',\n",
       " 'handset_type',\n",
       " 'nb_of_sec_with_125000b_<_vol_dl',\n",
       " 'nb_of_sec_with_1250b_<_vol_ul_<_6250b',\n",
       " 'nb_of_sec_with_31250b_<_vol_dl_<_125000b',\n",
       " 'nb_of_sec_with_37500b_<_vol_ul',\n",
       " 'nb_of_sec_with_6250b_<_vol_dl_<_31250b',\n",
       " 'nb_of_sec_with_6250b_<_vol_ul_<_37500b',\n",
       " 'nb_of_sec_with_vol_dl_<_6250b',\n",
       " 'nb_of_sec_with_vol_ul_<_1250b',\n",
       " 'social_media_dl_(bytes)',\n",
       " 'social_media_ul_(bytes)',\n",
       " 'google_dl_(bytes)',\n",
       " 'google_ul_(bytes)',\n",
       " 'email_dl_(bytes)',\n",
       " 'email_ul_(bytes)',\n",
       " 'youtube_dl_(bytes)',\n",
       " 'youtube_ul_(bytes)',\n",
       " 'netflix_dl_(bytes)',\n",
       " 'netflix_ul_(bytes)',\n",
       " 'gaming_dl_(bytes)',\n",
       " 'gaming_ul_(bytes)',\n",
       " 'other_dl_(bytes)',\n",
       " 'other_ul_(bytes)',\n",
       " 'total_ul_(bytes)',\n",
       " 'total_dl_(bytes)']"
      ]
     },
     "execution_count": 7,
     "metadata": {},
     "output_type": "execute_result"
    }
   ],
   "source": [
    "df.columns.tolist()"
   ]
  },
  {
   "cell_type": "markdown",
   "id": "655dc1b3",
   "metadata": {},
   "source": [
    "# Check for Outlier using Boxplot"
   ]
  },
  {
   "cell_type": "code",
   "execution_count": 8,
   "id": "ddd85221",
   "metadata": {},
   "outputs": [
    {
     "name": "stderr",
     "output_type": "stream",
     "text": [
      "C:\\ProgramData\\Anaconda3\\lib\\site-packages\\seaborn\\_decorators.py:36: FutureWarning: Pass the following variable as a keyword arg: x. From version 0.12, the only valid positional argument will be `data`, and passing other arguments without an explicit keyword will result in an error or misinterpretation.\n",
      "  warnings.warn(\n",
      "C:\\ProgramData\\Anaconda3\\lib\\site-packages\\seaborn\\_core.py:1326: UserWarning: Vertical orientation ignored with only `x` specified.\n",
      "  warnings.warn(single_var_warning.format(\"Vertical\", \"x\"))\n"
     ]
    },
    {
     "data": {
      "text/plain": [
       "<AxesSubplot:xlabel='avg_rtt_ul_(ms)'>"
      ]
     },
     "execution_count": 8,
     "metadata": {},
     "output_type": "execute_result"
    },
    {
     "data": {
      "image/png": "[encoded data removed]",
      "text/plain": [
       "<Figure size 720x360 with 1 Axes>"
      ]
     },
     "metadata": {
      "needs_background": "light"
     },
     "output_type": "display_data"
    }
   ],
   "source": [
    "plt.figure(figsize=(10,5))\n",
    "sns.boxplot(df[\"avg_rtt_ul_(ms)\"], orient=\"vert\")"
   ]
  },
  {
   "cell_type": "code",
   "execution_count": null,
   "id": "cf1e249d",
   "metadata": {},
   "outputs": [],
   "source": [
    "# From the above Plot there is a little outlier, so it may not affect our presentation\n",
    "# next Extract those columns that carry ●\tAverage TCP retransmission, ●\tAverage RTT, ●\tHandset type,\n",
    "# and ●\tAverage throughput from the preprocessed data"
   ]
  },
  {
   "cell_type": "code",
   "execution_count": 21,
   "id": "31f68895",
   "metadata": {},
   "outputs": [
    {
     "data": {
      "text/plain": [
       "['msisdn/number',\n",
       " 'avg_rtt_dl_(ms)',\n",
       " 'avg_rtt_ul_(ms)',\n",
       " 'avg_bearer_tp_dl_(kbps)',\n",
       " 'avg_bearer_tp_ul_(kbps)',\n",
       " 'tcp_dl_retrans._vol_(bytes)',\n",
       " 'tcp_ul_retrans._vol_(bytes)',\n",
       " 'handset_type']"
      ]
     },
     "execution_count": 21,
     "metadata": {},
     "output_type": "execute_result"
    }
   ],
   "source": [
    "#create A data frame that contains the required colums\n",
    "UserExperiance_Df=df[[\"msisdn/number\",\n",
    "    \"avg_rtt_dl_(ms)\",\n",
    "    \"avg_rtt_ul_(ms)\",\n",
    "    \"avg_bearer_tp_dl_(kbps)\",\n",
    "    \"avg_bearer_tp_ul_(kbps)\",\n",
    "    \"tcp_dl_retrans._vol_(bytes)\",\n",
    "    \"tcp_ul_retrans._vol_(bytes)\",\n",
    "    \"handset_type\"]]\n",
    "UserExperiance_Df.columns.tolist()"
   ]
  },
  {
   "cell_type": "code",
   "execution_count": 22,
   "id": "d21577bf",
   "metadata": {},
   "outputs": [
    {
     "name": "stderr",
     "output_type": "stream",
     "text": [
      "C:\\Users\\HB\\AppData\\Local\\Temp\\ipykernel_27624\\3157971574.py:2: SettingWithCopyWarning: \n",
      "A value is trying to be set on a copy of a slice from a DataFrame.\n",
      "Try using .loc[row_indexer,col_indexer] = value instead\n",
      "\n",
      "See the caveats in the documentation: https://pandas.pydata.org/pandas-docs/stable/user_guide/indexing.html#returning-a-view-versus-a-copy\n",
      "  UserExperiance_Df['avg_rtt_total'] = UserExperiance_Df['avg_rtt_dl_(ms)'] + UserExperiance_Df['avg_rtt_ul_(ms)']\n",
      "C:\\Users\\HB\\AppData\\Local\\Temp\\ipykernel_27624\\3157971574.py:3: SettingWithCopyWarning: \n",
      "A value is trying to be set on a copy of a slice from a DataFrame.\n",
      "Try using .loc[row_indexer,col_indexer] = value instead\n",
      "\n",
      "See the caveats in the documentation: https://pandas.pydata.org/pandas-docs/stable/user_guide/indexing.html#returning-a-view-versus-a-copy\n",
      "  UserExperiance_Df['avg_bearer_tp_total'] = UserExperiance_Df['avg_bearer_tp_dl_(kbps)'] + UserExperiance_Df['avg_bearer_tp_ul_(kbps)']\n",
      "C:\\Users\\HB\\AppData\\Local\\Temp\\ipykernel_27624\\3157971574.py:4: SettingWithCopyWarning: \n",
      "A value is trying to be set on a copy of a slice from a DataFrame.\n",
      "Try using .loc[row_indexer,col_indexer] = value instead\n",
      "\n",
      "See the caveats in the documentation: https://pandas.pydata.org/pandas-docs/stable/user_guide/indexing.html#returning-a-view-versus-a-copy\n",
      "  UserExperiance_Df['avg_tcp_retrans_total'] = UserExperiance_Df['tcp_dl_retrans._vol_(bytes)'] + UserExperiance_Df['tcp_ul_retrans._vol_(bytes)']\n"
     ]
    }
   ],
   "source": [
    "# Find the Average value of Each Network Parameter\n",
    "UserExperiance_Df['avg_rtt_total'] = UserExperiance_Df['avg_rtt_dl_(ms)'] + UserExperiance_Df['avg_rtt_ul_(ms)']\n",
    "UserExperiance_Df['avg_bearer_tp_total'] = UserExperiance_Df['avg_bearer_tp_dl_(kbps)'] + UserExperiance_Df['avg_bearer_tp_ul_(kbps)']\n",
    "UserExperiance_Df['avg_tcp_retrans_total'] = UserExperiance_Df['tcp_dl_retrans._vol_(bytes)'] + UserExperiance_Df['tcp_ul_retrans._vol_(bytes)']"
   ]
  },
  {
   "cell_type": "code",
   "execution_count": 12,
   "id": "ae5b36e5",
   "metadata": {},
   "outputs": [
    {
     "data": {
      "text/html": [
       "<div>\n",
       "<style scoped>\n",
       "    .dataframe tbody tr th:only-of-type {\n",
       "        vertical-align: middle;\n",
       "    }\n",
       "\n",
       "    .dataframe tbody tr th {\n",
       "        vertical-align: top;\n",
       "    }\n",
       "\n",
       "    .dataframe thead th {\n",
       "        text-align: right;\n",
       "    }\n",
       "</style>\n",
       "<table border=\"1\" class=\"dataframe\">\n",
       "  <thead>\n",
       "    <tr style=\"text-align: right;\">\n",
       "      <th></th>\n",
       "      <th>msisdn/number</th>\n",
       "      <th>avg_rtt_dl_(ms)</th>\n",
       "      <th>avg_rtt_ul_(ms)</th>\n",
       "      <th>avg_bearer_tp_dl_(kbps)</th>\n",
       "      <th>avg_bearer_tp_ul_(kbps)</th>\n",
       "      <th>tcp_dl_retrans._vol_(bytes)</th>\n",
       "      <th>tcp_ul_retrans._vol_(bytes)</th>\n",
       "      <th>handset_type</th>\n",
       "      <th>avg_rtt_total</th>\n",
       "      <th>avg_bearer_tp_total</th>\n",
       "      <th>avg_tcp_retrans_total</th>\n",
       "    </tr>\n",
       "  </thead>\n",
       "  <tbody>\n",
       "    <tr>\n",
       "      <th>0</th>\n",
       "      <td>3.366496e+10</td>\n",
       "      <td>3.737670</td>\n",
       "      <td>1.609438</td>\n",
       "      <td>3.135494</td>\n",
       "      <td>3.784190</td>\n",
       "      <td>13.251161</td>\n",
       "      <td>9.94987</td>\n",
       "      <td>Samsung Galaxy A5 Sm-A520F</td>\n",
       "      <td>5.347108</td>\n",
       "      <td>6.919684</td>\n",
       "      <td>23.201031</td>\n",
       "    </tr>\n",
       "    <tr>\n",
       "      <th>1</th>\n",
       "      <td>3.368185e+10</td>\n",
       "      <td>4.174387</td>\n",
       "      <td>1.609438</td>\n",
       "      <td>2.772589</td>\n",
       "      <td>3.258097</td>\n",
       "      <td>13.251161</td>\n",
       "      <td>9.94987</td>\n",
       "      <td>Samsung Galaxy J5 (Sm-J530)</td>\n",
       "      <td>5.783825</td>\n",
       "      <td>6.030685</td>\n",
       "      <td>23.201031</td>\n",
       "    </tr>\n",
       "    <tr>\n",
       "      <th>2</th>\n",
       "      <td>3.376063e+10</td>\n",
       "      <td>3.806662</td>\n",
       "      <td>1.609438</td>\n",
       "      <td>1.791759</td>\n",
       "      <td>2.197225</td>\n",
       "      <td>13.251161</td>\n",
       "      <td>9.94987</td>\n",
       "      <td>Samsung Galaxy A8 (2018)</td>\n",
       "      <td>5.416100</td>\n",
       "      <td>3.988984</td>\n",
       "      <td>23.201031</td>\n",
       "    </tr>\n",
       "    <tr>\n",
       "      <th>3</th>\n",
       "      <td>3.375034e+10</td>\n",
       "      <td>3.806662</td>\n",
       "      <td>1.609438</td>\n",
       "      <td>3.784190</td>\n",
       "      <td>3.784190</td>\n",
       "      <td>13.251161</td>\n",
       "      <td>9.94987</td>\n",
       "      <td>undefined</td>\n",
       "      <td>5.416100</td>\n",
       "      <td>7.568379</td>\n",
       "      <td>23.201031</td>\n",
       "    </tr>\n",
       "    <tr>\n",
       "      <th>4</th>\n",
       "      <td>3.369980e+10</td>\n",
       "      <td>3.806662</td>\n",
       "      <td>1.609438</td>\n",
       "      <td>1.791759</td>\n",
       "      <td>2.197225</td>\n",
       "      <td>13.251161</td>\n",
       "      <td>9.94987</td>\n",
       "      <td>Samsung Sm-G390F</td>\n",
       "      <td>5.416100</td>\n",
       "      <td>3.988984</td>\n",
       "      <td>23.201031</td>\n",
       "    </tr>\n",
       "  </tbody>\n",
       "</table>\n",
       "</div>"
      ],
      "text/plain": [
       "   msisdn/number  avg_rtt_dl_(ms)  avg_rtt_ul_(ms)  avg_bearer_tp_dl_(kbps)  \\\n",
       "0   3.366496e+10         3.737670         1.609438                 3.135494   \n",
       "1   3.368185e+10         4.174387         1.609438                 2.772589   \n",
       "2   3.376063e+10         3.806662         1.609438                 1.791759   \n",
       "3   3.375034e+10         3.806662         1.609438                 3.784190   \n",
       "4   3.369980e+10         3.806662         1.609438                 1.791759   \n",
       "\n",
       "   avg_bearer_tp_ul_(kbps)  tcp_dl_retrans._vol_(bytes)  \\\n",
       "0                 3.784190                    13.251161   \n",
       "1                 3.258097                    13.251161   \n",
       "2                 2.197225                    13.251161   \n",
       "3                 3.784190                    13.251161   \n",
       "4                 2.197225                    13.251161   \n",
       "\n",
       "   tcp_ul_retrans._vol_(bytes)                 handset_type  avg_rtt_total  \\\n",
       "0                      9.94987   Samsung Galaxy A5 Sm-A520F       5.347108   \n",
       "1                      9.94987  Samsung Galaxy J5 (Sm-J530)       5.783825   \n",
       "2                      9.94987     Samsung Galaxy A8 (2018)       5.416100   \n",
       "3                      9.94987                    undefined       5.416100   \n",
       "4                      9.94987             Samsung Sm-G390F       5.416100   \n",
       "\n",
       "   avg_bearer_tp_total  avg_tcp_retrans_total  \n",
       "0             6.919684              23.201031  \n",
       "1             6.030685              23.201031  \n",
       "2             3.988984              23.201031  \n",
       "3             7.568379              23.201031  \n",
       "4             3.988984              23.201031  "
      ]
     },
     "execution_count": 12,
     "metadata": {},
     "output_type": "execute_result"
    }
   ],
   "source": [
    "UserExperiance_Df.head()"
   ]
  },
  {
   "cell_type": "code",
   "execution_count": 13,
   "id": "f1755576",
   "metadata": {},
   "outputs": [
    {
     "data": {
      "text/plain": [
       "msisdn/number                  0\n",
       "avg_rtt_dl_(ms)                0\n",
       "avg_rtt_ul_(ms)                0\n",
       "avg_bearer_tp_dl_(kbps)        0\n",
       "avg_bearer_tp_ul_(kbps)        0\n",
       "tcp_dl_retrans._vol_(bytes)    0\n",
       "tcp_ul_retrans._vol_(bytes)    0\n",
       "handset_type                   0\n",
       "avg_rtt_total                  0\n",
       "avg_bearer_tp_total            0\n",
       "avg_tcp_retrans_total          0\n",
       "dtype: int64"
      ]
     },
     "execution_count": 13,
     "metadata": {},
     "output_type": "execute_result"
    }
   ],
   "source": [
    "UserExperiance_Df.isnull().sum()"
   ]
  },
  {
   "cell_type": "code",
   "execution_count": 16,
   "id": "14b9478f",
   "metadata": {},
   "outputs": [
    {
     "data": {
      "text/html": [
       "<div>\n",
       "<style scoped>\n",
       "    .dataframe tbody tr th:only-of-type {\n",
       "        vertical-align: middle;\n",
       "    }\n",
       "\n",
       "    .dataframe tbody tr th {\n",
       "        vertical-align: top;\n",
       "    }\n",
       "\n",
       "    .dataframe thead th {\n",
       "        text-align: right;\n",
       "    }\n",
       "</style>\n",
       "<table border=\"1\" class=\"dataframe\">\n",
       "  <thead>\n",
       "    <tr style=\"text-align: right;\">\n",
       "      <th></th>\n",
       "      <th>msisdn/number</th>\n",
       "      <th>avg_rtt_dl_(ms)</th>\n",
       "      <th>avg_rtt_ul_(ms)</th>\n",
       "      <th>avg_bearer_tp_dl_(kbps)</th>\n",
       "      <th>avg_bearer_tp_ul_(kbps)</th>\n",
       "      <th>tcp_dl_retrans._vol_(bytes)</th>\n",
       "      <th>tcp_ul_retrans._vol_(bytes)</th>\n",
       "      <th>handset_type</th>\n",
       "      <th>avg_rtt_total</th>\n",
       "      <th>avg_bearer_tp_total</th>\n",
       "      <th>avg_tcp_retrans_total</th>\n",
       "    </tr>\n",
       "  </thead>\n",
       "  <tbody>\n",
       "    <tr>\n",
       "      <th>0</th>\n",
       "      <td>3.366496e+10</td>\n",
       "      <td>3.737670</td>\n",
       "      <td>1.609438</td>\n",
       "      <td>3.135494</td>\n",
       "      <td>3.784190</td>\n",
       "      <td>13.251161</td>\n",
       "      <td>9.94987</td>\n",
       "      <td>Samsung Galaxy A5 Sm-A520F</td>\n",
       "      <td>5.347108</td>\n",
       "      <td>6.919684</td>\n",
       "      <td>23.201031</td>\n",
       "    </tr>\n",
       "    <tr>\n",
       "      <th>1</th>\n",
       "      <td>3.368185e+10</td>\n",
       "      <td>4.174387</td>\n",
       "      <td>1.609438</td>\n",
       "      <td>2.772589</td>\n",
       "      <td>3.258097</td>\n",
       "      <td>13.251161</td>\n",
       "      <td>9.94987</td>\n",
       "      <td>Samsung Galaxy J5 (Sm-J530)</td>\n",
       "      <td>5.783825</td>\n",
       "      <td>6.030685</td>\n",
       "      <td>23.201031</td>\n",
       "    </tr>\n",
       "    <tr>\n",
       "      <th>2</th>\n",
       "      <td>3.376063e+10</td>\n",
       "      <td>3.806662</td>\n",
       "      <td>1.609438</td>\n",
       "      <td>1.791759</td>\n",
       "      <td>2.197225</td>\n",
       "      <td>13.251161</td>\n",
       "      <td>9.94987</td>\n",
       "      <td>Samsung Galaxy A8 (2018)</td>\n",
       "      <td>5.416100</td>\n",
       "      <td>3.988984</td>\n",
       "      <td>23.201031</td>\n",
       "    </tr>\n",
       "    <tr>\n",
       "      <th>3</th>\n",
       "      <td>3.375034e+10</td>\n",
       "      <td>3.806662</td>\n",
       "      <td>1.609438</td>\n",
       "      <td>3.784190</td>\n",
       "      <td>3.784190</td>\n",
       "      <td>13.251161</td>\n",
       "      <td>9.94987</td>\n",
       "      <td>undefined</td>\n",
       "      <td>5.416100</td>\n",
       "      <td>7.568379</td>\n",
       "      <td>23.201031</td>\n",
       "    </tr>\n",
       "    <tr>\n",
       "      <th>4</th>\n",
       "      <td>3.369980e+10</td>\n",
       "      <td>3.806662</td>\n",
       "      <td>1.609438</td>\n",
       "      <td>1.791759</td>\n",
       "      <td>2.197225</td>\n",
       "      <td>13.251161</td>\n",
       "      <td>9.94987</td>\n",
       "      <td>Samsung Sm-G390F</td>\n",
       "      <td>5.416100</td>\n",
       "      <td>3.988984</td>\n",
       "      <td>23.201031</td>\n",
       "    </tr>\n",
       "    <tr>\n",
       "      <th>...</th>\n",
       "      <td>...</td>\n",
       "      <td>...</td>\n",
       "      <td>...</td>\n",
       "      <td>...</td>\n",
       "      <td>...</td>\n",
       "      <td>...</td>\n",
       "      <td>...</td>\n",
       "      <td>...</td>\n",
       "      <td>...</td>\n",
       "      <td>...</td>\n",
       "      <td>...</td>\n",
       "    </tr>\n",
       "    <tr>\n",
       "      <th>149996</th>\n",
       "      <td>3.365069e+10</td>\n",
       "      <td>3.465736</td>\n",
       "      <td>-inf</td>\n",
       "      <td>3.951244</td>\n",
       "      <td>4.174387</td>\n",
       "      <td>13.251161</td>\n",
       "      <td>9.94987</td>\n",
       "      <td>Apple iPhone 8 Plus (A1897)</td>\n",
       "      <td>-inf</td>\n",
       "      <td>8.125631</td>\n",
       "      <td>23.201031</td>\n",
       "    </tr>\n",
       "    <tr>\n",
       "      <th>149997</th>\n",
       "      <td>3.366345e+10</td>\n",
       "      <td>3.295837</td>\n",
       "      <td>0.693147</td>\n",
       "      <td>3.135494</td>\n",
       "      <td>3.988984</td>\n",
       "      <td>13.251161</td>\n",
       "      <td>9.94987</td>\n",
       "      <td>Apple iPhone Se (A1723)</td>\n",
       "      <td>3.988984</td>\n",
       "      <td>7.124478</td>\n",
       "      <td>23.201031</td>\n",
       "    </tr>\n",
       "    <tr>\n",
       "      <th>149998</th>\n",
       "      <td>3.362189e+10</td>\n",
       "      <td>3.761200</td>\n",
       "      <td>1.791759</td>\n",
       "      <td>3.761200</td>\n",
       "      <td>3.850148</td>\n",
       "      <td>13.251161</td>\n",
       "      <td>9.94987</td>\n",
       "      <td>Apple iPhone Xs (A2097)</td>\n",
       "      <td>5.552960</td>\n",
       "      <td>7.611348</td>\n",
       "      <td>23.201031</td>\n",
       "    </tr>\n",
       "    <tr>\n",
       "      <th>149999</th>\n",
       "      <td>3.361962e+10</td>\n",
       "      <td>3.610918</td>\n",
       "      <td>1.609438</td>\n",
       "      <td>3.526361</td>\n",
       "      <td>3.610918</td>\n",
       "      <td>13.251161</td>\n",
       "      <td>9.94987</td>\n",
       "      <td>Huawei Fig-Lx1</td>\n",
       "      <td>5.220356</td>\n",
       "      <td>7.137278</td>\n",
       "      <td>23.201031</td>\n",
       "    </tr>\n",
       "    <tr>\n",
       "      <th>150000</th>\n",
       "      <td>3.366371e+10</td>\n",
       "      <td>3.806662</td>\n",
       "      <td>1.609438</td>\n",
       "      <td>4.143135</td>\n",
       "      <td>4.143135</td>\n",
       "      <td>13.251161</td>\n",
       "      <td>9.94987</td>\n",
       "      <td>Huawei B528S-23A</td>\n",
       "      <td>5.416100</td>\n",
       "      <td>8.286269</td>\n",
       "      <td>23.201031</td>\n",
       "    </tr>\n",
       "  </tbody>\n",
       "</table>\n",
       "<p>150001 rows × 11 columns</p>\n",
       "</div>"
      ],
      "text/plain": [
       "        msisdn/number  avg_rtt_dl_(ms)  avg_rtt_ul_(ms)  \\\n",
       "0        3.366496e+10         3.737670         1.609438   \n",
       "1        3.368185e+10         4.174387         1.609438   \n",
       "2        3.376063e+10         3.806662         1.609438   \n",
       "3        3.375034e+10         3.806662         1.609438   \n",
       "4        3.369980e+10         3.806662         1.609438   \n",
       "...               ...              ...              ...   \n",
       "149996   3.365069e+10         3.465736             -inf   \n",
       "149997   3.366345e+10         3.295837         0.693147   \n",
       "149998   3.362189e+10         3.761200         1.791759   \n",
       "149999   3.361962e+10         3.610918         1.609438   \n",
       "150000   3.366371e+10         3.806662         1.609438   \n",
       "\n",
       "        avg_bearer_tp_dl_(kbps)  avg_bearer_tp_ul_(kbps)  \\\n",
       "0                      3.135494                 3.784190   \n",
       "1                      2.772589                 3.258097   \n",
       "2                      1.791759                 2.197225   \n",
       "3                      3.784190                 3.784190   \n",
       "4                      1.791759                 2.197225   \n",
       "...                         ...                      ...   \n",
       "149996                 3.951244                 4.174387   \n",
       "149997                 3.135494                 3.988984   \n",
       "149998                 3.761200                 3.850148   \n",
       "149999                 3.526361                 3.610918   \n",
       "150000                 4.143135                 4.143135   \n",
       "\n",
       "        tcp_dl_retrans._vol_(bytes)  tcp_ul_retrans._vol_(bytes)  \\\n",
       "0                         13.251161                      9.94987   \n",
       "1                         13.251161                      9.94987   \n",
       "2                         13.251161                      9.94987   \n",
       "3                         13.251161                      9.94987   \n",
       "4                         13.251161                      9.94987   \n",
       "...                             ...                          ...   \n",
       "149996                    13.251161                      9.94987   \n",
       "149997                    13.251161                      9.94987   \n",
       "149998                    13.251161                      9.94987   \n",
       "149999                    13.251161                      9.94987   \n",
       "150000                    13.251161                      9.94987   \n",
       "\n",
       "                       handset_type  avg_rtt_total  avg_bearer_tp_total  \\\n",
       "0        Samsung Galaxy A5 Sm-A520F       5.347108             6.919684   \n",
       "1       Samsung Galaxy J5 (Sm-J530)       5.783825             6.030685   \n",
       "2          Samsung Galaxy A8 (2018)       5.416100             3.988984   \n",
       "3                         undefined       5.416100             7.568379   \n",
       "4                  Samsung Sm-G390F       5.416100             3.988984   \n",
       "...                             ...            ...                  ...   \n",
       "149996  Apple iPhone 8 Plus (A1897)           -inf             8.125631   \n",
       "149997      Apple iPhone Se (A1723)       3.988984             7.124478   \n",
       "149998      Apple iPhone Xs (A2097)       5.552960             7.611348   \n",
       "149999               Huawei Fig-Lx1       5.220356             7.137278   \n",
       "150000             Huawei B528S-23A       5.416100             8.286269   \n",
       "\n",
       "        avg_tcp_retrans_total  \n",
       "0                   23.201031  \n",
       "1                   23.201031  \n",
       "2                   23.201031  \n",
       "3                   23.201031  \n",
       "4                   23.201031  \n",
       "...                       ...  \n",
       "149996              23.201031  \n",
       "149997              23.201031  \n",
       "149998              23.201031  \n",
       "149999              23.201031  \n",
       "150000              23.201031  \n",
       "\n",
       "[150001 rows x 11 columns]"
      ]
     },
     "execution_count": 16,
     "metadata": {},
     "output_type": "execute_result"
    }
   ],
   "source": [
    "UserExperiance_Df"
   ]
  },
  {
   "cell_type": "markdown",
   "id": "5bf5c09f",
   "metadata": {},
   "source": [
    "# Find the Aggregate Value per customer "
   ]
  },
  {
   "cell_type": "code",
   "execution_count": 17,
   "id": "4bb1e20f",
   "metadata": {},
   "outputs": [
    {
     "data": {
      "text/html": [
       "<div>\n",
       "<style scoped>\n",
       "    .dataframe tbody tr th:only-of-type {\n",
       "        vertical-align: middle;\n",
       "    }\n",
       "\n",
       "    .dataframe tbody tr th {\n",
       "        vertical-align: top;\n",
       "    }\n",
       "\n",
       "    .dataframe thead tr th {\n",
       "        text-align: left;\n",
       "    }\n",
       "\n",
       "    .dataframe thead tr:last-of-type th {\n",
       "        text-align: right;\n",
       "    }\n",
       "</style>\n",
       "<table border=\"1\" class=\"dataframe\">\n",
       "  <thead>\n",
       "    <tr>\n",
       "      <th></th>\n",
       "      <th>avg_rtt_total</th>\n",
       "      <th>avg_bearer_tp_total</th>\n",
       "      <th>avg_tcp_retrans_total</th>\n",
       "      <th>handset_type</th>\n",
       "    </tr>\n",
       "    <tr>\n",
       "      <th></th>\n",
       "      <th>sum</th>\n",
       "      <th>sum</th>\n",
       "      <th>sum</th>\n",
       "      <th>&lt;lambda&gt;</th>\n",
       "    </tr>\n",
       "    <tr>\n",
       "      <th>msisdn/number</th>\n",
       "      <th></th>\n",
       "      <th></th>\n",
       "      <th></th>\n",
       "      <th></th>\n",
       "    </tr>\n",
       "  </thead>\n",
       "  <tbody>\n",
       "    <tr>\n",
       "      <th>3.360100e+10</th>\n",
       "      <td>-inf</td>\n",
       "      <td>7.274480</td>\n",
       "      <td>23.201031</td>\n",
       "      <td>Huawei P20 Lite Huawei Nova 3E</td>\n",
       "    </tr>\n",
       "    <tr>\n",
       "      <th>3.360100e+10</th>\n",
       "      <td>3.401197</td>\n",
       "      <td>7.803027</td>\n",
       "      <td>23.201031</td>\n",
       "      <td>Apple iPhone 7 (A1778)</td>\n",
       "    </tr>\n",
       "    <tr>\n",
       "      <th>3.360100e+10</th>\n",
       "      <td>5.416100</td>\n",
       "      <td>7.763021</td>\n",
       "      <td>23.201031</td>\n",
       "      <td>undefined</td>\n",
       "    </tr>\n",
       "    <tr>\n",
       "      <th>3.360101e+10</th>\n",
       "      <td>6.942157</td>\n",
       "      <td>9.102310</td>\n",
       "      <td>16.921539</td>\n",
       "      <td>Apple iPhone 5S (A1457)</td>\n",
       "    </tr>\n",
       "    <tr>\n",
       "      <th>3.360101e+10</th>\n",
       "      <td>-inf</td>\n",
       "      <td>27.135851</td>\n",
       "      <td>49.213729</td>\n",
       "      <td>Apple iPhone Se (A1723)</td>\n",
       "    </tr>\n",
       "  </tbody>\n",
       "</table>\n",
       "</div>"
      ],
      "text/plain": [
       "              avg_rtt_total avg_bearer_tp_total avg_tcp_retrans_total  \\\n",
       "                        sum                 sum                   sum   \n",
       "msisdn/number                                                           \n",
       "3.360100e+10           -inf            7.274480             23.201031   \n",
       "3.360100e+10       3.401197            7.803027             23.201031   \n",
       "3.360100e+10       5.416100            7.763021             23.201031   \n",
       "3.360101e+10       6.942157            9.102310             16.921539   \n",
       "3.360101e+10           -inf           27.135851             49.213729   \n",
       "\n",
       "                                 handset_type  \n",
       "                                     <lambda>  \n",
       "msisdn/number                                  \n",
       "3.360100e+10   Huawei P20 Lite Huawei Nova 3E  \n",
       "3.360100e+10           Apple iPhone 7 (A1778)  \n",
       "3.360100e+10                        undefined  \n",
       "3.360101e+10          Apple iPhone 5S (A1457)  \n",
       "3.360101e+10          Apple iPhone Se (A1723)  "
      ]
     },
     "execution_count": 17,
     "metadata": {},
     "output_type": "execute_result"
    }
   ],
   "source": [
    "UserExperiance_Df_agg = UserExperiance_Df.groupby('msisdn/number').agg({\n",
    "    'avg_rtt_total': 'sum',\n",
    "    'avg_bearer_tp_total': 'sum',\n",
    "    'avg_tcp_retrans_total': 'sum',\n",
    "    'handset_type': [lambda x: x.mode()[0]]})\n",
    "\n",
    "UserExperiance_Df_agg.head(5)"
   ]
  },
  {
   "cell_type": "code",
   "execution_count": 23,
   "id": "dd678bf7",
   "metadata": {},
   "outputs": [],
   "source": [
    "# UserExperiance_Df_agg\n",
    "UserExperiance_Df2 = pd.DataFrame()"
   ]
  },
  {
   "cell_type": "code",
   "execution_count": 24,
   "id": "6345c0eb",
   "metadata": {},
   "outputs": [
    {
     "data": {
      "text/html": [
       "<div>\n",
       "<style scoped>\n",
       "    .dataframe tbody tr th:only-of-type {\n",
       "        vertical-align: middle;\n",
       "    }\n",
       "\n",
       "    .dataframe tbody tr th {\n",
       "        vertical-align: top;\n",
       "    }\n",
       "\n",
       "    .dataframe thead th {\n",
       "        text-align: right;\n",
       "    }\n",
       "</style>\n",
       "<table border=\"1\" class=\"dataframe\">\n",
       "  <thead>\n",
       "    <tr style=\"text-align: right;\">\n",
       "      <th></th>\n",
       "      <th>avg_rtt_total</th>\n",
       "      <th>avg_tp_total</th>\n",
       "      <th>total_avg_tcp_total</th>\n",
       "      <th>handset_type</th>\n",
       "    </tr>\n",
       "    <tr>\n",
       "      <th>msisdn/number</th>\n",
       "      <th></th>\n",
       "      <th></th>\n",
       "      <th></th>\n",
       "      <th></th>\n",
       "    </tr>\n",
       "  </thead>\n",
       "  <tbody>\n",
       "    <tr>\n",
       "      <th>3.360100e+10</th>\n",
       "      <td>-inf</td>\n",
       "      <td>7.274480</td>\n",
       "      <td>23.201031</td>\n",
       "      <td>Huawei P20 Lite Huawei Nova 3E</td>\n",
       "    </tr>\n",
       "    <tr>\n",
       "      <th>3.360100e+10</th>\n",
       "      <td>3.401197</td>\n",
       "      <td>7.803027</td>\n",
       "      <td>23.201031</td>\n",
       "      <td>Apple iPhone 7 (A1778)</td>\n",
       "    </tr>\n",
       "    <tr>\n",
       "      <th>3.360100e+10</th>\n",
       "      <td>5.416100</td>\n",
       "      <td>7.763021</td>\n",
       "      <td>23.201031</td>\n",
       "      <td>undefined</td>\n",
       "    </tr>\n",
       "    <tr>\n",
       "      <th>3.360101e+10</th>\n",
       "      <td>6.942157</td>\n",
       "      <td>9.102310</td>\n",
       "      <td>16.921539</td>\n",
       "      <td>Apple iPhone 5S (A1457)</td>\n",
       "    </tr>\n",
       "    <tr>\n",
       "      <th>3.360101e+10</th>\n",
       "      <td>-inf</td>\n",
       "      <td>27.135851</td>\n",
       "      <td>49.213729</td>\n",
       "      <td>Apple iPhone Se (A1723)</td>\n",
       "    </tr>\n",
       "  </tbody>\n",
       "</table>\n",
       "</div>"
      ],
      "text/plain": [
       "               avg_rtt_total  avg_tp_total  total_avg_tcp_total  \\\n",
       "msisdn/number                                                     \n",
       "3.360100e+10            -inf      7.274480            23.201031   \n",
       "3.360100e+10        3.401197      7.803027            23.201031   \n",
       "3.360100e+10        5.416100      7.763021            23.201031   \n",
       "3.360101e+10        6.942157      9.102310            16.921539   \n",
       "3.360101e+10            -inf     27.135851            49.213729   \n",
       "\n",
       "                                 handset_type  \n",
       "msisdn/number                                  \n",
       "3.360100e+10   Huawei P20 Lite Huawei Nova 3E  \n",
       "3.360100e+10           Apple iPhone 7 (A1778)  \n",
       "3.360100e+10                        undefined  \n",
       "3.360101e+10          Apple iPhone 5S (A1457)  \n",
       "3.360101e+10          Apple iPhone Se (A1723)  "
      ]
     },
     "execution_count": 24,
     "metadata": {},
     "output_type": "execute_result"
    }
   ],
   "source": [
    "UserExperiance_Df2[\"avg_rtt_total\"] = UserExperiance_Df_agg[\"avg_rtt_total\"]['sum']\n",
    "UserExperiance_Df2[\"avg_tp_total\"] = UserExperiance_Df_agg[\"avg_bearer_tp_total\"]['sum']\n",
    "UserExperiance_Df2[\"total_avg_tcp_total\"] = UserExperiance_Df_agg[\"avg_tcp_retrans_total\"]['sum']\n",
    "UserExperiance_Df2[\"handset_type\"] = UserExperiance_Df_agg[\"handset_type\"]['<lambda>']\n",
    "UserExperiance_Df2.head()"
   ]
  },
  {
   "cell_type": "markdown",
   "id": "f532f286",
   "metadata": {},
   "source": [
    "# Top 10 top TCP Retransmission"
   ]
  },
  {
   "cell_type": "code",
   "execution_count": 25,
   "id": "6ac21e15",
   "metadata": {},
   "outputs": [],
   "source": [
    "Top_10_TCP_retransmission = UserExperiance_Df.nlargest(10, 'avg_bearer_tp_total')['avg_bearer_tp_total']\n"
   ]
  },
  {
   "cell_type": "code",
   "execution_count": 33,
   "id": "b65ad407",
   "metadata": {},
   "outputs": [],
   "source": [
    "# Bottom 10 TCP\n",
    "Bottom_10_TCP = UserExperiance_Df.nsmallest(10, 'avg_bearer_tp_total')['avg_bearer_tp_total']\n",
    "#Bottom_10_TCP.head(5)"
   ]
  },
  {
   "cell_type": "code",
   "execution_count": 29,
   "id": "812cbf4a",
   "metadata": {},
   "outputs": [],
   "source": [
    "Most_Frequent_TCP = UserExperiance_Df.value_counts('avg_bearer_tp_total').nlargest(10)"
   ]
  },
  {
   "cell_type": "code",
   "execution_count": 41,
   "id": "40d246e2",
   "metadata": {},
   "outputs": [
    {
     "name": "stderr",
     "output_type": "stream",
     "text": [
      "C:\\ProgramData\\Anaconda3\\lib\\site-packages\\numpy\\lib\\function_base.py:4009: RuntimeWarning: invalid value encountered in subtract\n",
      "  diff_b_a = subtract(b, a)\n"
     ]
    },
    {
     "data": {
      "text/plain": [
       "[]"
      ]
     },
     "execution_count": 41,
     "metadata": {},
     "output_type": "execute_result"
    },
    {
     "data": {
      "image/png": "[encoded data removed]",
      "text/plain": [
       "<Figure size 1080x360 with 3 Axes>"
      ]
     },
     "metadata": {
      "needs_background": "light"
     },
     "output_type": "display_data"
    }
   ],
   "source": [
    "fig, axes = plt.subplots(1, 3, figsize=(15, 5))\n",
    "Top_10_TCP_retransmission1 = sns.barplot(data=Top_10_TCP_retransmission, x=Top_10_TCP_retransmission.index, orient='v', y=Top_10_TCP_retransmission, ax=axes[0], palette='Reds_d')\n",
    "Bottom_10_TCP1 = sns.barplot(data=Bottom_10_TCP, x=Bottom_10_TCP.index,orient='v', y=Bottom_10_TCP.values, ax=axes[1], palette='Blues_d')\n",
    "Most_Frequent_TCP1 = sns.barplot(data=Most_Frequent_TCP, x=Most_Frequent_TCP.index,orient='v', y=Most_Frequent_TCP.values, ax=axes[2], palette='Greens_d')\n",
    "Top_10_TCP_retransmission1.set_xticklabels(Top_10_TCP_retransmission1.xaxis.get_majorticklabels(), rotation=45)\n",
    "Bottom_10_TCP1.set_xticklabels(Bottom_10_TCP1.xaxis.get_majorticklabels(), rotation=45)\n",
    "Most_Frequent_TCP1.set_xticklabels(Most_Frequent_TCP1.xaxis.get_majorticklabels(), rotation=45)\n",
    "plt.plot()"
   ]
  },
  {
   "cell_type": "markdown",
   "id": "55df05a4",
   "metadata": {},
   "source": [
    "# Per RTT VAlue"
   ]
  },
  {
   "cell_type": "code",
   "execution_count": 42,
   "id": "8deef974",
   "metadata": {},
   "outputs": [],
   "source": [
    "top_10_rtt = UserExperiance_Df.nlargest(10, 'avg_rtt_total')['avg_rtt_total']\n",
    "bottom_10_rtt = UserExperiance_Df.nsmallest(10, 'avg_rtt_total')['avg_rtt_total']\n",
    "most_frequent_rtt = UserExperiance_Df.value_counts('avg_rtt_total').nlargest(10)"
   ]
  },
  {
   "cell_type": "markdown",
   "id": "09a08f45",
   "metadata": {},
   "source": [
    "# Produce Plots of RTT Values"
   ]
  },
  {
   "cell_type": "code",
   "execution_count": 44,
   "id": "52b1b22f",
   "metadata": {},
   "outputs": [
    {
     "name": "stderr",
     "output_type": "stream",
     "text": [
      "C:\\ProgramData\\Anaconda3\\lib\\site-packages\\numpy\\lib\\function_base.py:4009: RuntimeWarning: invalid value encountered in subtract\n",
      "  diff_b_a = subtract(b, a)\n"
     ]
    },
    {
     "data": {
      "text/plain": [
       "[]"
      ]
     },
     "execution_count": 44,
     "metadata": {},
     "output_type": "execute_result"
    },
    {
     "data": {
      "image/png": "[encoded data removed]",
      "text/plain": [
       "<Figure size 1800x360 with 3 Axes>"
      ]
     },
     "metadata": {
      "needs_background": "light"
     },
     "output_type": "display_data"
    }
   ],
   "source": [
    "f, axes = plt.subplots(1, 3, figsize=(25, 5))\n",
    "ax1 = sns.barplot(data=top_10_rtt, x=top_10_rtt.index, orient='v', y=top_10_rtt, ax=axes[0], palette='Blues_d')\n",
    "ax2 = sns.barplot(data=bottom_10_rtt, x=bottom_10_rtt.index,orient='v', y=bottom_10_rtt.values, ax=axes[1], palette='Blues_d')\n",
    "ax3 = sns.barplot(data=most_frequent_rtt, x=most_frequent_rtt.index,orient='v', y=most_frequent_rtt.values, ax=axes[2], palette='Greens_d')\n",
    "ax1.set_xticklabels(ax1.xaxis.get_majorticklabels(), rotation=45)\n",
    "ax2.set_xticklabels(ax2.xaxis.get_majorticklabels(), rotation=45)\n",
    "ax3.set_xticklabels(ax3.xaxis.get_majorticklabels(), rotation=45)\n",
    "plt.plot()"
   ]
  },
  {
   "cell_type": "code",
   "execution_count": null,
   "id": "e1351ee8",
   "metadata": {},
   "outputs": [],
   "source": []
  },
  {
   "cell_type": "code",
   "execution_count": null,
   "id": "c417fefc",
   "metadata": {},
   "outputs": [],
   "source": []
  },
  {
   "cell_type": "markdown",
   "id": "7ec4a733",
   "metadata": {},
   "source": [
    "# Average Throuput Value"
   ]
  },
  {
   "cell_type": "code",
   "execution_count": 45,
   "id": "51de7bc7",
   "metadata": {},
   "outputs": [],
   "source": [
    "top_10_retrans = UserExperiance_Df.nlargest(10, 'avg_tcp_retrans_total')['avg_rtt_total']\n",
    "bottom_10_retrans = UserExperiance_Df.nsmallest(10, 'avg_tcp_retrans_total')['avg_rtt_total']\n",
    "most_frequent_retrans = UserExperiance_Df.value_counts('avg_tcp_retrans_total').nlargest(10)\n"
   ]
  },
  {
   "cell_type": "code",
   "execution_count": 47,
   "id": "a5351fe0",
   "metadata": {},
   "outputs": [
    {
     "data": {
      "text/plain": [
       "[]"
      ]
     },
     "execution_count": 47,
     "metadata": {},
     "output_type": "execute_result"
    },
    {
     "data": {
      "image/png": "[encoded data removed]",
      "text/plain": [
       "<Figure size 1800x360 with 3 Axes>"
      ]
     },
     "metadata": {
      "needs_background": "light"
     },
     "output_type": "display_data"
    }
   ],
   "source": [
    "f, axes = plt.subplots(1, 3, figsize=(25, 5))\n",
    "ax1 = sns.barplot(data=top_10_retrans, x=top_10_retrans.index, orient='v', y=top_10_retrans, ax=axes[0], palette='Reds_d')\n",
    "ax2 = sns.barplot(data=bottom_10_retrans, x=bottom_10_retrans.index,orient='v', y=bottom_10_retrans.values, ax=axes[1], palette='Greens_d')\n",
    "ax3 = sns.barplot(data=most_frequent_retrans, x=most_frequent_retrans.index,orient='v', y=most_frequent_retrans.values, ax=axes[2], palette='Blues_d')\n",
    "ax1.set_xticklabels(ax1.xaxis.get_majorticklabels(), rotation=45)\n",
    "ax2.set_xticklabels(ax2.xaxis.get_majorticklabels(), rotation=45)\n",
    "ax3.set_xticklabels(ax3.xaxis.get_majorticklabels(), rotation=45)\n",
    "plt.plot()"
   ]
  },
  {
   "cell_type": "markdown",
   "id": "04414ad0",
   "metadata": {},
   "source": [
    "# Distribution of the average throughput  per handset type "
   ]
  },
  {
   "cell_type": "code",
   "execution_count": 48,
   "id": "cd4da58a",
   "metadata": {},
   "outputs": [
    {
     "data": {
      "text/html": [
       "<div>\n",
       "<style scoped>\n",
       "    .dataframe tbody tr th:only-of-type {\n",
       "        vertical-align: middle;\n",
       "    }\n",
       "\n",
       "    .dataframe tbody tr th {\n",
       "        vertical-align: top;\n",
       "    }\n",
       "\n",
       "    .dataframe thead th {\n",
       "        text-align: right;\n",
       "    }\n",
       "</style>\n",
       "<table border=\"1\" class=\"dataframe\">\n",
       "  <thead>\n",
       "    <tr style=\"text-align: right;\">\n",
       "      <th></th>\n",
       "      <th>avg_bearer_tp_total</th>\n",
       "      <th>avg_tcp_retrans_total</th>\n",
       "    </tr>\n",
       "    <tr>\n",
       "      <th>handset_type</th>\n",
       "      <th></th>\n",
       "      <th></th>\n",
       "    </tr>\n",
       "  </thead>\n",
       "  <tbody>\n",
       "    <tr>\n",
       "      <th>A-Link Telecom I. Cubot A5</th>\n",
       "      <td>15.838115</td>\n",
       "      <td>23.201031</td>\n",
       "    </tr>\n",
       "    <tr>\n",
       "      <th>A-Link Telecom I. Cubot Note Plus</th>\n",
       "      <td>13.931197</td>\n",
       "      <td>22.845643</td>\n",
       "    </tr>\n",
       "    <tr>\n",
       "      <th>A-Link Telecom I. Cubot Note S</th>\n",
       "      <td>15.094590</td>\n",
       "      <td>28.653651</td>\n",
       "    </tr>\n",
       "    <tr>\n",
       "      <th>A-Link Telecom I. Cubot Nova</th>\n",
       "      <td>17.237061</td>\n",
       "      <td>19.012167</td>\n",
       "    </tr>\n",
       "    <tr>\n",
       "      <th>A-Link Telecom I. Cubot Power</th>\n",
       "      <td>16.978497</td>\n",
       "      <td>14.450689</td>\n",
       "    </tr>\n",
       "  </tbody>\n",
       "</table>\n",
       "</div>"
      ],
      "text/plain": [
       "                                   avg_bearer_tp_total  avg_tcp_retrans_total\n",
       "handset_type                                                                 \n",
       "A-Link Telecom I. Cubot A5                   15.838115              23.201031\n",
       "A-Link Telecom I. Cubot Note Plus            13.931197              22.845643\n",
       "A-Link Telecom I. Cubot Note S               15.094590              28.653651\n",
       "A-Link Telecom I. Cubot Nova                 17.237061              19.012167\n",
       "A-Link Telecom I. Cubot Power                16.978497              14.450689"
      ]
     },
     "execution_count": 48,
     "metadata": {},
     "output_type": "execute_result"
    }
   ],
   "source": [
    "HandsetType_Agg = UserExperiance_Df.groupby('handset_type').agg(\n",
    "    {'avg_bearer_tp_total': 'mean', 'avg_tcp_retrans_total': 'mean'})\n",
    "HandsetType_Agg.head()"
   ]
  },
  {
   "cell_type": "markdown",
   "id": "f58e0351",
   "metadata": {},
   "source": [
    "# The top Ten Handset types with higher average throuhput"
   ]
  },
  {
   "cell_type": "code",
   "execution_count": 54,
   "id": "9771511f",
   "metadata": {},
   "outputs": [
    {
     "data": {
      "image/png": "[encoded data removed]",
      "text/plain": [
       "<Figure size 864x504 with 1 Axes>"
      ]
     },
     "metadata": {
      "needs_background": "light"
     },
     "output_type": "display_data"
    }
   ],
   "source": [
    "TopTen_HandsetType=HandsetType_Agg.nlargest(10,\"avg_bearer_tp_total\")\n",
    "\n",
    "TopTen_HandsetType.nlargest(10, 'avg_bearer_tp_total')\n",
    "plt.figure(figsize=(12, 7))\n",
    "sns.barplot(data=TopTen_HandsetType, x=TopTen_HandsetType.index, y=TopTen_HandsetType.avg_bearer_tp_total)\n",
    "plt.title(\"Top 10 Handset type per Average throuput\", size=20)\n",
    "plt.xticks(rotation=75, fontsize=14)\n",
    "plt.yticks(fontsize=14)\n",
    "plt.xlabel(\"handset Type\", fontsize=16)\n",
    "plt.ylabel(\" Through put\", fontsize=16)\n",
    "\n",
    "plt.show()\n"
   ]
  },
  {
   "cell_type": "markdown",
   "id": "bca6cb03",
   "metadata": {},
   "source": [
    "# Average TCP Retransmission count"
   ]
  },
  {
   "cell_type": "code",
   "execution_count": 55,
   "id": "99d3653d",
   "metadata": {},
   "outputs": [
    {
     "data": {
      "image/png": "[encoded data removed]",
      "text/plain": [
       "<Figure size 1080x504 with 1 Axes>"
      ]
     },
     "metadata": {
      "needs_background": "light"
     },
     "output_type": "display_data"
    }
   ],
   "source": [
    "Top_Ten_TCP_RTT = HandsetType_Agg.nlargest(10, 'avg_tcp_retrans_total')\n",
    "plt.figure(figsize=(15, 7))\n",
    "sns.barplot(data=Top_Ten_TCP_RTT, x=Top_Ten_TCP_RTT.index, y=Top_Ten_TCP_RTT.avg_bearer_tp_total)\n",
    "plt.title(\"Top 10 Handset type per Average throupuTCP Retransmission\", size=20)\n",
    "plt.xticks(rotation=75, fontsize=14)\n",
    "plt.yticks(fontsize=14)\n",
    "plt.xlabel(\"Handset Type\", fontsize=16)\n",
    "plt.ylabel(\" Through put\", fontsize=16)\n",
    "\n",
    "plt.show()"
   ]
  },
  {
   "cell_type": "markdown",
   "id": "f221199e",
   "metadata": {},
   "source": [
    "# K-Means Clustering for the above Metrics Using K=3 "
   ]
  },
  {
   "cell_type": "code",
   "execution_count": 58,
   "id": "06d4cd42",
   "metadata": {},
   "outputs": [
    {
     "data": {
      "text/plain": [
       "avg_rtt_total          sum         701\n",
       "avg_bearer_tp_total    sum         414\n",
       "avg_tcp_retrans_total  sum           0\n",
       "handset_type           <lambda>      0\n",
       "avg_tp_total                       414\n",
       "total_avg_tcp_total                  0\n",
       "dtype: int64"
      ]
     },
     "execution_count": 58,
     "metadata": {},
     "output_type": "execute_result"
    }
   ],
   "source": [
    "# To do there are some -inf and null values that should first be handeled. so apply \n",
    "UserExperiance_Df_agg.isnull().sum()"
   ]
  },
  {
   "cell_type": "code",
   "execution_count": 61,
   "id": "d9a9f167",
   "metadata": {},
   "outputs": [],
   "source": [
    "import numpy as np\n",
    "User_Experiance = UserExperiance_Df_agg.drop(['handset_type'], axis=1)"
   ]
  },
  {
   "cell_type": "code",
   "execution_count": 62,
   "id": "b7d9bc82",
   "metadata": {},
   "outputs": [],
   "source": [
    "User_Experiance.replace([np.inf, -np.inf], np.nan, inplace=True)"
   ]
  },
  {
   "cell_type": "code",
   "execution_count": 72,
   "id": "2720a29b",
   "metadata": {},
   "outputs": [
    {
     "data": {
      "text/html": [
       "<div>\n",
       "<style scoped>\n",
       "    .dataframe tbody tr th:only-of-type {\n",
       "        vertical-align: middle;\n",
       "    }\n",
       "\n",
       "    .dataframe tbody tr th {\n",
       "        vertical-align: top;\n",
       "    }\n",
       "\n",
       "    .dataframe thead tr th {\n",
       "        text-align: left;\n",
       "    }\n",
       "\n",
       "    .dataframe thead tr:last-of-type th {\n",
       "        text-align: right;\n",
       "    }\n",
       "</style>\n",
       "<table border=\"1\" class=\"dataframe\">\n",
       "  <thead>\n",
       "    <tr>\n",
       "      <th></th>\n",
       "      <th>avg_rtt_total</th>\n",
       "      <th>avg_bearer_tp_total</th>\n",
       "      <th>avg_tcp_retrans_total</th>\n",
       "      <th>avg_tp_total</th>\n",
       "      <th>total_avg_tcp_total</th>\n",
       "    </tr>\n",
       "    <tr>\n",
       "      <th></th>\n",
       "      <th>sum</th>\n",
       "      <th>sum</th>\n",
       "      <th>sum</th>\n",
       "      <th></th>\n",
       "      <th></th>\n",
       "    </tr>\n",
       "    <tr>\n",
       "      <th>msisdn/number</th>\n",
       "      <th></th>\n",
       "      <th></th>\n",
       "      <th></th>\n",
       "      <th></th>\n",
       "      <th></th>\n",
       "    </tr>\n",
       "  </thead>\n",
       "  <tbody>\n",
       "    <tr>\n",
       "      <th>3.360100e+10</th>\n",
       "      <td>8.114390</td>\n",
       "      <td>7.274480</td>\n",
       "      <td>23.201031</td>\n",
       "      <td>7.274480</td>\n",
       "      <td>23.201031</td>\n",
       "    </tr>\n",
       "    <tr>\n",
       "      <th>3.360100e+10</th>\n",
       "      <td>3.401197</td>\n",
       "      <td>7.803027</td>\n",
       "      <td>23.201031</td>\n",
       "      <td>7.803027</td>\n",
       "      <td>23.201031</td>\n",
       "    </tr>\n",
       "    <tr>\n",
       "      <th>3.360100e+10</th>\n",
       "      <td>5.416100</td>\n",
       "      <td>7.763021</td>\n",
       "      <td>23.201031</td>\n",
       "      <td>7.763021</td>\n",
       "      <td>23.201031</td>\n",
       "    </tr>\n",
       "    <tr>\n",
       "      <th>3.360101e+10</th>\n",
       "      <td>6.942157</td>\n",
       "      <td>9.102310</td>\n",
       "      <td>16.921539</td>\n",
       "      <td>9.102310</td>\n",
       "      <td>16.921539</td>\n",
       "    </tr>\n",
       "    <tr>\n",
       "      <th>3.360101e+10</th>\n",
       "      <td>8.114390</td>\n",
       "      <td>27.135851</td>\n",
       "      <td>49.213729</td>\n",
       "      <td>27.135851</td>\n",
       "      <td>49.213729</td>\n",
       "    </tr>\n",
       "  </tbody>\n",
       "</table>\n",
       "</div>"
      ],
      "text/plain": [
       "              avg_rtt_total avg_bearer_tp_total avg_tcp_retrans_total  \\\n",
       "                        sum                 sum                   sum   \n",
       "msisdn/number                                                           \n",
       "3.360100e+10       8.114390            7.274480             23.201031   \n",
       "3.360100e+10       3.401197            7.803027             23.201031   \n",
       "3.360100e+10       5.416100            7.763021             23.201031   \n",
       "3.360101e+10       6.942157            9.102310             16.921539   \n",
       "3.360101e+10       8.114390           27.135851             49.213729   \n",
       "\n",
       "              avg_tp_total total_avg_tcp_total  \n",
       "                                                \n",
       "msisdn/number                                   \n",
       "3.360100e+10      7.274480           23.201031  \n",
       "3.360100e+10      7.803027           23.201031  \n",
       "3.360100e+10      7.763021           23.201031  \n",
       "3.360101e+10      9.102310           16.921539  \n",
       "3.360101e+10     27.135851           49.213729  "
      ]
     },
     "execution_count": 72,
     "metadata": {},
     "output_type": "execute_result"
    }
   ],
   "source": [
    "# Fill the Missing value with the mean \n",
    "User_Experiance = User_Experiance.fillna(User_Experiance.mean())\n",
    "User_Experiance.head()"
   ]
  },
  {
   "cell_type": "code",
   "execution_count": 71,
   "id": "1298ebd8",
   "metadata": {},
   "outputs": [
    {
     "data": {
      "text/html": [
       "<div>\n",
       "<style scoped>\n",
       "    .dataframe tbody tr th:only-of-type {\n",
       "        vertical-align: middle;\n",
       "    }\n",
       "\n",
       "    .dataframe tbody tr th {\n",
       "        vertical-align: top;\n",
       "    }\n",
       "\n",
       "    .dataframe thead tr th {\n",
       "        text-align: left;\n",
       "    }\n",
       "\n",
       "    .dataframe thead tr:last-of-type th {\n",
       "        text-align: right;\n",
       "    }\n",
       "</style>\n",
       "<table border=\"1\" class=\"dataframe\">\n",
       "  <thead>\n",
       "    <tr>\n",
       "      <th></th>\n",
       "      <th>avg_rtt_total</th>\n",
       "      <th>avg_bearer_tp_total</th>\n",
       "      <th>avg_tp_total</th>\n",
       "      <th>total_avg_tcp_total</th>\n",
       "    </tr>\n",
       "    <tr>\n",
       "      <th></th>\n",
       "      <th>sum</th>\n",
       "      <th>sum</th>\n",
       "      <th></th>\n",
       "      <th></th>\n",
       "    </tr>\n",
       "    <tr>\n",
       "      <th>msisdn/number</th>\n",
       "      <th></th>\n",
       "      <th></th>\n",
       "      <th></th>\n",
       "      <th></th>\n",
       "    </tr>\n",
       "  </thead>\n",
       "  <tbody>\n",
       "    <tr>\n",
       "      <th>3.360100e+10</th>\n",
       "      <td>8.114390</td>\n",
       "      <td>7.274480</td>\n",
       "      <td>7.274480</td>\n",
       "      <td>23.201031</td>\n",
       "    </tr>\n",
       "    <tr>\n",
       "      <th>3.360100e+10</th>\n",
       "      <td>3.401197</td>\n",
       "      <td>7.803027</td>\n",
       "      <td>7.803027</td>\n",
       "      <td>23.201031</td>\n",
       "    </tr>\n",
       "    <tr>\n",
       "      <th>3.360100e+10</th>\n",
       "      <td>5.416100</td>\n",
       "      <td>7.763021</td>\n",
       "      <td>7.763021</td>\n",
       "      <td>23.201031</td>\n",
       "    </tr>\n",
       "    <tr>\n",
       "      <th>3.360101e+10</th>\n",
       "      <td>6.942157</td>\n",
       "      <td>9.102310</td>\n",
       "      <td>9.102310</td>\n",
       "      <td>16.921539</td>\n",
       "    </tr>\n",
       "    <tr>\n",
       "      <th>3.360101e+10</th>\n",
       "      <td>8.114390</td>\n",
       "      <td>27.135851</td>\n",
       "      <td>27.135851</td>\n",
       "      <td>49.213729</td>\n",
       "    </tr>\n",
       "    <tr>\n",
       "      <th>...</th>\n",
       "      <td>...</td>\n",
       "      <td>...</td>\n",
       "      <td>...</td>\n",
       "      <td>...</td>\n",
       "    </tr>\n",
       "    <tr>\n",
       "      <th>3.379000e+10</th>\n",
       "      <td>6.040255</td>\n",
       "      <td>15.166563</td>\n",
       "      <td>15.166563</td>\n",
       "      <td>20.285299</td>\n",
       "    </tr>\n",
       "    <tr>\n",
       "      <th>3.379000e+10</th>\n",
       "      <td>5.318120</td>\n",
       "      <td>8.090709</td>\n",
       "      <td>8.090709</td>\n",
       "      <td>23.201031</td>\n",
       "    </tr>\n",
       "    <tr>\n",
       "      <th>3.197021e+12</th>\n",
       "      <td>5.416100</td>\n",
       "      <td>16.089721</td>\n",
       "      <td>16.089721</td>\n",
       "      <td>23.201031</td>\n",
       "    </tr>\n",
       "    <tr>\n",
       "      <th>3.370000e+14</th>\n",
       "      <td>5.416100</td>\n",
       "      <td>5.488938</td>\n",
       "      <td>5.488938</td>\n",
       "      <td>23.201031</td>\n",
       "    </tr>\n",
       "    <tr>\n",
       "      <th>8.823971e+14</th>\n",
       "      <td>5.416100</td>\n",
       "      <td>16.089721</td>\n",
       "      <td>16.089721</td>\n",
       "      <td>23.201031</td>\n",
       "    </tr>\n",
       "  </tbody>\n",
       "</table>\n",
       "<p>106856 rows × 4 columns</p>\n",
       "</div>"
      ],
      "text/plain": [
       "              avg_rtt_total avg_bearer_tp_total avg_tp_total  \\\n",
       "                        sum                 sum                \n",
       "msisdn/number                                                  \n",
       "3.360100e+10       8.114390            7.274480     7.274480   \n",
       "3.360100e+10       3.401197            7.803027     7.803027   \n",
       "3.360100e+10       5.416100            7.763021     7.763021   \n",
       "3.360101e+10       6.942157            9.102310     9.102310   \n",
       "3.360101e+10       8.114390           27.135851    27.135851   \n",
       "...                     ...                 ...          ...   \n",
       "3.379000e+10       6.040255           15.166563    15.166563   \n",
       "3.379000e+10       5.318120            8.090709     8.090709   \n",
       "3.197021e+12       5.416100           16.089721    16.089721   \n",
       "3.370000e+14       5.416100            5.488938     5.488938   \n",
       "8.823971e+14       5.416100           16.089721    16.089721   \n",
       "\n",
       "              total_avg_tcp_total  \n",
       "                                   \n",
       "msisdn/number                      \n",
       "3.360100e+10            23.201031  \n",
       "3.360100e+10            23.201031  \n",
       "3.360100e+10            23.201031  \n",
       "3.360101e+10            16.921539  \n",
       "3.360101e+10            49.213729  \n",
       "...                           ...  \n",
       "3.379000e+10            20.285299  \n",
       "3.379000e+10            23.201031  \n",
       "3.197021e+12            23.201031  \n",
       "3.370000e+14            23.201031  \n",
       "8.823971e+14            23.201031  \n",
       "\n",
       "[106856 rows x 4 columns]"
      ]
     },
     "execution_count": 71,
     "metadata": {},
     "output_type": "execute_result"
    }
   ],
   "source": [
    "User_Experiance.drop(\"avg_bearer_tp_total\", axis=1)\n",
    "User_Experiance.drop(\"avg_tcp_retrans_total\", axis=1)"
   ]
  },
  {
   "cell_type": "code",
   "execution_count": 77,
   "id": "c94b3f8d",
   "metadata": {},
   "outputs": [
    {
     "name": "stderr",
     "output_type": "stream",
     "text": [
      "C:\\ProgramData\\Anaconda3\\lib\\site-packages\\sklearn\\utils\\validation.py:1688: FutureWarning: Feature names only support names that are all strings. Got feature names with dtypes: ['tuple']. An error will be raised in 1.2.\n",
      "  warnings.warn(\n",
      "C:\\ProgramData\\Anaconda3\\lib\\site-packages\\sklearn\\utils\\validation.py:1688: FutureWarning: Feature names only support names that are all strings. Got feature names with dtypes: ['tuple']. An error will be raised in 1.2.\n",
      "  warnings.warn(\n"
     ]
    }
   ],
   "source": [
    "# Next Normalize The data \n",
    "from sklearn.preprocessing import Normalizer\n",
    "from sklearn.cluster import KMeans\n",
    "norm = Normalizer()\n",
    "normalized_user_experience=pd.DataFrame(norm.fit_transform(User_Experiance), columns=['avg_rtt_total',\t'avg_tp_total','avg_bearer_tp_total','avg_tcp_retrans_total',\t'total_avg_tcp_total'])\n"
   ]
  },
  {
   "cell_type": "code",
   "execution_count": 78,
   "id": "8400a0ec",
   "metadata": {},
   "outputs": [],
   "source": [
    "#K-Means Clustering using normalized data\n",
    "kmeans = KMeans(init=\"random\",n_clusters=3,n_init=10,max_iter=300,random_state=42)\n",
    "label = kmeans.fit_predict(normalized_user_experience)\n",
    "centroids = kmeans.cluster_centers_"
   ]
  },
  {
   "cell_type": "code",
   "execution_count": 80,
   "id": "1faee658",
   "metadata": {},
   "outputs": [
    {
     "data": {
      "image/png": "[encoded data removed]",
      "text/plain": [
       "<Figure size 720x360 with 1 Axes>"
      ]
     },
     "metadata": {
      "needs_background": "light"
     },
     "output_type": "display_data"
    }
   ],
   "source": [
    "lables_unique = np.unique(label)\n",
    "#plotting the results:\n",
    "plt.figure(figsize=(10,5))\n",
    "plt.title('User K-Means Classification with 3 Groups ')\n",
    "for i in lables_unique:\n",
    "    plt.scatter(normalized_user_experience[label == i].iloc[:,0] , normalized_user_experience[label == i].iloc[:,1], marker='o', label = i)\n",
    "plt.scatter(centroids[:,0] , centroids[:,1],centroids[:,2], marker='x', color = 'black')\n",
    "plt.legend()\n",
    "plt.show()"
   ]
  },
  {
   "cell_type": "code",
   "execution_count": null,
   "id": "3507880e",
   "metadata": {},
   "outputs": [],
   "source": [
    "# As shown in the Cluster figure above those that are grouped in Cluster 0 have higher transmission rate and those at Cluster \n",
    "# 3 are the next and Cluster 1 are the least."
   ]
  },
  {
   "cell_type": "code",
   "execution_count": 81,
   "id": "90690f49",
   "metadata": {},
   "outputs": [
    {
     "data": {
      "text/html": [
       "<div>\n",
       "<style scoped>\n",
       "    .dataframe tbody tr th:only-of-type {\n",
       "        vertical-align: middle;\n",
       "    }\n",
       "\n",
       "    .dataframe tbody tr th {\n",
       "        vertical-align: top;\n",
       "    }\n",
       "\n",
       "    .dataframe thead tr th {\n",
       "        text-align: left;\n",
       "    }\n",
       "\n",
       "    .dataframe thead tr:last-of-type th {\n",
       "        text-align: right;\n",
       "    }\n",
       "</style>\n",
       "<table border=\"1\" class=\"dataframe\">\n",
       "  <thead>\n",
       "    <tr>\n",
       "      <th></th>\n",
       "      <th>cluster</th>\n",
       "      <th>avg_rtt_total</th>\n",
       "      <th>avg_bearer_tp_total</th>\n",
       "      <th>avg_tcp_retrans_total</th>\n",
       "      <th>avg_tp_total</th>\n",
       "      <th>total_avg_tcp_total</th>\n",
       "    </tr>\n",
       "    <tr>\n",
       "      <th></th>\n",
       "      <th></th>\n",
       "      <th>sum</th>\n",
       "      <th>sum</th>\n",
       "      <th>sum</th>\n",
       "      <th></th>\n",
       "      <th></th>\n",
       "    </tr>\n",
       "    <tr>\n",
       "      <th>msisdn/number</th>\n",
       "      <th></th>\n",
       "      <th></th>\n",
       "      <th></th>\n",
       "      <th></th>\n",
       "      <th></th>\n",
       "      <th></th>\n",
       "    </tr>\n",
       "  </thead>\n",
       "  <tbody>\n",
       "    <tr>\n",
       "      <th>3.360100e+10</th>\n",
       "      <td>1</td>\n",
       "      <td>8.114390</td>\n",
       "      <td>7.274480</td>\n",
       "      <td>23.201031</td>\n",
       "      <td>7.274480</td>\n",
       "      <td>23.201031</td>\n",
       "    </tr>\n",
       "    <tr>\n",
       "      <th>3.360100e+10</th>\n",
       "      <td>1</td>\n",
       "      <td>3.401197</td>\n",
       "      <td>7.803027</td>\n",
       "      <td>23.201031</td>\n",
       "      <td>7.803027</td>\n",
       "      <td>23.201031</td>\n",
       "    </tr>\n",
       "    <tr>\n",
       "      <th>3.360100e+10</th>\n",
       "      <td>1</td>\n",
       "      <td>5.416100</td>\n",
       "      <td>7.763021</td>\n",
       "      <td>23.201031</td>\n",
       "      <td>7.763021</td>\n",
       "      <td>23.201031</td>\n",
       "    </tr>\n",
       "    <tr>\n",
       "      <th>3.360101e+10</th>\n",
       "      <td>2</td>\n",
       "      <td>6.942157</td>\n",
       "      <td>9.102310</td>\n",
       "      <td>16.921539</td>\n",
       "      <td>9.102310</td>\n",
       "      <td>16.921539</td>\n",
       "    </tr>\n",
       "    <tr>\n",
       "      <th>3.360101e+10</th>\n",
       "      <td>2</td>\n",
       "      <td>8.114390</td>\n",
       "      <td>27.135851</td>\n",
       "      <td>49.213729</td>\n",
       "      <td>27.135851</td>\n",
       "      <td>49.213729</td>\n",
       "    </tr>\n",
       "  </tbody>\n",
       "</table>\n",
       "</div>"
      ],
      "text/plain": [
       "              cluster avg_rtt_total avg_bearer_tp_total avg_tcp_retrans_total  \\\n",
       "                                sum                 sum                   sum   \n",
       "msisdn/number                                                                   \n",
       "3.360100e+10        1      8.114390            7.274480             23.201031   \n",
       "3.360100e+10        1      3.401197            7.803027             23.201031   \n",
       "3.360100e+10        1      5.416100            7.763021             23.201031   \n",
       "3.360101e+10        2      6.942157            9.102310             16.921539   \n",
       "3.360101e+10        2      8.114390           27.135851             49.213729   \n",
       "\n",
       "              avg_tp_total total_avg_tcp_total  \n",
       "                                                \n",
       "msisdn/number                                   \n",
       "3.360100e+10      7.274480           23.201031  \n",
       "3.360100e+10      7.803027           23.201031  \n",
       "3.360100e+10      7.763021           23.201031  \n",
       "3.360101e+10      9.102310           16.921539  \n",
       "3.360101e+10     27.135851           49.213729  "
      ]
     },
     "execution_count": 81,
     "metadata": {},
     "output_type": "execute_result"
    }
   ],
   "source": [
    "u_exp = User_Experiance.copy()\n",
    "u_exp.insert(0, 'cluster', kmeans.labels_)\n",
    "u_exp.head(5)"
   ]
  },
  {
   "cell_type": "markdown",
   "id": "087c75b6",
   "metadata": {},
   "source": [
    "# over view of Clusters with pie plot"
   ]
  },
  {
   "cell_type": "code",
   "execution_count": 84,
   "id": "78057711",
   "metadata": {},
   "outputs": [
    {
     "data": {
      "image/png": "[encoded data removed]",
      "text/plain": [
       "<Figure size 864x504 with 1 Axes>"
      ]
     },
     "metadata": {},
     "output_type": "display_data"
    }
   ],
   "source": [
    "cluster1 = u_exp[u_exp[\"cluster\"]==0]\n",
    "cluster2 = u_exp[u_exp[\"cluster\"] == 1]\n",
    "cluster3 = u_exp[u_exp[\"cluster\"] == 2]\n",
    "\n",
    "data = [cluster1.avg_tp_total.sum(), cluster2.avg_tp_total.sum(), cluster3.avg_tp_total.sum()]\n",
    "Labels = ['Cluster One', 'Cluster Two', 'Cluster Three']\n",
    "plt.figure(figsize=(12, 7))\n",
    "colors = sns.color_palette('bright')\n",
    "plt.pie(data, labels=Labels, colors=colors, autopct='%.0f%%')\n",
    "plt.title(\" Cluster Distribution Count based on Throuput\", size=20)\n",
    "plt.show()"
   ]
  },
  {
   "cell_type": "code",
   "execution_count": 85,
   "id": "dcf15def",
   "metadata": {},
   "outputs": [
    {
     "ename": "ValueError",
     "evalue": "x must be 1D",
     "output_type": "error",
     "traceback": [
      "\u001b[1;31m---------------------------------------------------------------------------\u001b[0m",
      "\u001b[1;31mValueError\u001b[0m                                Traceback (most recent call last)",
      "Input \u001b[1;32mIn [85]\u001b[0m, in \u001b[0;36m<cell line: 5>\u001b[1;34m()\u001b[0m\n\u001b[0;32m      3\u001b[0m plt\u001b[38;5;241m.\u001b[39mfigure(figsize\u001b[38;5;241m=\u001b[39m(\u001b[38;5;241m12\u001b[39m, \u001b[38;5;241m7\u001b[39m))\n\u001b[0;32m      4\u001b[0m colors \u001b[38;5;241m=\u001b[39m sns\u001b[38;5;241m.\u001b[39mcolor_palette(\u001b[38;5;124m'\u001b[39m\u001b[38;5;124mbright\u001b[39m\u001b[38;5;124m'\u001b[39m)\n\u001b[1;32m----> 5\u001b[0m \u001b[43mplt\u001b[49m\u001b[38;5;241;43m.\u001b[39;49m\u001b[43mpie\u001b[49m\u001b[43m(\u001b[49m\u001b[43mdata\u001b[49m\u001b[43m,\u001b[49m\u001b[43m \u001b[49m\u001b[43mlabels\u001b[49m\u001b[38;5;241;43m=\u001b[39;49m\u001b[43mLabels\u001b[49m\u001b[43m,\u001b[49m\u001b[43m \u001b[49m\u001b[43mcolors\u001b[49m\u001b[38;5;241;43m=\u001b[39;49m\u001b[43mcolors\u001b[49m\u001b[43m,\u001b[49m\u001b[43m \u001b[49m\u001b[43mautopct\u001b[49m\u001b[38;5;241;43m=\u001b[39;49m\u001b[38;5;124;43m'\u001b[39;49m\u001b[38;5;132;43;01m%.0f\u001b[39;49;00m\u001b[38;5;132;43;01m%%\u001b[39;49;00m\u001b[38;5;124;43m'\u001b[39;49m\u001b[43m)\u001b[49m\n\u001b[0;32m      6\u001b[0m plt\u001b[38;5;241m.\u001b[39mtitle(\u001b[38;5;124m\"\u001b[39m\u001b[38;5;124m Cluster Distribution Count based on TCP retransmission\u001b[39m\u001b[38;5;124m\"\u001b[39m, size\u001b[38;5;241m=\u001b[39m\u001b[38;5;241m20\u001b[39m)\n\u001b[0;32m      7\u001b[0m plt\u001b[38;5;241m.\u001b[39mshow()\n",
      "File \u001b[1;32mC:\\ProgramData\\Anaconda3\\lib\\site-packages\\matplotlib\\pyplot.py:2744\u001b[0m, in \u001b[0;36mpie\u001b[1;34m(x, explode, labels, colors, autopct, pctdistance, shadow, labeldistance, startangle, radius, counterclock, wedgeprops, textprops, center, frame, rotatelabels, normalize, data)\u001b[0m\n\u001b[0;32m   2737\u001b[0m \u001b[38;5;129m@_copy_docstring_and_deprecators\u001b[39m(Axes\u001b[38;5;241m.\u001b[39mpie)\n\u001b[0;32m   2738\u001b[0m \u001b[38;5;28;01mdef\u001b[39;00m \u001b[38;5;21mpie\u001b[39m(\n\u001b[0;32m   2739\u001b[0m         x, explode\u001b[38;5;241m=\u001b[39m\u001b[38;5;28;01mNone\u001b[39;00m, labels\u001b[38;5;241m=\u001b[39m\u001b[38;5;28;01mNone\u001b[39;00m, colors\u001b[38;5;241m=\u001b[39m\u001b[38;5;28;01mNone\u001b[39;00m, autopct\u001b[38;5;241m=\u001b[39m\u001b[38;5;28;01mNone\u001b[39;00m,\n\u001b[1;32m   (...)\u001b[0m\n\u001b[0;32m   2742\u001b[0m         textprops\u001b[38;5;241m=\u001b[39m\u001b[38;5;28;01mNone\u001b[39;00m, center\u001b[38;5;241m=\u001b[39m(\u001b[38;5;241m0\u001b[39m, \u001b[38;5;241m0\u001b[39m), frame\u001b[38;5;241m=\u001b[39m\u001b[38;5;28;01mFalse\u001b[39;00m,\n\u001b[0;32m   2743\u001b[0m         rotatelabels\u001b[38;5;241m=\u001b[39m\u001b[38;5;28;01mFalse\u001b[39;00m, \u001b[38;5;241m*\u001b[39m, normalize\u001b[38;5;241m=\u001b[39m\u001b[38;5;28;01mTrue\u001b[39;00m, data\u001b[38;5;241m=\u001b[39m\u001b[38;5;28;01mNone\u001b[39;00m):\n\u001b[1;32m-> 2744\u001b[0m     \u001b[38;5;28;01mreturn\u001b[39;00m gca()\u001b[38;5;241m.\u001b[39mpie(\n\u001b[0;32m   2745\u001b[0m         x, explode\u001b[38;5;241m=\u001b[39mexplode, labels\u001b[38;5;241m=\u001b[39mlabels, colors\u001b[38;5;241m=\u001b[39mcolors,\n\u001b[0;32m   2746\u001b[0m         autopct\u001b[38;5;241m=\u001b[39mautopct, pctdistance\u001b[38;5;241m=\u001b[39mpctdistance, shadow\u001b[38;5;241m=\u001b[39mshadow,\n\u001b[0;32m   2747\u001b[0m         labeldistance\u001b[38;5;241m=\u001b[39mlabeldistance, startangle\u001b[38;5;241m=\u001b[39mstartangle,\n\u001b[0;32m   2748\u001b[0m         radius\u001b[38;5;241m=\u001b[39mradius, counterclock\u001b[38;5;241m=\u001b[39mcounterclock,\n\u001b[0;32m   2749\u001b[0m         wedgeprops\u001b[38;5;241m=\u001b[39mwedgeprops, textprops\u001b[38;5;241m=\u001b[39mtextprops, center\u001b[38;5;241m=\u001b[39mcenter,\n\u001b[0;32m   2750\u001b[0m         frame\u001b[38;5;241m=\u001b[39mframe, rotatelabels\u001b[38;5;241m=\u001b[39mrotatelabels, normalize\u001b[38;5;241m=\u001b[39mnormalize,\n\u001b[0;32m   2751\u001b[0m         \u001b[38;5;241m*\u001b[39m\u001b[38;5;241m*\u001b[39m({\u001b[38;5;124m\"\u001b[39m\u001b[38;5;124mdata\u001b[39m\u001b[38;5;124m\"\u001b[39m: data} \u001b[38;5;28;01mif\u001b[39;00m data \u001b[38;5;129;01mis\u001b[39;00m \u001b[38;5;129;01mnot\u001b[39;00m \u001b[38;5;28;01mNone\u001b[39;00m \u001b[38;5;28;01melse\u001b[39;00m {}))\n",
      "File \u001b[1;32mC:\\ProgramData\\Anaconda3\\lib\\site-packages\\matplotlib\\__init__.py:1412\u001b[0m, in \u001b[0;36m_preprocess_data.<locals>.inner\u001b[1;34m(ax, data, *args, **kwargs)\u001b[0m\n\u001b[0;32m   1409\u001b[0m \u001b[38;5;129m@functools\u001b[39m\u001b[38;5;241m.\u001b[39mwraps(func)\n\u001b[0;32m   1410\u001b[0m \u001b[38;5;28;01mdef\u001b[39;00m \u001b[38;5;21minner\u001b[39m(ax, \u001b[38;5;241m*\u001b[39margs, data\u001b[38;5;241m=\u001b[39m\u001b[38;5;28;01mNone\u001b[39;00m, \u001b[38;5;241m*\u001b[39m\u001b[38;5;241m*\u001b[39mkwargs):\n\u001b[0;32m   1411\u001b[0m     \u001b[38;5;28;01mif\u001b[39;00m data \u001b[38;5;129;01mis\u001b[39;00m \u001b[38;5;28;01mNone\u001b[39;00m:\n\u001b[1;32m-> 1412\u001b[0m         \u001b[38;5;28;01mreturn\u001b[39;00m func(ax, \u001b[38;5;241m*\u001b[39m\u001b[38;5;28mmap\u001b[39m(sanitize_sequence, args), \u001b[38;5;241m*\u001b[39m\u001b[38;5;241m*\u001b[39mkwargs)\n\u001b[0;32m   1414\u001b[0m     bound \u001b[38;5;241m=\u001b[39m new_sig\u001b[38;5;241m.\u001b[39mbind(ax, \u001b[38;5;241m*\u001b[39margs, \u001b[38;5;241m*\u001b[39m\u001b[38;5;241m*\u001b[39mkwargs)\n\u001b[0;32m   1415\u001b[0m     auto_label \u001b[38;5;241m=\u001b[39m (bound\u001b[38;5;241m.\u001b[39marguments\u001b[38;5;241m.\u001b[39mget(label_namer)\n\u001b[0;32m   1416\u001b[0m                   \u001b[38;5;129;01mor\u001b[39;00m bound\u001b[38;5;241m.\u001b[39mkwargs\u001b[38;5;241m.\u001b[39mget(label_namer))\n",
      "File \u001b[1;32mC:\\ProgramData\\Anaconda3\\lib\\site-packages\\matplotlib\\axes\\_axes.py:3044\u001b[0m, in \u001b[0;36mAxes.pie\u001b[1;34m(self, x, explode, labels, colors, autopct, pctdistance, shadow, labeldistance, startangle, radius, counterclock, wedgeprops, textprops, center, frame, rotatelabels, normalize)\u001b[0m\n\u001b[0;32m   3042\u001b[0m x \u001b[38;5;241m=\u001b[39m np\u001b[38;5;241m.\u001b[39masarray(x, np\u001b[38;5;241m.\u001b[39mfloat32)\n\u001b[0;32m   3043\u001b[0m \u001b[38;5;28;01mif\u001b[39;00m x\u001b[38;5;241m.\u001b[39mndim \u001b[38;5;241m>\u001b[39m \u001b[38;5;241m1\u001b[39m:\n\u001b[1;32m-> 3044\u001b[0m     \u001b[38;5;28;01mraise\u001b[39;00m \u001b[38;5;167;01mValueError\u001b[39;00m(\u001b[38;5;124m\"\u001b[39m\u001b[38;5;124mx must be 1D\u001b[39m\u001b[38;5;124m\"\u001b[39m)\n\u001b[0;32m   3046\u001b[0m \u001b[38;5;28;01mif\u001b[39;00m np\u001b[38;5;241m.\u001b[39many(x \u001b[38;5;241m<\u001b[39m \u001b[38;5;241m0\u001b[39m):\n\u001b[0;32m   3047\u001b[0m     \u001b[38;5;28;01mraise\u001b[39;00m \u001b[38;5;167;01mValueError\u001b[39;00m(\u001b[38;5;124m\"\u001b[39m\u001b[38;5;124mWedge sizes \u001b[39m\u001b[38;5;124m'\u001b[39m\u001b[38;5;124mx\u001b[39m\u001b[38;5;124m'\u001b[39m\u001b[38;5;124m must be non negative values\u001b[39m\u001b[38;5;124m\"\u001b[39m)\n",
      "\u001b[1;31mValueError\u001b[0m: x must be 1D"
     ]
    },
    {
     "data": {
      "image/png": "[encoded data removed]",
      "text/plain": [
       "<Figure size 864x504 with 1 Axes>"
      ]
     },
     "metadata": {
      "needs_background": "light"
     },
     "output_type": "display_data"
    }
   ],
   "source": [
    "data = [cluster1.avg_rtt_total.sum(), cluster2.avg_rtt_total.sum(), cluster3.avg_rtt_total.sum()]\n",
    "Labels = ['Cluster One', 'Cluster Two', 'Cluster Three']\n",
    "plt.figure(figsize=(12, 7))\n",
    "colors = sns.color_palette('bright')\n",
    "plt.pie(data, labels=Labels, colors=colors, autopct='%.0f%%')\n",
    "plt.title(\" Cluster Distribution Count based on TCP retransmission\", size=20)\n",
    "plt.show()"
   ]
  },
  {
   "cell_type": "code",
   "execution_count": 86,
   "id": "9caf199a",
   "metadata": {},
   "outputs": [
    {
     "data": {
      "text/html": [
       "<div>\n",
       "<style scoped>\n",
       "    .dataframe tbody tr th:only-of-type {\n",
       "        vertical-align: middle;\n",
       "    }\n",
       "\n",
       "    .dataframe tbody tr th {\n",
       "        vertical-align: top;\n",
       "    }\n",
       "\n",
       "    .dataframe thead tr th {\n",
       "        text-align: left;\n",
       "    }\n",
       "\n",
       "    .dataframe thead tr:last-of-type th {\n",
       "        text-align: right;\n",
       "    }\n",
       "</style>\n",
       "<table border=\"1\" class=\"dataframe\">\n",
       "  <thead>\n",
       "    <tr>\n",
       "      <th></th>\n",
       "      <th>cluster</th>\n",
       "      <th>avg_rtt_total</th>\n",
       "      <th>avg_bearer_tp_total</th>\n",
       "      <th>avg_tcp_retrans_total</th>\n",
       "      <th>avg_tp_total</th>\n",
       "      <th>total_avg_tcp_total</th>\n",
       "    </tr>\n",
       "    <tr>\n",
       "      <th></th>\n",
       "      <th></th>\n",
       "      <th>sum</th>\n",
       "      <th>sum</th>\n",
       "      <th>sum</th>\n",
       "      <th></th>\n",
       "      <th></th>\n",
       "    </tr>\n",
       "    <tr>\n",
       "      <th>msisdn/number</th>\n",
       "      <th></th>\n",
       "      <th></th>\n",
       "      <th></th>\n",
       "      <th></th>\n",
       "      <th></th>\n",
       "      <th></th>\n",
       "    </tr>\n",
       "  </thead>\n",
       "  <tbody>\n",
       "    <tr>\n",
       "      <th>3.360100e+10</th>\n",
       "      <td>1</td>\n",
       "      <td>8.114390</td>\n",
       "      <td>7.274480</td>\n",
       "      <td>23.201031</td>\n",
       "      <td>7.274480</td>\n",
       "      <td>23.201031</td>\n",
       "    </tr>\n",
       "    <tr>\n",
       "      <th>3.360100e+10</th>\n",
       "      <td>1</td>\n",
       "      <td>3.401197</td>\n",
       "      <td>7.803027</td>\n",
       "      <td>23.201031</td>\n",
       "      <td>7.803027</td>\n",
       "      <td>23.201031</td>\n",
       "    </tr>\n",
       "    <tr>\n",
       "      <th>3.360100e+10</th>\n",
       "      <td>1</td>\n",
       "      <td>5.416100</td>\n",
       "      <td>7.763021</td>\n",
       "      <td>23.201031</td>\n",
       "      <td>7.763021</td>\n",
       "      <td>23.201031</td>\n",
       "    </tr>\n",
       "    <tr>\n",
       "      <th>3.360101e+10</th>\n",
       "      <td>2</td>\n",
       "      <td>6.942157</td>\n",
       "      <td>9.102310</td>\n",
       "      <td>16.921539</td>\n",
       "      <td>9.102310</td>\n",
       "      <td>16.921539</td>\n",
       "    </tr>\n",
       "    <tr>\n",
       "      <th>3.360101e+10</th>\n",
       "      <td>2</td>\n",
       "      <td>8.114390</td>\n",
       "      <td>27.135851</td>\n",
       "      <td>49.213729</td>\n",
       "      <td>27.135851</td>\n",
       "      <td>49.213729</td>\n",
       "    </tr>\n",
       "  </tbody>\n",
       "</table>\n",
       "</div>"
      ],
      "text/plain": [
       "              cluster avg_rtt_total avg_bearer_tp_total avg_tcp_retrans_total  \\\n",
       "                                sum                 sum                   sum   \n",
       "msisdn/number                                                                   \n",
       "3.360100e+10        1      8.114390            7.274480             23.201031   \n",
       "3.360100e+10        1      3.401197            7.803027             23.201031   \n",
       "3.360100e+10        1      5.416100            7.763021             23.201031   \n",
       "3.360101e+10        2      6.942157            9.102310             16.921539   \n",
       "3.360101e+10        2      8.114390           27.135851             49.213729   \n",
       "\n",
       "              avg_tp_total total_avg_tcp_total  \n",
       "                                                \n",
       "msisdn/number                                   \n",
       "3.360100e+10      7.274480           23.201031  \n",
       "3.360100e+10      7.803027           23.201031  \n",
       "3.360100e+10      7.763021           23.201031  \n",
       "3.360101e+10      9.102310           16.921539  \n",
       "3.360101e+10     27.135851           49.213729  "
      ]
     },
     "execution_count": 86,
     "metadata": {},
     "output_type": "execute_result"
    }
   ],
   "source": [
    "u_exp.head()"
   ]
  },
  {
   "cell_type": "markdown",
   "id": "bf503e27",
   "metadata": {},
   "source": [
    "# Save Data and Clusters\n"
   ]
  },
  {
   "cell_type": "code",
   "execution_count": 92,
   "id": "410418d6",
   "metadata": {},
   "outputs": [],
   "source": [
    "import pickle\n",
    "\n",
    "with open(\"E:\\\\10xAccademy_Practice\\\\Week 1\\\\User Experiance Analysis\\\\K-Means Model\\\\UserExperiance_K-Means_Model.pkl\", \"wb\") as f:\n",
    "    pickle.dump(kmeans, f)\n"
   ]
  },
  {
   "cell_type": "code",
   "execution_count": 91,
   "id": "53f85290",
   "metadata": {},
   "outputs": [],
   "source": [
    "UserExperiance_Df_agg.to_csv('E:\\\\10xAccademy_Practice\\\\Week 1\\\\User Experiance Analysis\\\\Processed_Data\\\\Normalized_UserExperiance_data.csv')"
   ]
  },
  {
   "cell_type": "code",
   "execution_count": 94,
   "id": "5f3f1396",
   "metadata": {},
   "outputs": [],
   "source": [
    "u_exp.to_csv('E:\\\\10xAccademy_Practice\\\\Week 1\\\\User Experiance Analysis\\\\Processed_Data\\\\UserExperiance_data.csv')"
   ]
  },
  {
   "cell_type": "code",
   "execution_count": null,
   "id": "8f062cd0",
   "metadata": {},
   "outputs": [],
   "source": []
  }
 ],
 "metadata": {
  "kernelspec": {
   "display_name": "Python 3 (ipykernel)",
   "language": "python",
   "name": "python3"
  },
  "language_info": {
   "codemirror_mode": {
    "name": "ipython",
    "version": 3
   },
   "file_extension": ".py",
   "mimetype": "text/x-python",
   "name": "python",
   "nbconvert_exporter": "python",
   "pygments_lexer": "ipython3",
   "version": "3.9.12"
  }
 },
 "nbformat": 4,
 "nbformat_minor": 5
}
