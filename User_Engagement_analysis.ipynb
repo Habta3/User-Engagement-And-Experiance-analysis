{
 "cells": [
  {
   "cell_type": "code",
   "execution_count": 51,
   "id": "7e529692",
   "metadata": {},
   "outputs": [],
   "source": [
    "import pandas as pd\n",
    "import matplotlib.pyplot as plt\n",
    "import seaborn as sns\n"
   ]
  },
  {
   "cell_type": "code",
   "execution_count": 52,
   "id": "8e4a5ce9",
   "metadata": {},
   "outputs": [
    {
     "data": {
      "text/html": [
       "<div>\n",
       "<style scoped>\n",
       "    .dataframe tbody tr th:only-of-type {\n",
       "        vertical-align: middle;\n",
       "    }\n",
       "\n",
       "    .dataframe tbody tr th {\n",
       "        vertical-align: top;\n",
       "    }\n",
       "\n",
       "    .dataframe thead th {\n",
       "        text-align: right;\n",
       "    }\n",
       "</style>\n",
       "<table border=\"1\" class=\"dataframe\">\n",
       "  <thead>\n",
       "    <tr style=\"text-align: right;\">\n",
       "      <th></th>\n",
       "      <th>bearer_id</th>\n",
       "      <th>start</th>\n",
       "      <th>start_ms</th>\n",
       "      <th>end</th>\n",
       "      <th>end_ms</th>\n",
       "      <th>dur._(ms)</th>\n",
       "      <th>imsi</th>\n",
       "      <th>msisdn/number</th>\n",
       "      <th>imei</th>\n",
       "      <th>last_location_name</th>\n",
       "      <th>...</th>\n",
       "      <th>youtube_dl_(bytes)</th>\n",
       "      <th>youtube_ul_(bytes)</th>\n",
       "      <th>netflix_dl_(bytes)</th>\n",
       "      <th>netflix_ul_(bytes)</th>\n",
       "      <th>gaming_dl_(bytes)</th>\n",
       "      <th>gaming_ul_(bytes)</th>\n",
       "      <th>other_dl_(bytes)</th>\n",
       "      <th>other_ul_(bytes)</th>\n",
       "      <th>total_ul_(bytes)</th>\n",
       "      <th>total_dl_(bytes)</th>\n",
       "    </tr>\n",
       "  </thead>\n",
       "  <tbody>\n",
       "    <tr>\n",
       "      <th>0</th>\n",
       "      <td>1.311448e+19</td>\n",
       "      <td>4/4/2019 12:01</td>\n",
       "      <td>770.0</td>\n",
       "      <td>4/25/2019 14:35</td>\n",
       "      <td>662.0</td>\n",
       "      <td>14.416352</td>\n",
       "      <td>2.082014e+14</td>\n",
       "      <td>3.366496e+10</td>\n",
       "      <td>3.552121e+13</td>\n",
       "      <td>9.16456699548519E+015</td>\n",
       "      <td>...</td>\n",
       "      <td>16.578971</td>\n",
       "      <td>14.732334</td>\n",
       "      <td>15.919515</td>\n",
       "      <td>16.083116</td>\n",
       "      <td>19.443428</td>\n",
       "      <td>16.478853</td>\n",
       "      <td>18.961518</td>\n",
       "      <td>15.991897</td>\n",
       "      <td>17.419642</td>\n",
       "      <td>19.548462</td>\n",
       "    </tr>\n",
       "    <tr>\n",
       "      <th>1</th>\n",
       "      <td>1.311448e+19</td>\n",
       "      <td>4/9/2019 13:04</td>\n",
       "      <td>235.0</td>\n",
       "      <td>4/25/2019 8:15</td>\n",
       "      <td>606.0</td>\n",
       "      <td>14.126741</td>\n",
       "      <td>2.082019e+14</td>\n",
       "      <td>3.368185e+10</td>\n",
       "      <td>3.579401e+13</td>\n",
       "      <td>L77566A</td>\n",
       "      <td>...</td>\n",
       "      <td>16.823537</td>\n",
       "      <td>16.765813</td>\n",
       "      <td>16.724508</td>\n",
       "      <td>16.661996</td>\n",
       "      <td>20.226918</td>\n",
       "      <td>13.973120</td>\n",
       "      <td>20.082529</td>\n",
       "      <td>16.527230</td>\n",
       "      <td>17.800791</td>\n",
       "      <td>20.297677</td>\n",
       "    </tr>\n",
       "    <tr>\n",
       "      <th>2</th>\n",
       "      <td>1.311448e+19</td>\n",
       "      <td>4/9/2019 17:42</td>\n",
       "      <td>1.0</td>\n",
       "      <td>4/25/2019 11:58</td>\n",
       "      <td>652.0</td>\n",
       "      <td>14.124290</td>\n",
       "      <td>2.082003e+14</td>\n",
       "      <td>3.376063e+10</td>\n",
       "      <td>3.528151e+13</td>\n",
       "      <td>D42335A</td>\n",
       "      <td>...</td>\n",
       "      <td>16.797431</td>\n",
       "      <td>16.503329</td>\n",
       "      <td>16.682716</td>\n",
       "      <td>15.634140</td>\n",
       "      <td>19.251782</td>\n",
       "      <td>12.888235</td>\n",
       "      <td>19.833356</td>\n",
       "      <td>15.254341</td>\n",
       "      <td>17.143551</td>\n",
       "      <td>19.449612</td>\n",
       "    </tr>\n",
       "    <tr>\n",
       "      <th>3</th>\n",
       "      <td>1.311448e+19</td>\n",
       "      <td>4/10/2019 0:31</td>\n",
       "      <td>486.0</td>\n",
       "      <td>4/25/2019 7:36</td>\n",
       "      <td>171.0</td>\n",
       "      <td>14.094285</td>\n",
       "      <td>2.082014e+14</td>\n",
       "      <td>3.375034e+10</td>\n",
       "      <td>3.535661e+13</td>\n",
       "      <td>T21824A</td>\n",
       "      <td>...</td>\n",
       "      <td>16.878346</td>\n",
       "      <td>16.533289</td>\n",
       "      <td>16.454185</td>\n",
       "      <td>13.908948</td>\n",
       "      <td>20.499545</td>\n",
       "      <td>16.199650</td>\n",
       "      <td>20.434303</td>\n",
       "      <td>16.364743</td>\n",
       "      <td>17.584222</td>\n",
       "      <td>20.556064</td>\n",
       "    </tr>\n",
       "    <tr>\n",
       "      <th>4</th>\n",
       "      <td>1.311448e+19</td>\n",
       "      <td>4/12/2019 20:10</td>\n",
       "      <td>565.0</td>\n",
       "      <td>4/25/2019 10:40</td>\n",
       "      <td>954.0</td>\n",
       "      <td>13.900779</td>\n",
       "      <td>2.082014e+14</td>\n",
       "      <td>3.369980e+10</td>\n",
       "      <td>3.540701e+13</td>\n",
       "      <td>D88865A</td>\n",
       "      <td>...</td>\n",
       "      <td>16.540705</td>\n",
       "      <td>16.757994</td>\n",
       "      <td>16.656025</td>\n",
       "      <td>12.936559</td>\n",
       "      <td>20.084052</td>\n",
       "      <td>15.076752</td>\n",
       "      <td>20.126718</td>\n",
       "      <td>16.448142</td>\n",
       "      <td>17.467280</td>\n",
       "      <td>20.159635</td>\n",
       "    </tr>\n",
       "  </tbody>\n",
       "</table>\n",
       "<p>5 rows × 55 columns</p>\n",
       "</div>"
      ],
      "text/plain": [
       "      bearer_id            start  start_ms              end  end_ms  \\\n",
       "0  1.311448e+19   4/4/2019 12:01     770.0  4/25/2019 14:35   662.0   \n",
       "1  1.311448e+19   4/9/2019 13:04     235.0   4/25/2019 8:15   606.0   \n",
       "2  1.311448e+19   4/9/2019 17:42       1.0  4/25/2019 11:58   652.0   \n",
       "3  1.311448e+19   4/10/2019 0:31     486.0   4/25/2019 7:36   171.0   \n",
       "4  1.311448e+19  4/12/2019 20:10     565.0  4/25/2019 10:40   954.0   \n",
       "\n",
       "   dur._(ms)          imsi  msisdn/number          imei  \\\n",
       "0  14.416352  2.082014e+14   3.366496e+10  3.552121e+13   \n",
       "1  14.126741  2.082019e+14   3.368185e+10  3.579401e+13   \n",
       "2  14.124290  2.082003e+14   3.376063e+10  3.528151e+13   \n",
       "3  14.094285  2.082014e+14   3.375034e+10  3.535661e+13   \n",
       "4  13.900779  2.082014e+14   3.369980e+10  3.540701e+13   \n",
       "\n",
       "      last_location_name  ...  youtube_dl_(bytes)  youtube_ul_(bytes)  \\\n",
       "0  9.16456699548519E+015  ...           16.578971           14.732334   \n",
       "1                L77566A  ...           16.823537           16.765813   \n",
       "2                D42335A  ...           16.797431           16.503329   \n",
       "3                T21824A  ...           16.878346           16.533289   \n",
       "4                D88865A  ...           16.540705           16.757994   \n",
       "\n",
       "   netflix_dl_(bytes)  netflix_ul_(bytes)  gaming_dl_(bytes)  \\\n",
       "0           15.919515           16.083116          19.443428   \n",
       "1           16.724508           16.661996          20.226918   \n",
       "2           16.682716           15.634140          19.251782   \n",
       "3           16.454185           13.908948          20.499545   \n",
       "4           16.656025           12.936559          20.084052   \n",
       "\n",
       "   gaming_ul_(bytes)  other_dl_(bytes)  other_ul_(bytes)  total_ul_(bytes)  \\\n",
       "0          16.478853         18.961518         15.991897         17.419642   \n",
       "1          13.973120         20.082529         16.527230         17.800791   \n",
       "2          12.888235         19.833356         15.254341         17.143551   \n",
       "3          16.199650         20.434303         16.364743         17.584222   \n",
       "4          15.076752         20.126718         16.448142         17.467280   \n",
       "\n",
       "   total_dl_(bytes)  \n",
       "0         19.548462  \n",
       "1         20.297677  \n",
       "2         19.449612  \n",
       "3         20.556064  \n",
       "4         20.159635  \n",
       "\n",
       "[5 rows x 55 columns]"
      ]
     },
     "execution_count": 52,
     "metadata": {},
     "output_type": "execute_result"
    }
   ],
   "source": [
    "eng_data=pd.read_csv(\"E:\\\\10xAccademy_Practice\\\\Week 1\\\\Data\\\\OutlierRemved_telecoData_outliers.csv\")\n",
    "eng_data.head(5)"
   ]
  },
  {
   "cell_type": "code",
   "execution_count": 53,
   "id": "a41c33be",
   "metadata": {},
   "outputs": [],
   "source": [
    "df=eng_data.copy()"
   ]
  },
  {
   "cell_type": "code",
   "execution_count": 54,
   "id": "b9f905fa",
   "metadata": {},
   "outputs": [
    {
     "data": {
      "text/plain": [
       "0"
      ]
     },
     "execution_count": 54,
     "metadata": {},
     "output_type": "execute_result"
    }
   ],
   "source": [
    "\n",
    "#Calculte the presence of null Values\n",
    "df.isnull().sum().sum()"
   ]
  },
  {
   "cell_type": "code",
   "execution_count": 55,
   "id": "62f9fe6d",
   "metadata": {},
   "outputs": [
    {
     "data": {
      "text/plain": [
       "0"
      ]
     },
     "execution_count": 55,
     "metadata": {},
     "output_type": "execute_result"
    }
   ],
   "source": [
    "# calculate the number of Duplicate value\n",
    "df.duplicated().sum()"
   ]
  },
  {
   "cell_type": "code",
   "execution_count": 13,
   "id": "336d48c0",
   "metadata": {},
   "outputs": [
    {
     "name": "stdout",
     "output_type": "stream",
     "text": [
      "<class 'pandas.core.frame.DataFrame'>\n",
      "RangeIndex: 150001 entries, 0 to 150000\n",
      "Data columns (total 55 columns):\n",
      " #   Column                                    Non-Null Count   Dtype  \n",
      "---  ------                                    --------------   -----  \n",
      " 0   bearer_id                                 150001 non-null  float64\n",
      " 1   start                                     150001 non-null  object \n",
      " 2   start_ms                                  150001 non-null  float64\n",
      " 3   end                                       150001 non-null  object \n",
      " 4   end_ms                                    150001 non-null  float64\n",
      " 5   dur._(ms)                                 150001 non-null  float64\n",
      " 6   imsi                                      150001 non-null  float64\n",
      " 7   msisdn/number                             150001 non-null  float64\n",
      " 8   imei                                      150001 non-null  float64\n",
      " 9   last_location_name                        150001 non-null  object \n",
      " 10  avg_rtt_dl_(ms)                           150001 non-null  float64\n",
      " 11  avg_rtt_ul_(ms)                           150001 non-null  float64\n",
      " 12  avg_bearer_tp_dl_(kbps)                   150001 non-null  float64\n",
      " 13  avg_bearer_tp_ul_(kbps)                   150001 non-null  float64\n",
      " 14  tcp_dl_retrans._vol_(bytes)               150001 non-null  float64\n",
      " 15  tcp_ul_retrans._vol_(bytes)               150001 non-null  float64\n",
      " 16  dl_tp_<_50_kbps_(%)                       150001 non-null  float64\n",
      " 17  50_kbps_<_dl_tp_<_250_kbps_(%)            150001 non-null  float64\n",
      " 18  250_kbps_<_dl_tp_<_1_mbps_(%)             150001 non-null  float64\n",
      " 19  dl_tp_>_1_mbps_(%)                        150001 non-null  float64\n",
      " 20  ul_tp_<_10_kbps_(%)                       150001 non-null  float64\n",
      " 21  10_kbps_<_ul_tp_<_50_kbps_(%)             150001 non-null  float64\n",
      " 22  50_kbps_<_ul_tp_<_300_kbps_(%)            150001 non-null  float64\n",
      " 23  ul_tp_>_300_kbps_(%)                      150001 non-null  float64\n",
      " 24  http_dl_(bytes)                           150001 non-null  float64\n",
      " 25  http_ul_(bytes)                           150001 non-null  float64\n",
      " 26  activity_duration_dl_(ms)                 150001 non-null  float64\n",
      " 27  activity_duration_ul_(ms)                 150001 non-null  float64\n",
      " 28  dur._(ms).1                               150001 non-null  float64\n",
      " 29  handset_manufacturer                      150001 non-null  object \n",
      " 30  handset_type                              150001 non-null  object \n",
      " 31  nb_of_sec_with_125000b_<_vol_dl           150001 non-null  float64\n",
      " 32  nb_of_sec_with_1250b_<_vol_ul_<_6250b     150001 non-null  float64\n",
      " 33  nb_of_sec_with_31250b_<_vol_dl_<_125000b  150001 non-null  float64\n",
      " 34  nb_of_sec_with_37500b_<_vol_ul            150001 non-null  float64\n",
      " 35  nb_of_sec_with_6250b_<_vol_dl_<_31250b    150001 non-null  float64\n",
      " 36  nb_of_sec_with_6250b_<_vol_ul_<_37500b    150001 non-null  float64\n",
      " 37  nb_of_sec_with_vol_dl_<_6250b             150001 non-null  float64\n",
      " 38  nb_of_sec_with_vol_ul_<_1250b             150001 non-null  float64\n",
      " 39  social_media_dl_(bytes)                   150001 non-null  float64\n",
      " 40  social_media_ul_(bytes)                   150001 non-null  float64\n",
      " 41  google_dl_(bytes)                         150001 non-null  float64\n",
      " 42  google_ul_(bytes)                         150001 non-null  float64\n",
      " 43  email_dl_(bytes)                          150001 non-null  float64\n",
      " 44  email_ul_(bytes)                          150001 non-null  float64\n",
      " 45  youtube_dl_(bytes)                        150001 non-null  float64\n",
      " 46  youtube_ul_(bytes)                        150001 non-null  float64\n",
      " 47  netflix_dl_(bytes)                        150001 non-null  float64\n",
      " 48  netflix_ul_(bytes)                        150001 non-null  float64\n",
      " 49  gaming_dl_(bytes)                         150001 non-null  float64\n",
      " 50  gaming_ul_(bytes)                         150001 non-null  float64\n",
      " 51  other_dl_(bytes)                          150001 non-null  float64\n",
      " 52  other_ul_(bytes)                          150001 non-null  float64\n",
      " 53  total_ul_(bytes)                          150001 non-null  float64\n",
      " 54  total_dl_(bytes)                          150001 non-null  float64\n",
      "dtypes: float64(50), object(5)\n",
      "memory usage: 62.9+ MB\n"
     ]
    }
   ],
   "source": [
    "df.info()"
   ]
  },
  {
   "cell_type": "code",
   "execution_count": 56,
   "id": "fdd28de3",
   "metadata": {},
   "outputs": [
    {
     "name": "stderr",
     "output_type": "stream",
     "text": [
      "C:\\ProgramData\\Anaconda3\\lib\\site-packages\\seaborn\\_decorators.py:36: FutureWarning: Pass the following variable as a keyword arg: x. From version 0.12, the only valid positional argument will be `data`, and passing other arguments without an explicit keyword will result in an error or misinterpretation.\n",
      "  warnings.warn(\n",
      "C:\\ProgramData\\Anaconda3\\lib\\site-packages\\seaborn\\_core.py:1326: UserWarning: Vertical orientation ignored with only `x` specified.\n",
      "  warnings.warn(single_var_warning.format(\"Vertical\", \"x\"))\n"
     ]
    },
    {
     "data": {
      "text/plain": [
       "<AxesSubplot:xlabel='total_dl_(bytes)'>"
      ]
     },
     "execution_count": 56,
     "metadata": {},
     "output_type": "execute_result"
    },
    {
     "data": {
      "image/png": "[encoded data removed]",
      "text/plain": [
       "<Figure size 720x576 with 1 Axes>"
      ]
     },
     "metadata": {
      "needs_background": "light"
     },
     "output_type": "display_data"
    }
   ],
   "source": [
    "# Check the presence of outlier using box plot\n",
    "plt.figure(figsize=(10,8))\n",
    "sns.boxplot(df[\"total_dl_(bytes)\"],orient=\"vert\")"
   ]
  },
  {
   "cell_type": "code",
   "execution_count": null,
   "id": "595fd681",
   "metadata": {},
   "outputs": [],
   "source": [
    "# The Above box plot shows there is very small outliers, so actual data modelling can be done."
   ]
  },
  {
   "cell_type": "markdown",
   "id": "c96ccd00",
   "metadata": {},
   "source": [
    "# Get the total data used by each application"
   ]
  },
  {
   "cell_type": "code",
   "execution_count": 57,
   "id": "ece31694",
   "metadata": {},
   "outputs": [],
   "source": [
    "#total data of google\n",
    "df[\"google_total\"]=df[\"google_dl_(bytes)\"]+df[\"google_ul_(bytes)\"]\n",
    "#df[\"google_total\"]"
   ]
  },
  {
   "cell_type": "code",
   "execution_count": 58,
   "id": "6956a1c2",
   "metadata": {},
   "outputs": [],
   "source": [
    "#total data of google\n",
    "df[\"google_total\"]=df[\"google_dl_(bytes)\"]+df[\"google_ul_(bytes)\"]\n",
    "#Total data used by Email\n",
    "df[\"email_total\"]=df[\"email_dl_(bytes)\"]+df[\"email_ul_(bytes)\"]\n",
    "#Total data used by Youtube\n",
    "df[\"youtube_total\"]=df[\"youtube_dl_(bytes)\"]+df[\"youtube_ul_(bytes)\"]\n",
    "#Total data used by Netflix\n",
    "df[\"netflix_total\"]=df[\"netflix_dl_(bytes)\"]+df[\"netflix_ul_(bytes)\"]\n",
    "#Total data used by Email\n",
    "df[\"email_total\"]=df[\"email_dl_(bytes)\"]+df[\"email_ul_(bytes)\"]\n",
    "#Total data used by gaming\n",
    "df[\"gaming_total\"]=df[\"gaming_dl_(bytes)\"]+df[\"gaming_ul_(bytes)\"]\n",
    "#Total data used by Other\n",
    "df[\"other_total\"]=df[\"other_dl_(bytes)\"]+df[\"other_ul_(bytes)\"]\n",
    "#Total data used by Social Media\n",
    "df[\"social_media_total\"]=df[\"social_media_dl_(bytes)\"]+df[\"social_media_ul_(bytes)\"]\n",
    "#Total data used by Total\n",
    "df[\"Total_Data\"]=df[\"total_dl_(bytes)\"]+df[\"total_ul_(bytes)\"]"
   ]
  },
  {
   "cell_type": "code",
   "execution_count": 65,
   "id": "07544410",
   "metadata": {},
   "outputs": [
    {
     "data": {
      "text/html": [
       "<div>\n",
       "<style scoped>\n",
       "    .dataframe tbody tr th:only-of-type {\n",
       "        vertical-align: middle;\n",
       "    }\n",
       "\n",
       "    .dataframe tbody tr th {\n",
       "        vertical-align: top;\n",
       "    }\n",
       "\n",
       "    .dataframe thead th {\n",
       "        text-align: right;\n",
       "    }\n",
       "</style>\n",
       "<table border=\"1\" class=\"dataframe\">\n",
       "  <thead>\n",
       "    <tr style=\"text-align: right;\">\n",
       "      <th></th>\n",
       "      <th>session_id</th>\n",
       "      <th>start</th>\n",
       "      <th>start_ms</th>\n",
       "      <th>end</th>\n",
       "      <th>end_ms</th>\n",
       "      <th>dur._(ms)</th>\n",
       "      <th>imsi</th>\n",
       "      <th>MSISDN_Number</th>\n",
       "      <th>imei</th>\n",
       "      <th>last_location_name</th>\n",
       "      <th>...</th>\n",
       "      <th>total_ul_(bytes)</th>\n",
       "      <th>total_dl_(bytes)</th>\n",
       "      <th>google_total</th>\n",
       "      <th>email_total</th>\n",
       "      <th>youtube_total</th>\n",
       "      <th>netflix_total</th>\n",
       "      <th>gaming_total</th>\n",
       "      <th>other_total</th>\n",
       "      <th>social_media_total</th>\n",
       "      <th>Total_Data</th>\n",
       "    </tr>\n",
       "  </thead>\n",
       "  <tbody>\n",
       "    <tr>\n",
       "      <th>0</th>\n",
       "      <td>1.311448e+19</td>\n",
       "      <td>4/4/2019 12:01</td>\n",
       "      <td>770.0</td>\n",
       "      <td>4/25/2019 14:35</td>\n",
       "      <td>662.0</td>\n",
       "      <td>14.416352</td>\n",
       "      <td>2.082014e+14</td>\n",
       "      <td>3.366496e+10</td>\n",
       "      <td>3.552121e+13</td>\n",
       "      <td>9.16456699548519E+015</td>\n",
       "      <td>...</td>\n",
       "      <td>17.419642</td>\n",
       "      <td>19.548462</td>\n",
       "      <td>28.362490</td>\n",
       "      <td>26.919548</td>\n",
       "      <td>31.311305</td>\n",
       "      <td>32.002631</td>\n",
       "      <td>35.922280</td>\n",
       "      <td>34.953415</td>\n",
       "      <td>24.354187</td>\n",
       "      <td>36.968104</td>\n",
       "    </tr>\n",
       "    <tr>\n",
       "      <th>1</th>\n",
       "      <td>1.311448e+19</td>\n",
       "      <td>4/9/2019 13:04</td>\n",
       "      <td>235.0</td>\n",
       "      <td>4/25/2019 8:15</td>\n",
       "      <td>606.0</td>\n",
       "      <td>14.126741</td>\n",
       "      <td>2.082019e+14</td>\n",
       "      <td>3.368185e+10</td>\n",
       "      <td>3.579401e+13</td>\n",
       "      <td>L77566A</td>\n",
       "      <td>...</td>\n",
       "      <td>17.800791</td>\n",
       "      <td>20.297677</td>\n",
       "      <td>28.798852</td>\n",
       "      <td>25.990915</td>\n",
       "      <td>33.589349</td>\n",
       "      <td>33.386505</td>\n",
       "      <td>34.200038</td>\n",
       "      <td>36.609760</td>\n",
       "      <td>23.347978</td>\n",
       "      <td>38.098468</td>\n",
       "    </tr>\n",
       "    <tr>\n",
       "      <th>2</th>\n",
       "      <td>1.311448e+19</td>\n",
       "      <td>4/9/2019 17:42</td>\n",
       "      <td>1.0</td>\n",
       "      <td>4/25/2019 11:58</td>\n",
       "      <td>652.0</td>\n",
       "      <td>14.124290</td>\n",
       "      <td>2.082003e+14</td>\n",
       "      <td>3.376063e+10</td>\n",
       "      <td>3.528151e+13</td>\n",
       "      <td>D42335A</td>\n",
       "      <td>...</td>\n",
       "      <td>17.143551</td>\n",
       "      <td>19.449612</td>\n",
       "      <td>30.302333</td>\n",
       "      <td>28.224568</td>\n",
       "      <td>33.300760</td>\n",
       "      <td>32.316856</td>\n",
       "      <td>32.140017</td>\n",
       "      <td>35.087697</td>\n",
       "      <td>24.987458</td>\n",
       "      <td>36.593162</td>\n",
       "    </tr>\n",
       "    <tr>\n",
       "      <th>3</th>\n",
       "      <td>1.311448e+19</td>\n",
       "      <td>4/10/2019 0:31</td>\n",
       "      <td>486.0</td>\n",
       "      <td>4/25/2019 7:36</td>\n",
       "      <td>171.0</td>\n",
       "      <td>14.094285</td>\n",
       "      <td>2.082014e+14</td>\n",
       "      <td>3.375034e+10</td>\n",
       "      <td>3.535661e+13</td>\n",
       "      <td>T21824A</td>\n",
       "      <td>...</td>\n",
       "      <td>17.584222</td>\n",
       "      <td>20.556064</td>\n",
       "      <td>30.856214</td>\n",
       "      <td>27.535407</td>\n",
       "      <td>33.411636</td>\n",
       "      <td>30.363133</td>\n",
       "      <td>36.699195</td>\n",
       "      <td>36.799046</td>\n",
       "      <td>22.876560</td>\n",
       "      <td>38.140286</td>\n",
       "    </tr>\n",
       "    <tr>\n",
       "      <th>4</th>\n",
       "      <td>1.311448e+19</td>\n",
       "      <td>4/12/2019 20:10</td>\n",
       "      <td>565.0</td>\n",
       "      <td>4/25/2019 10:40</td>\n",
       "      <td>954.0</td>\n",
       "      <td>13.900779</td>\n",
       "      <td>2.082014e+14</td>\n",
       "      <td>3.369980e+10</td>\n",
       "      <td>3.540701e+13</td>\n",
       "      <td>D88865A</td>\n",
       "      <td>...</td>\n",
       "      <td>17.467280</td>\n",
       "      <td>20.159635</td>\n",
       "      <td>29.869166</td>\n",
       "      <td>26.542356</td>\n",
       "      <td>33.298699</td>\n",
       "      <td>29.592584</td>\n",
       "      <td>35.160804</td>\n",
       "      <td>36.574860</td>\n",
       "      <td>24.491238</td>\n",
       "      <td>37.626915</td>\n",
       "    </tr>\n",
       "    <tr>\n",
       "      <th>...</th>\n",
       "      <td>...</td>\n",
       "      <td>...</td>\n",
       "      <td>...</td>\n",
       "      <td>...</td>\n",
       "      <td>...</td>\n",
       "      <td>...</td>\n",
       "      <td>...</td>\n",
       "      <td>...</td>\n",
       "      <td>...</td>\n",
       "      <td>...</td>\n",
       "      <td>...</td>\n",
       "      <td>...</td>\n",
       "      <td>...</td>\n",
       "      <td>...</td>\n",
       "      <td>...</td>\n",
       "      <td>...</td>\n",
       "      <td>...</td>\n",
       "      <td>...</td>\n",
       "      <td>...</td>\n",
       "      <td>...</td>\n",
       "      <td>...</td>\n",
       "    </tr>\n",
       "    <tr>\n",
       "      <th>149996</th>\n",
       "      <td>7.277826e+18</td>\n",
       "      <td>4/29/2019 7:28</td>\n",
       "      <td>451.0</td>\n",
       "      <td>4/30/2019 6:02</td>\n",
       "      <td>214.0</td>\n",
       "      <td>11.305040</td>\n",
       "      <td>2.082022e+14</td>\n",
       "      <td>3.365069e+10</td>\n",
       "      <td>3.548311e+13</td>\n",
       "      <td>D20434A</td>\n",
       "      <td>...</td>\n",
       "      <td>17.869534</td>\n",
       "      <td>20.168445</td>\n",
       "      <td>30.966144</td>\n",
       "      <td>24.320555</td>\n",
       "      <td>32.880513</td>\n",
       "      <td>33.494420</td>\n",
       "      <td>36.116381</td>\n",
       "      <td>31.415888</td>\n",
       "      <td>25.918963</td>\n",
       "      <td>38.037979</td>\n",
       "    </tr>\n",
       "    <tr>\n",
       "      <th>149997</th>\n",
       "      <td>7.349883e+18</td>\n",
       "      <td>4/29/2019 7:28</td>\n",
       "      <td>483.0</td>\n",
       "      <td>4/30/2019 10:41</td>\n",
       "      <td>187.0</td>\n",
       "      <td>11.492417</td>\n",
       "      <td>2.082019e+14</td>\n",
       "      <td>3.366345e+10</td>\n",
       "      <td>3.566051e+13</td>\n",
       "      <td>D10223C</td>\n",
       "      <td>...</td>\n",
       "      <td>17.482530</td>\n",
       "      <td>20.317774</td>\n",
       "      <td>29.214809</td>\n",
       "      <td>26.513169</td>\n",
       "      <td>32.376114</td>\n",
       "      <td>33.652106</td>\n",
       "      <td>35.626786</td>\n",
       "      <td>35.098602</td>\n",
       "      <td>23.605224</td>\n",
       "      <td>37.800304</td>\n",
       "    </tr>\n",
       "    <tr>\n",
       "      <th>149998</th>\n",
       "      <td>1.311448e+19</td>\n",
       "      <td>4/29/2019 7:28</td>\n",
       "      <td>283.0</td>\n",
       "      <td>4/30/2019 10:46</td>\n",
       "      <td>810.0</td>\n",
       "      <td>11.495260</td>\n",
       "      <td>2.082017e+14</td>\n",
       "      <td>3.362189e+10</td>\n",
       "      <td>3.572121e+13</td>\n",
       "      <td>T51102A</td>\n",
       "      <td>...</td>\n",
       "      <td>17.368348</td>\n",
       "      <td>20.200345</td>\n",
       "      <td>29.985303</td>\n",
       "      <td>27.423405</td>\n",
       "      <td>31.370016</td>\n",
       "      <td>31.552498</td>\n",
       "      <td>36.542185</td>\n",
       "      <td>34.853750</td>\n",
       "      <td>23.609891</td>\n",
       "      <td>37.568692</td>\n",
       "    </tr>\n",
       "    <tr>\n",
       "      <th>149999</th>\n",
       "      <td>1.311448e+19</td>\n",
       "      <td>4/29/2019 7:28</td>\n",
       "      <td>696.0</td>\n",
       "      <td>4/30/2019 10:40</td>\n",
       "      <td>327.0</td>\n",
       "      <td>11.491804</td>\n",
       "      <td>2.082021e+14</td>\n",
       "      <td>3.361962e+10</td>\n",
       "      <td>8.618620e+13</td>\n",
       "      <td>L88342B</td>\n",
       "      <td>...</td>\n",
       "      <td>17.204166</td>\n",
       "      <td>19.734125</td>\n",
       "      <td>30.335531</td>\n",
       "      <td>27.958466</td>\n",
       "      <td>31.924621</td>\n",
       "      <td>31.409802</td>\n",
       "      <td>34.424188</td>\n",
       "      <td>34.675267</td>\n",
       "      <td>23.572987</td>\n",
       "      <td>36.938291</td>\n",
       "    </tr>\n",
       "    <tr>\n",
       "      <th>150000</th>\n",
       "      <td>7.349883e+18</td>\n",
       "      <td>4/26/2019 7:25</td>\n",
       "      <td>499.0</td>\n",
       "      <td>4/25/2019 0:01</td>\n",
       "      <td>500.0</td>\n",
       "      <td>11.366731</td>\n",
       "      <td>2.082015e+14</td>\n",
       "      <td>3.366371e+10</td>\n",
       "      <td>3.572201e+13</td>\n",
       "      <td>D41377B</td>\n",
       "      <td>...</td>\n",
       "      <td>17.532572</td>\n",
       "      <td>19.937655</td>\n",
       "      <td>30.101378</td>\n",
       "      <td>27.453575</td>\n",
       "      <td>32.483710</td>\n",
       "      <td>32.482393</td>\n",
       "      <td>35.790989</td>\n",
       "      <td>35.785898</td>\n",
       "      <td>24.802787</td>\n",
       "      <td>37.470227</td>\n",
       "    </tr>\n",
       "  </tbody>\n",
       "</table>\n",
       "<p>150001 rows × 63 columns</p>\n",
       "</div>"
      ],
      "text/plain": [
       "          session_id            start  start_ms              end  end_ms  \\\n",
       "0       1.311448e+19   4/4/2019 12:01     770.0  4/25/2019 14:35   662.0   \n",
       "1       1.311448e+19   4/9/2019 13:04     235.0   4/25/2019 8:15   606.0   \n",
       "2       1.311448e+19   4/9/2019 17:42       1.0  4/25/2019 11:58   652.0   \n",
       "3       1.311448e+19   4/10/2019 0:31     486.0   4/25/2019 7:36   171.0   \n",
       "4       1.311448e+19  4/12/2019 20:10     565.0  4/25/2019 10:40   954.0   \n",
       "...              ...              ...       ...              ...     ...   \n",
       "149996  7.277826e+18   4/29/2019 7:28     451.0   4/30/2019 6:02   214.0   \n",
       "149997  7.349883e+18   4/29/2019 7:28     483.0  4/30/2019 10:41   187.0   \n",
       "149998  1.311448e+19   4/29/2019 7:28     283.0  4/30/2019 10:46   810.0   \n",
       "149999  1.311448e+19   4/29/2019 7:28     696.0  4/30/2019 10:40   327.0   \n",
       "150000  7.349883e+18   4/26/2019 7:25     499.0   4/25/2019 0:01   500.0   \n",
       "\n",
       "        dur._(ms)          imsi  MSISDN_Number          imei  \\\n",
       "0       14.416352  2.082014e+14   3.366496e+10  3.552121e+13   \n",
       "1       14.126741  2.082019e+14   3.368185e+10  3.579401e+13   \n",
       "2       14.124290  2.082003e+14   3.376063e+10  3.528151e+13   \n",
       "3       14.094285  2.082014e+14   3.375034e+10  3.535661e+13   \n",
       "4       13.900779  2.082014e+14   3.369980e+10  3.540701e+13   \n",
       "...           ...           ...            ...           ...   \n",
       "149996  11.305040  2.082022e+14   3.365069e+10  3.548311e+13   \n",
       "149997  11.492417  2.082019e+14   3.366345e+10  3.566051e+13   \n",
       "149998  11.495260  2.082017e+14   3.362189e+10  3.572121e+13   \n",
       "149999  11.491804  2.082021e+14   3.361962e+10  8.618620e+13   \n",
       "150000  11.366731  2.082015e+14   3.366371e+10  3.572201e+13   \n",
       "\n",
       "           last_location_name  ...  total_ul_(bytes)  total_dl_(bytes)  \\\n",
       "0       9.16456699548519E+015  ...         17.419642         19.548462   \n",
       "1                     L77566A  ...         17.800791         20.297677   \n",
       "2                     D42335A  ...         17.143551         19.449612   \n",
       "3                     T21824A  ...         17.584222         20.556064   \n",
       "4                     D88865A  ...         17.467280         20.159635   \n",
       "...                       ...  ...               ...               ...   \n",
       "149996                D20434A  ...         17.869534         20.168445   \n",
       "149997                D10223C  ...         17.482530         20.317774   \n",
       "149998                T51102A  ...         17.368348         20.200345   \n",
       "149999                L88342B  ...         17.204166         19.734125   \n",
       "150000                D41377B  ...         17.532572         19.937655   \n",
       "\n",
       "        google_total  email_total  youtube_total  netflix_total  gaming_total  \\\n",
       "0          28.362490    26.919548      31.311305      32.002631     35.922280   \n",
       "1          28.798852    25.990915      33.589349      33.386505     34.200038   \n",
       "2          30.302333    28.224568      33.300760      32.316856     32.140017   \n",
       "3          30.856214    27.535407      33.411636      30.363133     36.699195   \n",
       "4          29.869166    26.542356      33.298699      29.592584     35.160804   \n",
       "...              ...          ...            ...            ...           ...   \n",
       "149996     30.966144    24.320555      32.880513      33.494420     36.116381   \n",
       "149997     29.214809    26.513169      32.376114      33.652106     35.626786   \n",
       "149998     29.985303    27.423405      31.370016      31.552498     36.542185   \n",
       "149999     30.335531    27.958466      31.924621      31.409802     34.424188   \n",
       "150000     30.101378    27.453575      32.483710      32.482393     35.790989   \n",
       "\n",
       "        other_total  social_media_total  Total_Data  \n",
       "0         34.953415           24.354187   36.968104  \n",
       "1         36.609760           23.347978   38.098468  \n",
       "2         35.087697           24.987458   36.593162  \n",
       "3         36.799046           22.876560   38.140286  \n",
       "4         36.574860           24.491238   37.626915  \n",
       "...             ...                 ...         ...  \n",
       "149996    31.415888           25.918963   38.037979  \n",
       "149997    35.098602           23.605224   37.800304  \n",
       "149998    34.853750           23.609891   37.568692  \n",
       "149999    34.675267           23.572987   36.938291  \n",
       "150000    35.785898           24.802787   37.470227  \n",
       "\n",
       "[150001 rows x 63 columns]"
      ]
     },
     "execution_count": 65,
     "metadata": {},
     "output_type": "execute_result"
    }
   ],
   "source": [
    "# Rename bearer_id to session_id\n",
    "df = df.rename( columns={'bearer_id': 'session_id'})\n",
    "# Rename msisdn/number to MSISDN_Number\n",
    "df=df.rename(columns={\"msisdn/number\":\"MSISDN_Number\"})\n",
    "df"
   ]
  },
  {
   "cell_type": "code",
   "execution_count": 29,
   "id": "5c673abb",
   "metadata": {},
   "outputs": [
    {
     "data": {
      "text/plain": [
       "0         1.311448e+19\n",
       "1         1.311448e+19\n",
       "2         1.311448e+19\n",
       "3         1.311448e+19\n",
       "4         1.311448e+19\n",
       "              ...     \n",
       "149996    7.277826e+18\n",
       "149997    7.349883e+18\n",
       "149998    1.311448e+19\n",
       "149999    1.311448e+19\n",
       "150000    7.349883e+18\n",
       "Name: session_id, Length: 150001, dtype: float64"
      ]
     },
     "execution_count": 29,
     "metadata": {},
     "output_type": "execute_result"
    }
   ],
   "source": [
    "df[\"session_id\"]"
   ]
  },
  {
   "cell_type": "markdown",
   "id": "6c9fb449",
   "metadata": {},
   "source": [
    "# Aggregate Each user to session Count, Duration and Total data consumed for each application"
   ]
  },
  {
   "cell_type": "code",
   "execution_count": 95,
   "id": "bd959e6b",
   "metadata": {},
   "outputs": [
    {
     "data": {
      "text/html": [
       "<div>\n",
       "<style scoped>\n",
       "    .dataframe tbody tr th:only-of-type {\n",
       "        vertical-align: middle;\n",
       "    }\n",
       "\n",
       "    .dataframe tbody tr th {\n",
       "        vertical-align: top;\n",
       "    }\n",
       "\n",
       "    .dataframe thead th {\n",
       "        text-align: right;\n",
       "    }\n",
       "</style>\n",
       "<table border=\"1\" class=\"dataframe\">\n",
       "  <thead>\n",
       "    <tr style=\"text-align: right;\">\n",
       "      <th></th>\n",
       "      <th>session_id</th>\n",
       "      <th>dur._(ms)</th>\n",
       "      <th>Total_Data</th>\n",
       "    </tr>\n",
       "    <tr>\n",
       "      <th>MSISDN_Number</th>\n",
       "      <th></th>\n",
       "      <th></th>\n",
       "      <th></th>\n",
       "    </tr>\n",
       "  </thead>\n",
       "  <tbody>\n",
       "    <tr>\n",
       "      <th>3.360100e+10</th>\n",
       "      <td>1</td>\n",
       "      <td>11.667533</td>\n",
       "      <td>37.952551</td>\n",
       "    </tr>\n",
       "    <tr>\n",
       "      <th>3.360100e+10</th>\n",
       "      <td>1</td>\n",
       "      <td>12.107522</td>\n",
       "      <td>36.011203</td>\n",
       "    </tr>\n",
       "    <tr>\n",
       "      <th>3.360100e+10</th>\n",
       "      <td>1</td>\n",
       "      <td>11.812800</td>\n",
       "      <td>37.624373</td>\n",
       "    </tr>\n",
       "    <tr>\n",
       "      <th>3.360101e+10</th>\n",
       "      <td>1</td>\n",
       "      <td>10.817335</td>\n",
       "      <td>36.639432</td>\n",
       "    </tr>\n",
       "    <tr>\n",
       "      <th>3.360101e+10</th>\n",
       "      <td>2</td>\n",
       "      <td>19.656666</td>\n",
       "      <td>75.943057</td>\n",
       "    </tr>\n",
       "    <tr>\n",
       "      <th>3.360101e+10</th>\n",
       "      <td>2</td>\n",
       "      <td>23.503676</td>\n",
       "      <td>72.688300</td>\n",
       "    </tr>\n",
       "    <tr>\n",
       "      <th>3.360101e+10</th>\n",
       "      <td>2</td>\n",
       "      <td>22.138894</td>\n",
       "      <td>73.968552</td>\n",
       "    </tr>\n",
       "    <tr>\n",
       "      <th>3.360101e+10</th>\n",
       "      <td>1</td>\n",
       "      <td>11.366731</td>\n",
       "      <td>36.967502</td>\n",
       "    </tr>\n",
       "    <tr>\n",
       "      <th>3.360101e+10</th>\n",
       "      <td>2</td>\n",
       "      <td>24.692915</td>\n",
       "      <td>74.967991</td>\n",
       "    </tr>\n",
       "    <tr>\n",
       "      <th>3.360102e+10</th>\n",
       "      <td>1</td>\n",
       "      <td>11.734900</td>\n",
       "      <td>38.013066</td>\n",
       "    </tr>\n",
       "  </tbody>\n",
       "</table>\n",
       "</div>"
      ],
      "text/plain": [
       "               session_id  dur._(ms)  Total_Data\n",
       "MSISDN_Number                                   \n",
       "3.360100e+10            1  11.667533   37.952551\n",
       "3.360100e+10            1  12.107522   36.011203\n",
       "3.360100e+10            1  11.812800   37.624373\n",
       "3.360101e+10            1  10.817335   36.639432\n",
       "3.360101e+10            2  19.656666   75.943057\n",
       "3.360101e+10            2  23.503676   72.688300\n",
       "3.360101e+10            2  22.138894   73.968552\n",
       "3.360101e+10            1  11.366731   36.967502\n",
       "3.360101e+10            2  24.692915   74.967991\n",
       "3.360102e+10            1  11.734900   38.013066"
      ]
     },
     "execution_count": 95,
     "metadata": {},
     "output_type": "execute_result"
    }
   ],
   "source": [
    "UserEngagement=df.groupby(\"MSISDN_Number\").agg({\"session_id\":\"count\",\"dur._(ms)\":\"sum\",\"Total_Data\": \"sum\"})\n",
    "UserEngagement.head(10)"
   ]
  },
  {
   "cell_type": "markdown",
   "id": "38773528",
   "metadata": {},
   "source": [
    "# Top 10 per Engagement Metrics"
   ]
  },
  {
   "cell_type": "code",
   "execution_count": 107,
   "id": "a8730500",
   "metadata": {},
   "outputs": [],
   "source": [
    "# Top 10 users per Session Frequency\n",
    "EngagementPer_session_Frequency = UserEngagement.nlargest(10, \"session_id\")['session_id']\n",
    "# Top 10 users per Session Duration\n",
    "EngagementPer_session_Duration=UserEngagement.nlargest(10,\"dur._(ms)\")[\"dur._(ms)\"]\n",
    "# Top 10 users per Session Total Data\n",
    "EngagementPer_session_TotalData=UserEngagement.nlargest(10,\"Total_Data\")[\"Total_Data\"]"
   ]
  },
  {
   "cell_type": "code",
   "execution_count": 108,
   "id": "e4a2d536",
   "metadata": {},
   "outputs": [],
   "source": [
    "# Convert the Session metrics into data frame\n",
    "user_session_Dataframe=pd.DataFrame()\n",
    "user_session_Dataframe['User_ID'] = EngagementPer_session_Frequency.index\n",
    "user_session_Dataframe['session_id'] = EngagementPer_session_Frequency.values\n",
    "\n",
    "Session_durations_df = pd.DataFrame()\n",
    "Session_durations_df['User_ID'] = EngagementPer_session_Duration.index\n",
    "Session_durations_df['Duration_MS '] = EngagementPer_session_Duration.values\n",
    "\n",
    "TotalData_df = pd.DataFrame()\n",
    "TotalData_df['User_ID'] = EngagementPer_session_TotalData.index\n",
    "TotalData_df['Total_Data'] = EngagementPer_session_TotalData.values"
   ]
  },
  {
   "cell_type": "code",
   "execution_count": 109,
   "id": "bd6673c6",
   "metadata": {},
   "outputs": [
    {
     "data": {
      "text/html": [
       "<div>\n",
       "<style scoped>\n",
       "    .dataframe tbody tr th:only-of-type {\n",
       "        vertical-align: middle;\n",
       "    }\n",
       "\n",
       "    .dataframe tbody tr th {\n",
       "        vertical-align: top;\n",
       "    }\n",
       "\n",
       "    .dataframe thead th {\n",
       "        text-align: right;\n",
       "    }\n",
       "</style>\n",
       "<table border=\"1\" class=\"dataframe\">\n",
       "  <thead>\n",
       "    <tr style=\"text-align: right;\">\n",
       "      <th></th>\n",
       "      <th>User_ID</th>\n",
       "      <th>session_id</th>\n",
       "    </tr>\n",
       "  </thead>\n",
       "  <tbody>\n",
       "    <tr>\n",
       "      <th>0</th>\n",
       "      <td>3.362632e+10</td>\n",
       "      <td>18</td>\n",
       "    </tr>\n",
       "    <tr>\n",
       "      <th>1</th>\n",
       "      <td>3.361489e+10</td>\n",
       "      <td>17</td>\n",
       "    </tr>\n",
       "    <tr>\n",
       "      <th>2</th>\n",
       "      <td>3.362578e+10</td>\n",
       "      <td>17</td>\n",
       "    </tr>\n",
       "    <tr>\n",
       "      <th>3</th>\n",
       "      <td>3.365973e+10</td>\n",
       "      <td>16</td>\n",
       "    </tr>\n",
       "    <tr>\n",
       "      <th>4</th>\n",
       "      <td>3.367588e+10</td>\n",
       "      <td>15</td>\n",
       "    </tr>\n",
       "  </tbody>\n",
       "</table>\n",
       "</div>"
      ],
      "text/plain": [
       "        User_ID  session_id\n",
       "0  3.362632e+10          18\n",
       "1  3.361489e+10          17\n",
       "2  3.362578e+10          17\n",
       "3  3.365973e+10          16\n",
       "4  3.367588e+10          15"
      ]
     },
     "execution_count": 109,
     "metadata": {},
     "output_type": "execute_result"
    }
   ],
   "source": [
    "user_session_Dataframe.head()\n"
   ]
  },
  {
   "cell_type": "code",
   "execution_count": 110,
   "id": "c6aa42a3",
   "metadata": {},
   "outputs": [
    {
     "data": {
      "text/html": [
       "<div>\n",
       "<style scoped>\n",
       "    .dataframe tbody tr th:only-of-type {\n",
       "        vertical-align: middle;\n",
       "    }\n",
       "\n",
       "    .dataframe tbody tr th {\n",
       "        vertical-align: top;\n",
       "    }\n",
       "\n",
       "    .dataframe thead th {\n",
       "        text-align: right;\n",
       "    }\n",
       "</style>\n",
       "<table border=\"1\" class=\"dataframe\">\n",
       "  <thead>\n",
       "    <tr style=\"text-align: right;\">\n",
       "      <th></th>\n",
       "      <th>User_ID</th>\n",
       "      <th>Duration_MS</th>\n",
       "    </tr>\n",
       "  </thead>\n",
       "  <tbody>\n",
       "    <tr>\n",
       "      <th>0</th>\n",
       "      <td>3.362578e+10</td>\n",
       "      <td>233.413129</td>\n",
       "    </tr>\n",
       "    <tr>\n",
       "      <th>1</th>\n",
       "      <td>3.362632e+10</td>\n",
       "      <td>231.977427</td>\n",
       "    </tr>\n",
       "    <tr>\n",
       "      <th>2</th>\n",
       "      <td>3.361489e+10</td>\n",
       "      <td>222.446521</td>\n",
       "    </tr>\n",
       "    <tr>\n",
       "      <th>3</th>\n",
       "      <td>3.365973e+10</td>\n",
       "      <td>198.016024</td>\n",
       "    </tr>\n",
       "    <tr>\n",
       "      <th>4</th>\n",
       "      <td>3.376054e+10</td>\n",
       "      <td>195.767900</td>\n",
       "    </tr>\n",
       "  </tbody>\n",
       "</table>\n",
       "</div>"
      ],
      "text/plain": [
       "        User_ID  Duration_MS \n",
       "0  3.362578e+10    233.413129\n",
       "1  3.362632e+10    231.977427\n",
       "2  3.361489e+10    222.446521\n",
       "3  3.365973e+10    198.016024\n",
       "4  3.376054e+10    195.767900"
      ]
     },
     "execution_count": 110,
     "metadata": {},
     "output_type": "execute_result"
    }
   ],
   "source": [
    "Session_durations_df.head()\n"
   ]
  },
  {
   "cell_type": "code",
   "execution_count": 111,
   "id": "c965201a",
   "metadata": {},
   "outputs": [
    {
     "data": {
      "text/html": [
       "<div>\n",
       "<style scoped>\n",
       "    .dataframe tbody tr th:only-of-type {\n",
       "        vertical-align: middle;\n",
       "    }\n",
       "\n",
       "    .dataframe tbody tr th {\n",
       "        vertical-align: top;\n",
       "    }\n",
       "\n",
       "    .dataframe thead th {\n",
       "        text-align: right;\n",
       "    }\n",
       "</style>\n",
       "<table border=\"1\" class=\"dataframe\">\n",
       "  <thead>\n",
       "    <tr style=\"text-align: right;\">\n",
       "      <th></th>\n",
       "      <th>User_ID</th>\n",
       "      <th>Total_Data</th>\n",
       "    </tr>\n",
       "  </thead>\n",
       "  <tbody>\n",
       "    <tr>\n",
       "      <th>0</th>\n",
       "      <td>3.362632e+10</td>\n",
       "      <td>667.707948</td>\n",
       "    </tr>\n",
       "    <tr>\n",
       "      <th>1</th>\n",
       "      <td>3.362578e+10</td>\n",
       "      <td>634.698734</td>\n",
       "    </tr>\n",
       "    <tr>\n",
       "      <th>2</th>\n",
       "      <td>3.361489e+10</td>\n",
       "      <td>633.565683</td>\n",
       "    </tr>\n",
       "    <tr>\n",
       "      <th>3</th>\n",
       "      <td>3.365973e+10</td>\n",
       "      <td>592.952528</td>\n",
       "    </tr>\n",
       "    <tr>\n",
       "      <th>4</th>\n",
       "      <td>3.376054e+10</td>\n",
       "      <td>562.221591</td>\n",
       "    </tr>\n",
       "  </tbody>\n",
       "</table>\n",
       "</div>"
      ],
      "text/plain": [
       "        User_ID  Total_Data\n",
       "0  3.362632e+10  667.707948\n",
       "1  3.362578e+10  634.698734\n",
       "2  3.361489e+10  633.565683\n",
       "3  3.365973e+10  592.952528\n",
       "4  3.376054e+10  562.221591"
      ]
     },
     "execution_count": 111,
     "metadata": {},
     "output_type": "execute_result"
    }
   ],
   "source": [
    "TotalData_df.head()"
   ]
  },
  {
   "cell_type": "code",
   "execution_count": 114,
   "id": "e89a4762",
   "metadata": {},
   "outputs": [
    {
     "data": {
      "text/plain": [
       "[]"
      ]
     },
     "execution_count": 114,
     "metadata": {},
     "output_type": "execute_result"
    },
    {
     "data": {
      "image/png": "[encoded data removed]",
      "text/plain": [
       "<Figure size 1800x360 with 3 Axes>"
      ]
     },
     "metadata": {
      "needs_background": "light"
     },
     "output_type": "display_data"
    }
   ],
   "source": [
    "fig, axes = plt.subplots(1, 3, figsize=(25, 5))\n",
    "ax1 = sns.barplot(data=user_session_Dataframe, x='User_ID', orient='v', y='session_id', ax=axes[0])\n",
    "#ax2 = sns.barplot(data=Session_durations_df, x='User_ID',orient='v', y='Duration_MS', ax=axes[1])\n",
    "ax3 = sns.barplot(data=TotalData_df, x='User_ID',orient='v', y='Total_Data', ax=axes[2])\n",
    "\n",
    "\n",
    "ax1.set_xticklabels(ax1.xaxis.get_majorticklabels(), rotation=45)\n",
    "#ax2.set_xticklabels(ax2.xaxis.get_majorticklabels(), rotation=45)\n",
    "ax3.set_xticklabels(ax3.xaxis.get_majorticklabels(), rotation=45)\n",
    "plt.plot()"
   ]
  },
  {
   "cell_type": "code",
   "execution_count": null,
   "id": "68278116",
   "metadata": {},
   "outputs": [],
   "source": [
    "# As shown Above one presentation dominated the presentation. So, treated as outlier and remove."
   ]
  },
  {
   "cell_type": "code",
   "execution_count": 105,
   "id": "0bc91877",
   "metadata": {},
   "outputs": [],
   "source": [
    "UserEngagement.drop(33663706799.0, axis=0, inplace=True)"
   ]
  },
  {
   "cell_type": "markdown",
   "id": "8a647c8d",
   "metadata": {},
   "source": [
    "# Normalize Engagement Metrics"
   ]
  },
  {
   "cell_type": "code",
   "execution_count": 103,
   "id": "313cb176",
   "metadata": {},
   "outputs": [],
   "source": [
    "from sklearn.preprocessing import Normalizer\n",
    "\n",
    "def normalizer(df, columns):\n",
    "    norm = Normalizer()\n",
    "    # normalize the exponential data with boxcox\n",
    "    normalized_data = norm.fit_transform(df)\n",
    "\n",
    "    # plot both together to compare\n",
    "    fig, ax=plt.subplots(1,2, figsize=(10, 6))\n",
    "    sns.histplot(df, ax=ax[0])\n",
    "    ax[0].set_title(\"Original Data\")\n",
    "    sns.histplot(normalized_data[0], ax=ax[1])\n",
    "    ax[1].set_title(\"Normalized data\")\n",
    "    return pd.DataFrame(norm.fit_transform(df), columns=columns)"
   ]
  },
  {
   "cell_type": "code",
   "execution_count": 116,
   "id": "8a9f951f",
   "metadata": {},
   "outputs": [
    {
     "data": {
      "image/png": "[encoded data removed]",
      "text/plain": [
       "<Figure size 720x432 with 2 Axes>"
      ]
     },
     "metadata": {
      "needs_background": "light"
     },
     "output_type": "display_data"
    }
   ],
   "source": [
    "normalized_user_engagement = normalizer(UserEngagement, ['session_id', 'dur._(ms)', 'Total_Data'] )"
   ]
  },
  {
   "cell_type": "code",
   "execution_count": 117,
   "id": "0d6681d4",
   "metadata": {},
   "outputs": [
    {
     "data": {
      "text/html": [
       "<div>\n",
       "<style scoped>\n",
       "    .dataframe tbody tr th:only-of-type {\n",
       "        vertical-align: middle;\n",
       "    }\n",
       "\n",
       "    .dataframe tbody tr th {\n",
       "        vertical-align: top;\n",
       "    }\n",
       "\n",
       "    .dataframe thead th {\n",
       "        text-align: right;\n",
       "    }\n",
       "</style>\n",
       "<table border=\"1\" class=\"dataframe\">\n",
       "  <thead>\n",
       "    <tr style=\"text-align: right;\">\n",
       "      <th></th>\n",
       "      <th>session_id</th>\n",
       "      <th>dur._(ms)</th>\n",
       "      <th>Total_Data</th>\n",
       "    </tr>\n",
       "  </thead>\n",
       "  <tbody>\n",
       "    <tr>\n",
       "      <th>0</th>\n",
       "      <td>0.025177</td>\n",
       "      <td>0.293759</td>\n",
       "      <td>0.955548</td>\n",
       "    </tr>\n",
       "    <tr>\n",
       "      <th>1</th>\n",
       "      <td>0.026312</td>\n",
       "      <td>0.318575</td>\n",
       "      <td>0.947532</td>\n",
       "    </tr>\n",
       "    <tr>\n",
       "      <th>2</th>\n",
       "      <td>0.025350</td>\n",
       "      <td>0.299453</td>\n",
       "      <td>0.953774</td>\n",
       "    </tr>\n",
       "    <tr>\n",
       "      <th>3</th>\n",
       "      <td>0.026167</td>\n",
       "      <td>0.283058</td>\n",
       "      <td>0.958746</td>\n",
       "    </tr>\n",
       "    <tr>\n",
       "      <th>4</th>\n",
       "      <td>0.025487</td>\n",
       "      <td>0.250495</td>\n",
       "      <td>0.967782</td>\n",
       "    </tr>\n",
       "  </tbody>\n",
       "</table>\n",
       "</div>"
      ],
      "text/plain": [
       "   session_id  dur._(ms)  Total_Data\n",
       "0    0.025177   0.293759    0.955548\n",
       "1    0.026312   0.318575    0.947532\n",
       "2    0.025350   0.299453    0.953774\n",
       "3    0.026167   0.283058    0.958746\n",
       "4    0.025487   0.250495    0.967782"
      ]
     },
     "execution_count": 117,
     "metadata": {},
     "output_type": "execute_result"
    }
   ],
   "source": [
    "normalized_user_engagement.head()"
   ]
  },
  {
   "cell_type": "code",
   "execution_count": 118,
   "id": "929bbb3f",
   "metadata": {},
   "outputs": [
    {
     "data": {
      "text/html": [
       "<div>\n",
       "<style scoped>\n",
       "    .dataframe tbody tr th:only-of-type {\n",
       "        vertical-align: middle;\n",
       "    }\n",
       "\n",
       "    .dataframe tbody tr th {\n",
       "        vertical-align: top;\n",
       "    }\n",
       "\n",
       "    .dataframe thead th {\n",
       "        text-align: right;\n",
       "    }\n",
       "</style>\n",
       "<table border=\"1\" class=\"dataframe\">\n",
       "  <thead>\n",
       "    <tr style=\"text-align: right;\">\n",
       "      <th></th>\n",
       "      <th>session_id</th>\n",
       "      <th>dur._(ms)</th>\n",
       "      <th>Total_Data</th>\n",
       "    </tr>\n",
       "  </thead>\n",
       "  <tbody>\n",
       "    <tr>\n",
       "      <th>count</th>\n",
       "      <td>106855.000000</td>\n",
       "      <td>106855.000000</td>\n",
       "      <td>106855.000000</td>\n",
       "    </tr>\n",
       "    <tr>\n",
       "      <th>mean</th>\n",
       "      <td>0.025714</td>\n",
       "      <td>0.290363</td>\n",
       "      <td>0.956384</td>\n",
       "    </tr>\n",
       "    <tr>\n",
       "      <th>std</th>\n",
       "      <td>0.000504</td>\n",
       "      <td>0.018112</td>\n",
       "      <td>0.005407</td>\n",
       "    </tr>\n",
       "    <tr>\n",
       "      <th>min</th>\n",
       "      <td>0.024454</td>\n",
       "      <td>0.226974</td>\n",
       "      <td>0.930108</td>\n",
       "    </tr>\n",
       "    <tr>\n",
       "      <th>25%</th>\n",
       "      <td>0.025351</td>\n",
       "      <td>0.281301</td>\n",
       "      <td>0.952876</td>\n",
       "    </tr>\n",
       "    <tr>\n",
       "      <th>50%</th>\n",
       "      <td>0.025624</td>\n",
       "      <td>0.292597</td>\n",
       "      <td>0.955891</td>\n",
       "    </tr>\n",
       "    <tr>\n",
       "      <th>75%</th>\n",
       "      <td>0.025979</td>\n",
       "      <td>0.302272</td>\n",
       "      <td>0.959275</td>\n",
       "    </tr>\n",
       "    <tr>\n",
       "      <th>max</th>\n",
       "      <td>0.028807</td>\n",
       "      <td>0.366379</td>\n",
       "      <td>0.973566</td>\n",
       "    </tr>\n",
       "  </tbody>\n",
       "</table>\n",
       "</div>"
      ],
      "text/plain": [
       "          session_id      dur._(ms)     Total_Data\n",
       "count  106855.000000  106855.000000  106855.000000\n",
       "mean        0.025714       0.290363       0.956384\n",
       "std         0.000504       0.018112       0.005407\n",
       "min         0.024454       0.226974       0.930108\n",
       "25%         0.025351       0.281301       0.952876\n",
       "50%         0.025624       0.292597       0.955891\n",
       "75%         0.025979       0.302272       0.959275\n",
       "max         0.028807       0.366379       0.973566"
      ]
     },
     "execution_count": 118,
     "metadata": {},
     "output_type": "execute_result"
    }
   ],
   "source": [
    "normalized_user_engagement.describe()"
   ]
  },
  {
   "cell_type": "code",
   "execution_count": 123,
   "id": "70109d5d",
   "metadata": {},
   "outputs": [
    {
     "data": {
      "image/png": "[encoded data removed]",
      "text/plain": [
       "<Figure size 1080x432 with 2 Axes>"
      ]
     },
     "metadata": {
      "needs_background": "light"
     },
     "output_type": "display_data"
    }
   ],
   "source": [
    "plt.figure(figsize=(15,6))\n",
    "plt.subplot(1,2,1)\n",
    "sns.violinplot(y=UserEngagement[\"dur._(ms)\"])\n",
    "# sns.boxplot(y=user_engagement[\"dur._(ms)\"], color=\"red\")\n",
    "plt.subplot(1,2,2)\n",
    "sns.violinplot(y=UserEngagement[\"session_id\"])\n",
    "# sns.boxplot(y=user_engagement[\"total_data\"])\n",
    "plt.show()\n",
    "\n"
   ]
  },
  {
   "cell_type": "markdown",
   "id": "c66d9f23",
   "metadata": {},
   "source": [
    "# Perform K-Means Clustering with K=3"
   ]
  },
  {
   "cell_type": "code",
   "execution_count": 127,
   "id": "7774a1d3",
   "metadata": {},
   "outputs": [
    {
     "data": {
      "text/plain": [
       "array([0, 1, 0, ..., 1, 1, 1])"
      ]
     },
     "execution_count": 127,
     "metadata": {},
     "output_type": "execute_result"
    }
   ],
   "source": [
    "from sklearn.cluster import KMeans\n",
    "\n",
    "kmeans = KMeans(n_clusters=3)\n",
    "kmeans.fit(normalized_user_engagement)\n",
    "identified_clusters = kmeans.fit_predict(normalized_user_engagement)# these are the labels\n",
    "#centroids = kmeans.cluster_centers_"
   ]
  },
  {
   "cell_type": "code",
   "execution_count": 139,
   "id": "86638c28",
   "metadata": {},
   "outputs": [
    {
     "data": {
      "text/plain": [
       "array([0, 1, 2])"
      ]
     },
     "execution_count": 139,
     "metadata": {},
     "output_type": "execute_result"
    }
   ],
   "source": [
    "centroids = kmeans.cluster_centers_\n",
    "lables_unique = np.unique(identified_clusters)\n"
   ]
  },
  {
   "cell_type": "code",
   "execution_count": 160,
   "id": "b080feb1",
   "metadata": {},
   "outputs": [
    {
     "data": {
      "text/html": [
       "<div>\n",
       "<style scoped>\n",
       "    .dataframe tbody tr th:only-of-type {\n",
       "        vertical-align: middle;\n",
       "    }\n",
       "\n",
       "    .dataframe tbody tr th {\n",
       "        vertical-align: top;\n",
       "    }\n",
       "\n",
       "    .dataframe thead th {\n",
       "        text-align: right;\n",
       "    }\n",
       "</style>\n",
       "<table border=\"1\" class=\"dataframe\">\n",
       "  <thead>\n",
       "    <tr style=\"text-align: right;\">\n",
       "      <th></th>\n",
       "      <th>session_id</th>\n",
       "      <th>dur._(ms)</th>\n",
       "      <th>Total_Data</th>\n",
       "    </tr>\n",
       "  </thead>\n",
       "  <tbody>\n",
       "    <tr>\n",
       "      <th>0</th>\n",
       "      <td>0.025177</td>\n",
       "      <td>0.293759</td>\n",
       "      <td>0.955548</td>\n",
       "    </tr>\n",
       "    <tr>\n",
       "      <th>1</th>\n",
       "      <td>0.026312</td>\n",
       "      <td>0.318575</td>\n",
       "      <td>0.947532</td>\n",
       "    </tr>\n",
       "    <tr>\n",
       "      <th>2</th>\n",
       "      <td>0.025350</td>\n",
       "      <td>0.299453</td>\n",
       "      <td>0.953774</td>\n",
       "    </tr>\n",
       "    <tr>\n",
       "      <th>3</th>\n",
       "      <td>0.026167</td>\n",
       "      <td>0.283058</td>\n",
       "      <td>0.958746</td>\n",
       "    </tr>\n",
       "    <tr>\n",
       "      <th>4</th>\n",
       "      <td>0.025487</td>\n",
       "      <td>0.250495</td>\n",
       "      <td>0.967782</td>\n",
       "    </tr>\n",
       "    <tr>\n",
       "      <th>...</th>\n",
       "      <td>...</td>\n",
       "      <td>...</td>\n",
       "      <td>...</td>\n",
       "    </tr>\n",
       "    <tr>\n",
       "      <th>106850</th>\n",
       "      <td>0.025941</td>\n",
       "      <td>0.235640</td>\n",
       "      <td>0.971494</td>\n",
       "    </tr>\n",
       "    <tr>\n",
       "      <th>106851</th>\n",
       "      <td>0.025539</td>\n",
       "      <td>0.302801</td>\n",
       "      <td>0.952711</td>\n",
       "    </tr>\n",
       "    <tr>\n",
       "      <th>106852</th>\n",
       "      <td>0.025632</td>\n",
       "      <td>0.350760</td>\n",
       "      <td>0.936115</td>\n",
       "    </tr>\n",
       "    <tr>\n",
       "      <th>106853</th>\n",
       "      <td>0.025026</td>\n",
       "      <td>0.311357</td>\n",
       "      <td>0.949964</td>\n",
       "    </tr>\n",
       "    <tr>\n",
       "      <th>106854</th>\n",
       "      <td>0.025896</td>\n",
       "      <td>0.354162</td>\n",
       "      <td>0.934825</td>\n",
       "    </tr>\n",
       "  </tbody>\n",
       "</table>\n",
       "<p>106855 rows × 3 columns</p>\n",
       "</div>"
      ],
      "text/plain": [
       "        session_id  dur._(ms)  Total_Data\n",
       "0         0.025177   0.293759    0.955548\n",
       "1         0.026312   0.318575    0.947532\n",
       "2         0.025350   0.299453    0.953774\n",
       "3         0.026167   0.283058    0.958746\n",
       "4         0.025487   0.250495    0.967782\n",
       "...            ...        ...         ...\n",
       "106850    0.025941   0.235640    0.971494\n",
       "106851    0.025539   0.302801    0.952711\n",
       "106852    0.025632   0.350760    0.936115\n",
       "106853    0.025026   0.311357    0.949964\n",
       "106854    0.025896   0.354162    0.934825\n",
       "\n",
       "[106855 rows x 3 columns]"
      ]
     },
     "execution_count": 160,
     "metadata": {},
     "output_type": "execute_result"
    }
   ],
   "source": [
    "normalized_user_engagement"
   ]
  },
  {
   "cell_type": "markdown",
   "id": "cf54fbe7",
   "metadata": {},
   "source": [
    "# Three Cluster plot for Data Points"
   ]
  },
  {
   "cell_type": "code",
   "execution_count": 151,
   "id": "c30dd418",
   "metadata": {},
   "outputs": [
    {
     "data": {
      "image/png": "[encoded data removed]",
      "text/plain": [
       "<Figure size 720x360 with 1 Axes>"
      ]
     },
     "metadata": {
      "needs_background": "light"
     },
     "output_type": "display_data"
    }
   ],
   "source": [
    "lables_unique = np.unique(label)\n",
    "#plotting the results:\n",
    "plt.figure(figsize=(10,5))\n",
    "plt.title('User K-Means Classification with 3 Groups (Standardized Data)')\n",
    "for i in lables_unique:\n",
    "    plt.scatter(normalized_user_engagement[label == i].iloc[:,0] , normalized_user_engagement[label == i].iloc[:,1], marker='o', label = i,\n",
    "               )\n",
    "plt.scatter(centroids[:,0] , centroids[:,1],centroids[:,2], marker='x', color = 'red')\n",
    "plt.legend()\n",
    "plt.show()\n",
    "\n",
    "\n"
   ]
  },
  {
   "cell_type": "markdown",
   "id": "ccf134cc",
   "metadata": {},
   "source": [
    "# minimum, maximum, average & total non- normalized metrics for each cluster"
   ]
  },
  {
   "cell_type": "code",
   "execution_count": 157,
   "id": "c9b305b4",
   "metadata": {},
   "outputs": [],
   "source": [
    "dataframe_Cluster=pd.DataFrame()\n",
    "dataframe_Cluster[\"index\"]=normalized_user_engagement.index.values\n",
    "dataframe_Cluster[\"cluster\"]=kmeans.labels_"
   ]
  },
  {
   "cell_type": "code",
   "execution_count": 159,
   "id": "218e89a2",
   "metadata": {},
   "outputs": [
    {
     "data": {
      "text/plain": [
       "0    51944\n",
       "1    33314\n",
       "2    21597\n",
       "Name: cluster, dtype: int64"
      ]
     },
     "execution_count": 159,
     "metadata": {},
     "output_type": "execute_result"
    }
   ],
   "source": [
    "dataframe_Cluster.cluster.value_counts()"
   ]
  },
  {
   "cell_type": "code",
   "execution_count": 166,
   "id": "31ebb983",
   "metadata": {},
   "outputs": [
    {
     "data": {
      "text/html": [
       "<div>\n",
       "<style scoped>\n",
       "    .dataframe tbody tr th:only-of-type {\n",
       "        vertical-align: middle;\n",
       "    }\n",
       "\n",
       "    .dataframe tbody tr th {\n",
       "        vertical-align: top;\n",
       "    }\n",
       "\n",
       "    .dataframe thead th {\n",
       "        text-align: right;\n",
       "    }\n",
       "</style>\n",
       "<table border=\"1\" class=\"dataframe\">\n",
       "  <thead>\n",
       "    <tr style=\"text-align: right;\">\n",
       "      <th></th>\n",
       "      <th>session_id</th>\n",
       "      <th>dur._(ms)</th>\n",
       "      <th>Total_Data</th>\n",
       "    </tr>\n",
       "    <tr>\n",
       "      <th>MSISDN_Number</th>\n",
       "      <th></th>\n",
       "      <th></th>\n",
       "      <th></th>\n",
       "    </tr>\n",
       "  </thead>\n",
       "  <tbody>\n",
       "    <tr>\n",
       "      <th>3.360100e+10</th>\n",
       "      <td>1</td>\n",
       "      <td>11.667533</td>\n",
       "      <td>37.952551</td>\n",
       "    </tr>\n",
       "    <tr>\n",
       "      <th>3.360100e+10</th>\n",
       "      <td>1</td>\n",
       "      <td>12.107522</td>\n",
       "      <td>36.011203</td>\n",
       "    </tr>\n",
       "    <tr>\n",
       "      <th>3.360100e+10</th>\n",
       "      <td>1</td>\n",
       "      <td>11.812800</td>\n",
       "      <td>37.624373</td>\n",
       "    </tr>\n",
       "    <tr>\n",
       "      <th>3.360101e+10</th>\n",
       "      <td>1</td>\n",
       "      <td>10.817335</td>\n",
       "      <td>36.639432</td>\n",
       "    </tr>\n",
       "    <tr>\n",
       "      <th>3.360101e+10</th>\n",
       "      <td>2</td>\n",
       "      <td>19.656666</td>\n",
       "      <td>75.943057</td>\n",
       "    </tr>\n",
       "  </tbody>\n",
       "</table>\n",
       "</div>"
      ],
      "text/plain": [
       "               session_id  dur._(ms)  Total_Data\n",
       "MSISDN_Number                                   \n",
       "3.360100e+10            1  11.667533   37.952551\n",
       "3.360100e+10            1  12.107522   36.011203\n",
       "3.360100e+10            1  11.812800   37.624373\n",
       "3.360101e+10            1  10.817335   36.639432\n",
       "3.360101e+10            2  19.656666   75.943057"
      ]
     },
     "execution_count": 166,
     "metadata": {},
     "output_type": "execute_result"
    }
   ],
   "source": [
    "UserEngage_df=UserEngagement.copy()\n",
    "UserEngage_df.head()"
   ]
  },
  {
   "cell_type": "code",
   "execution_count": 168,
   "id": "bfba85f3",
   "metadata": {},
   "outputs": [
    {
     "data": {
      "text/html": [
       "<div>\n",
       "<style scoped>\n",
       "    .dataframe tbody tr th:only-of-type {\n",
       "        vertical-align: middle;\n",
       "    }\n",
       "\n",
       "    .dataframe tbody tr th {\n",
       "        vertical-align: top;\n",
       "    }\n",
       "\n",
       "    .dataframe thead th {\n",
       "        text-align: right;\n",
       "    }\n",
       "</style>\n",
       "<table border=\"1\" class=\"dataframe\">\n",
       "  <thead>\n",
       "    <tr style=\"text-align: right;\">\n",
       "      <th></th>\n",
       "      <th>cluster</th>\n",
       "      <th>session_id</th>\n",
       "      <th>dur._(ms)</th>\n",
       "      <th>Total_Data</th>\n",
       "    </tr>\n",
       "    <tr>\n",
       "      <th>MSISDN_Number</th>\n",
       "      <th></th>\n",
       "      <th></th>\n",
       "      <th></th>\n",
       "      <th></th>\n",
       "    </tr>\n",
       "  </thead>\n",
       "  <tbody>\n",
       "    <tr>\n",
       "      <th>3.360100e+10</th>\n",
       "      <td>0</td>\n",
       "      <td>1</td>\n",
       "      <td>11.667533</td>\n",
       "      <td>37.952551</td>\n",
       "    </tr>\n",
       "    <tr>\n",
       "      <th>3.360100e+10</th>\n",
       "      <td>1</td>\n",
       "      <td>1</td>\n",
       "      <td>12.107522</td>\n",
       "      <td>36.011203</td>\n",
       "    </tr>\n",
       "    <tr>\n",
       "      <th>3.360100e+10</th>\n",
       "      <td>0</td>\n",
       "      <td>1</td>\n",
       "      <td>11.812800</td>\n",
       "      <td>37.624373</td>\n",
       "    </tr>\n",
       "    <tr>\n",
       "      <th>3.360101e+10</th>\n",
       "      <td>0</td>\n",
       "      <td>1</td>\n",
       "      <td>10.817335</td>\n",
       "      <td>36.639432</td>\n",
       "    </tr>\n",
       "    <tr>\n",
       "      <th>3.360101e+10</th>\n",
       "      <td>2</td>\n",
       "      <td>2</td>\n",
       "      <td>19.656666</td>\n",
       "      <td>75.943057</td>\n",
       "    </tr>\n",
       "  </tbody>\n",
       "</table>\n",
       "</div>"
      ],
      "text/plain": [
       "               cluster  session_id  dur._(ms)  Total_Data\n",
       "MSISDN_Number                                            \n",
       "3.360100e+10         0           1  11.667533   37.952551\n",
       "3.360100e+10         1           1  12.107522   36.011203\n",
       "3.360100e+10         0           1  11.812800   37.624373\n",
       "3.360101e+10         0           1  10.817335   36.639432\n",
       "3.360101e+10         2           2  19.656666   75.943057"
      ]
     },
     "execution_count": 168,
     "metadata": {},
     "output_type": "execute_result"
    }
   ],
   "source": [
    "UserEngage_df.insert(0, 'cluster', kmeans.labels_)\n",
    "UserEngage_df.head(5)"
   ]
  },
  {
   "cell_type": "code",
   "execution_count": null,
   "id": "518e049c",
   "metadata": {},
   "outputs": [],
   "source": [
    "# Clusters are 3. so, 0,1 and 2 are clusters make their overview"
   ]
  },
  {
   "cell_type": "code",
   "execution_count": 170,
   "id": "24c0a07c",
   "metadata": {},
   "outputs": [
    {
     "data": {
      "text/html": [
       "<div>\n",
       "<style scoped>\n",
       "    .dataframe tbody tr th:only-of-type {\n",
       "        vertical-align: middle;\n",
       "    }\n",
       "\n",
       "    .dataframe tbody tr th {\n",
       "        vertical-align: top;\n",
       "    }\n",
       "\n",
       "    .dataframe thead th {\n",
       "        text-align: right;\n",
       "    }\n",
       "</style>\n",
       "<table border=\"1\" class=\"dataframe\">\n",
       "  <thead>\n",
       "    <tr style=\"text-align: right;\">\n",
       "      <th></th>\n",
       "      <th>cluster</th>\n",
       "      <th>session_id</th>\n",
       "      <th>dur._(ms)</th>\n",
       "      <th>Total_Data</th>\n",
       "    </tr>\n",
       "    <tr>\n",
       "      <th>MSISDN_Number</th>\n",
       "      <th></th>\n",
       "      <th></th>\n",
       "      <th></th>\n",
       "      <th></th>\n",
       "    </tr>\n",
       "  </thead>\n",
       "  <tbody>\n",
       "    <tr>\n",
       "      <th>3.360100e+10</th>\n",
       "      <td>0</td>\n",
       "      <td>1</td>\n",
       "      <td>11.667533</td>\n",
       "      <td>37.952551</td>\n",
       "    </tr>\n",
       "    <tr>\n",
       "      <th>3.360100e+10</th>\n",
       "      <td>0</td>\n",
       "      <td>1</td>\n",
       "      <td>11.812800</td>\n",
       "      <td>37.624373</td>\n",
       "    </tr>\n",
       "    <tr>\n",
       "      <th>3.360101e+10</th>\n",
       "      <td>0</td>\n",
       "      <td>1</td>\n",
       "      <td>10.817335</td>\n",
       "      <td>36.639432</td>\n",
       "    </tr>\n",
       "    <tr>\n",
       "      <th>3.360101e+10</th>\n",
       "      <td>0</td>\n",
       "      <td>2</td>\n",
       "      <td>22.138894</td>\n",
       "      <td>73.968552</td>\n",
       "    </tr>\n",
       "    <tr>\n",
       "      <th>3.360101e+10</th>\n",
       "      <td>0</td>\n",
       "      <td>1</td>\n",
       "      <td>11.366731</td>\n",
       "      <td>36.967502</td>\n",
       "    </tr>\n",
       "  </tbody>\n",
       "</table>\n",
       "</div>"
      ],
      "text/plain": [
       "               cluster  session_id  dur._(ms)  Total_Data\n",
       "MSISDN_Number                                            \n",
       "3.360100e+10         0           1  11.667533   37.952551\n",
       "3.360100e+10         0           1  11.812800   37.624373\n",
       "3.360101e+10         0           1  10.817335   36.639432\n",
       "3.360101e+10         0           2  22.138894   73.968552\n",
       "3.360101e+10         0           1  11.366731   36.967502"
      ]
     },
     "execution_count": 170,
     "metadata": {},
     "output_type": "execute_result"
    }
   ],
   "source": [
    "cluster1 = UserEngage_df[UserEngage_df[\"cluster\"]==0]\n",
    "cluster1.head()"
   ]
  },
  {
   "cell_type": "code",
   "execution_count": 174,
   "id": "7c35491b",
   "metadata": {},
   "outputs": [
    {
     "data": {
      "text/html": [
       "<div>\n",
       "<style scoped>\n",
       "    .dataframe tbody tr th:only-of-type {\n",
       "        vertical-align: middle;\n",
       "    }\n",
       "\n",
       "    .dataframe tbody tr th {\n",
       "        vertical-align: top;\n",
       "    }\n",
       "\n",
       "    .dataframe thead th {\n",
       "        text-align: right;\n",
       "    }\n",
       "</style>\n",
       "<table border=\"1\" class=\"dataframe\">\n",
       "  <thead>\n",
       "    <tr style=\"text-align: right;\">\n",
       "      <th></th>\n",
       "      <th>cluster</th>\n",
       "      <th>session_id</th>\n",
       "      <th>dur._(ms)</th>\n",
       "      <th>Total_Data</th>\n",
       "    </tr>\n",
       "    <tr>\n",
       "      <th>MSISDN_Number</th>\n",
       "      <th></th>\n",
       "      <th></th>\n",
       "      <th></th>\n",
       "      <th></th>\n",
       "    </tr>\n",
       "  </thead>\n",
       "  <tbody>\n",
       "    <tr>\n",
       "      <th>3.360100e+10</th>\n",
       "      <td>1</td>\n",
       "      <td>1</td>\n",
       "      <td>12.107522</td>\n",
       "      <td>36.011203</td>\n",
       "    </tr>\n",
       "    <tr>\n",
       "      <th>3.360101e+10</th>\n",
       "      <td>1</td>\n",
       "      <td>2</td>\n",
       "      <td>23.503676</td>\n",
       "      <td>72.688300</td>\n",
       "    </tr>\n",
       "    <tr>\n",
       "      <th>3.360101e+10</th>\n",
       "      <td>1</td>\n",
       "      <td>2</td>\n",
       "      <td>24.692915</td>\n",
       "      <td>74.967991</td>\n",
       "    </tr>\n",
       "    <tr>\n",
       "      <th>3.360102e+10</th>\n",
       "      <td>1</td>\n",
       "      <td>1</td>\n",
       "      <td>12.422892</td>\n",
       "      <td>35.576051</td>\n",
       "    </tr>\n",
       "    <tr>\n",
       "      <th>3.360102e+10</th>\n",
       "      <td>1</td>\n",
       "      <td>1</td>\n",
       "      <td>12.398002</td>\n",
       "      <td>37.286797</td>\n",
       "    </tr>\n",
       "  </tbody>\n",
       "</table>\n",
       "</div>"
      ],
      "text/plain": [
       "               cluster  session_id  dur._(ms)  Total_Data\n",
       "MSISDN_Number                                            \n",
       "3.360100e+10         1           1  12.107522   36.011203\n",
       "3.360101e+10         1           2  23.503676   72.688300\n",
       "3.360101e+10         1           2  24.692915   74.967991\n",
       "3.360102e+10         1           1  12.422892   35.576051\n",
       "3.360102e+10         1           1  12.398002   37.286797"
      ]
     },
     "execution_count": 174,
     "metadata": {},
     "output_type": "execute_result"
    }
   ],
   "source": [
    "cluster2 = UserEngage_df[UserEngage_df[\"cluster\"]==1]\n",
    "cluster2.head(5)"
   ]
  },
  {
   "cell_type": "code",
   "execution_count": 173,
   "id": "5fa72e49",
   "metadata": {},
   "outputs": [
    {
     "data": {
      "text/html": [
       "<div>\n",
       "<style scoped>\n",
       "    .dataframe tbody tr th:only-of-type {\n",
       "        vertical-align: middle;\n",
       "    }\n",
       "\n",
       "    .dataframe tbody tr th {\n",
       "        vertical-align: top;\n",
       "    }\n",
       "\n",
       "    .dataframe thead th {\n",
       "        text-align: right;\n",
       "    }\n",
       "</style>\n",
       "<table border=\"1\" class=\"dataframe\">\n",
       "  <thead>\n",
       "    <tr style=\"text-align: right;\">\n",
       "      <th></th>\n",
       "      <th>cluster</th>\n",
       "      <th>session_id</th>\n",
       "      <th>dur._(ms)</th>\n",
       "      <th>Total_Data</th>\n",
       "    </tr>\n",
       "    <tr>\n",
       "      <th>MSISDN_Number</th>\n",
       "      <th></th>\n",
       "      <th></th>\n",
       "      <th></th>\n",
       "      <th></th>\n",
       "    </tr>\n",
       "  </thead>\n",
       "  <tbody>\n",
       "    <tr>\n",
       "      <th>3.360101e+10</th>\n",
       "      <td>2</td>\n",
       "      <td>2</td>\n",
       "      <td>19.656666</td>\n",
       "      <td>75.943057</td>\n",
       "    </tr>\n",
       "    <tr>\n",
       "      <th>3.360102e+10</th>\n",
       "      <td>2</td>\n",
       "      <td>1</td>\n",
       "      <td>10.556229</td>\n",
       "      <td>37.885559</td>\n",
       "    </tr>\n",
       "    <tr>\n",
       "      <th>3.360103e+10</th>\n",
       "      <td>2</td>\n",
       "      <td>1</td>\n",
       "      <td>10.449989</td>\n",
       "      <td>37.065504</td>\n",
       "    </tr>\n",
       "    <tr>\n",
       "      <th>3.360103e+10</th>\n",
       "      <td>2</td>\n",
       "      <td>1</td>\n",
       "      <td>9.988977</td>\n",
       "      <td>37.627324</td>\n",
       "    </tr>\n",
       "    <tr>\n",
       "      <th>3.360103e+10</th>\n",
       "      <td>2</td>\n",
       "      <td>2</td>\n",
       "      <td>20.700662</td>\n",
       "      <td>75.876494</td>\n",
       "    </tr>\n",
       "  </tbody>\n",
       "</table>\n",
       "</div>"
      ],
      "text/plain": [
       "               cluster  session_id  dur._(ms)  Total_Data\n",
       "MSISDN_Number                                            \n",
       "3.360101e+10         2           2  19.656666   75.943057\n",
       "3.360102e+10         2           1  10.556229   37.885559\n",
       "3.360103e+10         2           1  10.449989   37.065504\n",
       "3.360103e+10         2           1   9.988977   37.627324\n",
       "3.360103e+10         2           2  20.700662   75.876494"
      ]
     },
     "execution_count": 173,
     "metadata": {},
     "output_type": "execute_result"
    }
   ],
   "source": [
    "cluster3 = UserEngage_df[UserEngage_df[\"cluster\"]==2]\n",
    "cluster3.head()"
   ]
  },
  {
   "cell_type": "code",
   "execution_count": 181,
   "id": "a9264f7a",
   "metadata": {},
   "outputs": [
    {
     "data": {
      "text/html": [
       "<div>\n",
       "<style scoped>\n",
       "    .dataframe tbody tr th:only-of-type {\n",
       "        vertical-align: middle;\n",
       "    }\n",
       "\n",
       "    .dataframe tbody tr th {\n",
       "        vertical-align: top;\n",
       "    }\n",
       "\n",
       "    .dataframe thead th {\n",
       "        text-align: right;\n",
       "    }\n",
       "</style>\n",
       "<table border=\"1\" class=\"dataframe\">\n",
       "  <thead>\n",
       "    <tr style=\"text-align: right;\">\n",
       "      <th></th>\n",
       "      <th>cluster</th>\n",
       "      <th>session_id</th>\n",
       "      <th>dur._(ms)</th>\n",
       "      <th>Total_Data</th>\n",
       "    </tr>\n",
       "  </thead>\n",
       "  <tbody>\n",
       "    <tr>\n",
       "      <th>count</th>\n",
       "      <td>21597.0</td>\n",
       "      <td>21597.000000</td>\n",
       "      <td>21597.000000</td>\n",
       "      <td>21597.000000</td>\n",
       "    </tr>\n",
       "    <tr>\n",
       "      <th>mean</th>\n",
       "      <td>2.0</td>\n",
       "      <td>1.249433</td>\n",
       "      <td>12.706728</td>\n",
       "      <td>46.676741</td>\n",
       "    </tr>\n",
       "    <tr>\n",
       "      <th>std</th>\n",
       "      <td>0.0</td>\n",
       "      <td>0.490666</td>\n",
       "      <td>5.149128</td>\n",
       "      <td>18.326833</td>\n",
       "    </tr>\n",
       "    <tr>\n",
       "      <th>min</th>\n",
       "      <td>2.0</td>\n",
       "      <td>1.000000</td>\n",
       "      <td>8.873748</td>\n",
       "      <td>33.855789</td>\n",
       "    </tr>\n",
       "    <tr>\n",
       "      <th>25%</th>\n",
       "      <td>2.0</td>\n",
       "      <td>1.000000</td>\n",
       "      <td>9.922751</td>\n",
       "      <td>37.186630</td>\n",
       "    </tr>\n",
       "    <tr>\n",
       "      <th>50%</th>\n",
       "      <td>2.0</td>\n",
       "      <td>1.000000</td>\n",
       "      <td>10.326105</td>\n",
       "      <td>37.748760</td>\n",
       "    </tr>\n",
       "    <tr>\n",
       "      <th>75%</th>\n",
       "      <td>2.0</td>\n",
       "      <td>1.000000</td>\n",
       "      <td>10.822475</td>\n",
       "      <td>38.334037</td>\n",
       "    </tr>\n",
       "    <tr>\n",
       "      <th>max</th>\n",
       "      <td>2.0</td>\n",
       "      <td>7.000000</td>\n",
       "      <td>74.685922</td>\n",
       "      <td>263.095992</td>\n",
       "    </tr>\n",
       "  </tbody>\n",
       "</table>\n",
       "</div>"
      ],
      "text/plain": [
       "       cluster    session_id     dur._(ms)    Total_Data\n",
       "count  21597.0  21597.000000  21597.000000  21597.000000\n",
       "mean       2.0      1.249433     12.706728     46.676741\n",
       "std        0.0      0.490666      5.149128     18.326833\n",
       "min        2.0      1.000000      8.873748     33.855789\n",
       "25%        2.0      1.000000      9.922751     37.186630\n",
       "50%        2.0      1.000000     10.326105     37.748760\n",
       "75%        2.0      1.000000     10.822475     38.334037\n",
       "max        2.0      7.000000     74.685922    263.095992"
      ]
     },
     "execution_count": 181,
     "metadata": {},
     "output_type": "execute_result"
    }
   ],
   "source": [
    "cluster3.describe()"
   ]
  },
  {
   "cell_type": "code",
   "execution_count": 180,
   "id": "fb4021c6",
   "metadata": {},
   "outputs": [
    {
     "data": {
      "image/png": "[encoded data removed]",
      "text/plain": [
       "<Figure size 864x504 with 1 Axes>"
      ]
     },
     "metadata": {},
     "output_type": "display_data"
    }
   ],
   "source": [
    "data = [cluster1.session_id.count(), cluster2.session_id.count(), cluster3.session_id.count()]\n",
    "keys = ['Cluster 1', 'Cluster 2', 'Cluster 3']\n",
    "plt.figure(figsize=(12, 7))\n",
    "colors = sns.color_palette('bright')\n",
    "plt.pie(data, labels=keys, colors=colors, autopct='%.0f%%')\n",
    "plt.title(\"Plot For Cluster Distribution Count a pie chart\", size=20)\n",
    "plt.show()\n"
   ]
  },
  {
   "cell_type": "markdown",
   "id": "b1b7edee",
   "metadata": {},
   "source": [
    "# Total traffic per application Aggregation "
   ]
  },
  {
   "cell_type": "code",
   "execution_count": 187,
   "id": "a51e9508",
   "metadata": {},
   "outputs": [
    {
     "data": {
      "text/plain": [
       "session_id            float64\n",
       "start                  object\n",
       "start_ms              float64\n",
       "end                    object\n",
       "end_ms                float64\n",
       "                       ...   \n",
       "netflix_total         float64\n",
       "gaming_total          float64\n",
       "other_total           float64\n",
       "social_media_total    float64\n",
       "Total_Data            float64\n",
       "Length: 63, dtype: object"
      ]
     },
     "execution_count": 187,
     "metadata": {},
     "output_type": "execute_result"
    }
   ],
   "source": [
    "df.dtypes"
   ]
  },
  {
   "cell_type": "code",
   "execution_count": 240,
   "id": "73e3036a",
   "metadata": {},
   "outputs": [
    {
     "data": {
      "text/html": [
       "<div>\n",
       "<style scoped>\n",
       "    .dataframe tbody tr th:only-of-type {\n",
       "        vertical-align: middle;\n",
       "    }\n",
       "\n",
       "    .dataframe tbody tr th {\n",
       "        vertical-align: top;\n",
       "    }\n",
       "\n",
       "    .dataframe thead th {\n",
       "        text-align: right;\n",
       "    }\n",
       "</style>\n",
       "<table border=\"1\" class=\"dataframe\">\n",
       "  <thead>\n",
       "    <tr style=\"text-align: right;\">\n",
       "      <th></th>\n",
       "      <th>google_total</th>\n",
       "      <th>email_total</th>\n",
       "      <th>youtube_total</th>\n",
       "      <th>netflix_total</th>\n",
       "      <th>gaming_total</th>\n",
       "      <th>other_total</th>\n",
       "      <th>social_media_total</th>\n",
       "    </tr>\n",
       "    <tr>\n",
       "      <th>MSISDN_Number</th>\n",
       "      <th></th>\n",
       "      <th></th>\n",
       "      <th></th>\n",
       "      <th></th>\n",
       "      <th></th>\n",
       "      <th></th>\n",
       "      <th></th>\n",
       "    </tr>\n",
       "  </thead>\n",
       "  <tbody>\n",
       "    <tr>\n",
       "      <th>3.360100e+10</th>\n",
       "      <td>28.886711</td>\n",
       "      <td>26.748271</td>\n",
       "      <td>32.238131</td>\n",
       "      <td>32.788024</td>\n",
       "      <td>34.642406</td>\n",
       "      <td>35.812062</td>\n",
       "      <td>24.758478</td>\n",
       "    </tr>\n",
       "    <tr>\n",
       "      <th>3.360100e+10</th>\n",
       "      <td>29.194096</td>\n",
       "      <td>27.934743</td>\n",
       "      <td>31.264510</td>\n",
       "      <td>29.717111</td>\n",
       "      <td>34.974170</td>\n",
       "      <td>34.030799</td>\n",
       "      <td>25.805627</td>\n",
       "    </tr>\n",
       "    <tr>\n",
       "      <th>3.360100e+10</th>\n",
       "      <td>26.531873</td>\n",
       "      <td>28.258763</td>\n",
       "      <td>31.345269</td>\n",
       "      <td>31.475514</td>\n",
       "      <td>36.180352</td>\n",
       "      <td>35.723909</td>\n",
       "      <td>25.733266</td>\n",
       "    </tr>\n",
       "    <tr>\n",
       "      <th>3.360101e+10</th>\n",
       "      <td>30.731634</td>\n",
       "      <td>26.165886</td>\n",
       "      <td>30.060477</td>\n",
       "      <td>27.534749</td>\n",
       "      <td>34.707784</td>\n",
       "      <td>33.165518</td>\n",
       "      <td>22.704073</td>\n",
       "    </tr>\n",
       "    <tr>\n",
       "      <th>3.360101e+10</th>\n",
       "      <td>60.823188</td>\n",
       "      <td>53.460940</td>\n",
       "      <td>63.649461</td>\n",
       "      <td>64.349061</td>\n",
       "      <td>70.313658</td>\n",
       "      <td>71.318676</td>\n",
       "      <td>48.636766</td>\n",
       "    </tr>\n",
       "    <tr>\n",
       "      <th>...</th>\n",
       "      <td>...</td>\n",
       "      <td>...</td>\n",
       "      <td>...</td>\n",
       "      <td>...</td>\n",
       "      <td>...</td>\n",
       "      <td>...</td>\n",
       "      <td>...</td>\n",
       "    </tr>\n",
       "    <tr>\n",
       "      <th>3.379000e+10</th>\n",
       "      <td>29.192118</td>\n",
       "      <td>26.256508</td>\n",
       "      <td>32.656413</td>\n",
       "      <td>28.410670</td>\n",
       "      <td>35.229296</td>\n",
       "      <td>34.664492</td>\n",
       "      <td>23.459775</td>\n",
       "    </tr>\n",
       "    <tr>\n",
       "      <th>3.379000e+10</th>\n",
       "      <td>29.393481</td>\n",
       "      <td>21.235442</td>\n",
       "      <td>32.010315</td>\n",
       "      <td>30.037566</td>\n",
       "      <td>35.928164</td>\n",
       "      <td>34.820827</td>\n",
       "      <td>23.938975</td>\n",
       "    </tr>\n",
       "    <tr>\n",
       "      <th>3.197021e+12</th>\n",
       "      <td>30.403346</td>\n",
       "      <td>27.071495</td>\n",
       "      <td>30.668889</td>\n",
       "      <td>32.755307</td>\n",
       "      <td>35.335906</td>\n",
       "      <td>34.825549</td>\n",
       "      <td>24.162892</td>\n",
       "    </tr>\n",
       "    <tr>\n",
       "      <th>3.370000e+14</th>\n",
       "      <td>30.216433</td>\n",
       "      <td>27.614238</td>\n",
       "      <td>33.443815</td>\n",
       "      <td>32.972744</td>\n",
       "      <td>36.032357</td>\n",
       "      <td>34.179043</td>\n",
       "      <td>23.250760</td>\n",
       "    </tr>\n",
       "    <tr>\n",
       "      <th>8.823971e+14</th>\n",
       "      <td>30.593875</td>\n",
       "      <td>28.347076</td>\n",
       "      <td>33.663664</td>\n",
       "      <td>32.682234</td>\n",
       "      <td>33.673097</td>\n",
       "      <td>36.096507</td>\n",
       "      <td>24.956229</td>\n",
       "    </tr>\n",
       "  </tbody>\n",
       "</table>\n",
       "<p>106856 rows × 7 columns</p>\n",
       "</div>"
      ],
      "text/plain": [
       "               google_total  email_total  youtube_total  netflix_total  \\\n",
       "MSISDN_Number                                                            \n",
       "3.360100e+10      28.886711    26.748271      32.238131      32.788024   \n",
       "3.360100e+10      29.194096    27.934743      31.264510      29.717111   \n",
       "3.360100e+10      26.531873    28.258763      31.345269      31.475514   \n",
       "3.360101e+10      30.731634    26.165886      30.060477      27.534749   \n",
       "3.360101e+10      60.823188    53.460940      63.649461      64.349061   \n",
       "...                     ...          ...            ...            ...   \n",
       "3.379000e+10      29.192118    26.256508      32.656413      28.410670   \n",
       "3.379000e+10      29.393481    21.235442      32.010315      30.037566   \n",
       "3.197021e+12      30.403346    27.071495      30.668889      32.755307   \n",
       "3.370000e+14      30.216433    27.614238      33.443815      32.972744   \n",
       "8.823971e+14      30.593875    28.347076      33.663664      32.682234   \n",
       "\n",
       "               gaming_total  other_total  social_media_total  \n",
       "MSISDN_Number                                                 \n",
       "3.360100e+10      34.642406    35.812062           24.758478  \n",
       "3.360100e+10      34.974170    34.030799           25.805627  \n",
       "3.360100e+10      36.180352    35.723909           25.733266  \n",
       "3.360101e+10      34.707784    33.165518           22.704073  \n",
       "3.360101e+10      70.313658    71.318676           48.636766  \n",
       "...                     ...          ...                 ...  \n",
       "3.379000e+10      35.229296    34.664492           23.459775  \n",
       "3.379000e+10      35.928164    34.820827           23.938975  \n",
       "3.197021e+12      35.335906    34.825549           24.162892  \n",
       "3.370000e+14      36.032357    34.179043           23.250760  \n",
       "8.823971e+14      33.673097    36.096507           24.956229  \n",
       "\n",
       "[106856 rows x 7 columns]"
      ]
     },
     "execution_count": 240,
     "metadata": {},
     "output_type": "execute_result"
    }
   ],
   "source": [
    "Total_Traffic_Aggregation=df.groupby(\"MSISDN_Number\").agg({'google_total':'sum','email_total':'sum','youtube_total':'sum',\n",
    "                                                          'netflix_total':'sum','gaming_total':'sum','other_total':'sum','social_media_total':'sum',\n",
    "                                                          })\n",
    "Total_Traffic_Aggregation"
   ]
  },
  {
   "cell_type": "code",
   "execution_count": 241,
   "id": "17102de8",
   "metadata": {},
   "outputs": [
    {
     "data": {
      "text/plain": [
       "'youtube_total'"
      ]
     },
     "execution_count": 241,
     "metadata": {},
     "output_type": "execute_result"
    }
   ],
   "source": [
    "Total_Traffic_Aggregation.columns.max()"
   ]
  },
  {
   "cell_type": "markdown",
   "id": "ae7458f4",
   "metadata": {},
   "source": [
    "# Get the Top 10 Users of an Application"
   ]
  },
  {
   "cell_type": "code",
   "execution_count": 251,
   "id": "d89e13f0",
   "metadata": {},
   "outputs": [],
   "source": [
    "Google_data_Agg=Total_Traffic_Aggregation.nlargest(10,'google_total')['google_total']\n",
    "Email_data_Agg=Total_Traffic_Aggregation.nlargest(10,'email_total')['email_total']\n",
    "YouTube_data_Agg=Total_Traffic_Aggregation.nlargest(10,'youtube_total')['youtube_total']\n",
    "Netflix_data_Agg=Total_Traffic_Aggregation.nlargest(10,'netflix_total')['netflix_total']\n",
    "Gaming_data_Agg=Total_Traffic_Aggregation.nlargest(10,'gaming_total')['gaming_total']\n",
    "Other_data_Agg=Total_Traffic_Aggregation.nlargest(10,'other_total')['other_total']\n",
    "SocialMedia_data_Agg=Total_Traffic_Aggregation.nlargest(10,'social_media_total')['social_media_total']"
   ]
  },
  {
   "cell_type": "markdown",
   "id": "779e54dd",
   "metadata": {},
   "source": [
    "# Convert Aggregates into dataFrame"
   ]
  },
  {
   "cell_type": "code",
   "execution_count": 252,
   "id": "b38eb4bb",
   "metadata": {},
   "outputs": [
    {
     "data": {
      "text/plain": [
       "MSISDN_Number\n",
       "3.362632e+10    442.860677\n",
       "3.361489e+10    413.240394\n",
       "3.362578e+10    404.350462\n",
       "3.365973e+10    394.552274\n",
       "3.376054e+10    367.325727\n",
       "Name: social_media_total, dtype: float64"
      ]
     },
     "execution_count": 252,
     "metadata": {},
     "output_type": "execute_result"
    }
   ],
   "source": [
    "SocialMedia_data_Agg.head(5)"
   ]
  },
  {
   "cell_type": "code",
   "execution_count": 228,
   "id": "526f3bdb",
   "metadata": {},
   "outputs": [],
   "source": [
    "SocialMedia_data_Agg.drop(33659725664.0, axis=0, inplace=True)"
   ]
  },
  {
   "cell_type": "code",
   "execution_count": 253,
   "id": "92153536",
   "metadata": {},
   "outputs": [],
   "source": [
    "#Convert Google data into data frame\n",
    "Google_Agg_DF=pd.DataFrame()\n",
    "Google_Agg_DF[\"UserId\"]=Google_data_Agg.index\n",
    "Google_Agg_DF[\"google_total\"]=Google_data_Agg.values\n",
    "# Convert Email data to DataFrame\n",
    "Email_data_DF=pd.DataFrame()\n",
    "Email_data_DF[\"UserId\"]=Email_data_Agg.index\n",
    "Email_data_DF[\"email_total\"]=Email_data_Agg.values\n",
    "#convert YouTube data to dataFrame\n",
    "YouTube_data_DF=pd.DataFrame()\n",
    "YouTube_data_DF[\"UserId\"]=YouTube_data_Agg.index\n",
    "YouTube_data_DF[\"youtube_total\"]=YouTube_data_Agg.values\n",
    "\n",
    "# Convert Netflix data to data Frame\n",
    "Netflix_data_DF=pd.DataFrame()\n",
    "Netflix_data_DF[\"UserId\"]=Netflix_data_Agg.index\n",
    "Netflix_data_DF[\"netflix_total\"]=Netflix_data_Agg.values\n",
    "#convert Gaming Data to DataFrame\n",
    "Gaming_data_DF=pd.DataFrame()\n",
    "Gaming_data_DF[\"UserId\"]=Gaming_data_Agg.index\n",
    "Gaming_data_DF[\"gaming_total\"]=Gaming_data_Agg.values\n",
    "#Convert Social Media data to DataFrame\n",
    "SocialMedia_data_DF=pd.DataFrame()\n",
    "SocialMedia_data_DF[\"UserId\"]=Gaming_data_Agg.index\n",
    "SocialMedia_data_DF[\"social_media_total\"]=Gaming_data_Agg.values\n",
    "#Convert Other media data to DataFrame\n",
    "Other_data_DF=pd.DataFrame()\n",
    "Other_data_DF[\"UserId\"]=Other_data_Agg.index\n",
    "Other_data_DF[\"other_total\"]=Other_data_Agg.values"
   ]
  },
  {
   "cell_type": "code",
   "execution_count": 254,
   "id": "24e61239",
   "metadata": {},
   "outputs": [
    {
     "data": {
      "text/html": [
       "<div>\n",
       "<style scoped>\n",
       "    .dataframe tbody tr th:only-of-type {\n",
       "        vertical-align: middle;\n",
       "    }\n",
       "\n",
       "    .dataframe tbody tr th {\n",
       "        vertical-align: top;\n",
       "    }\n",
       "\n",
       "    .dataframe thead th {\n",
       "        text-align: right;\n",
       "    }\n",
       "</style>\n",
       "<table border=\"1\" class=\"dataframe\">\n",
       "  <thead>\n",
       "    <tr style=\"text-align: right;\">\n",
       "      <th></th>\n",
       "      <th>UserId</th>\n",
       "      <th>social_media_total</th>\n",
       "    </tr>\n",
       "  </thead>\n",
       "  <tbody>\n",
       "    <tr>\n",
       "      <th>0</th>\n",
       "      <td>3.362632e+10</td>\n",
       "      <td>633.332525</td>\n",
       "    </tr>\n",
       "    <tr>\n",
       "      <th>1</th>\n",
       "      <td>3.362578e+10</td>\n",
       "      <td>602.272621</td>\n",
       "    </tr>\n",
       "    <tr>\n",
       "      <th>2</th>\n",
       "      <td>3.361489e+10</td>\n",
       "      <td>597.649557</td>\n",
       "    </tr>\n",
       "    <tr>\n",
       "      <th>3</th>\n",
       "      <td>3.365973e+10</td>\n",
       "      <td>558.948230</td>\n",
       "    </tr>\n",
       "    <tr>\n",
       "      <th>4</th>\n",
       "      <td>3.376054e+10</td>\n",
       "      <td>533.910237</td>\n",
       "    </tr>\n",
       "  </tbody>\n",
       "</table>\n",
       "</div>"
      ],
      "text/plain": [
       "         UserId  social_media_total\n",
       "0  3.362632e+10          633.332525\n",
       "1  3.362578e+10          602.272621\n",
       "2  3.361489e+10          597.649557\n",
       "3  3.365973e+10          558.948230\n",
       "4  3.376054e+10          533.910237"
      ]
     },
     "execution_count": 254,
     "metadata": {},
     "output_type": "execute_result"
    }
   ],
   "source": [
    "SocialMedia_data_DF.head(5)\n"
   ]
  },
  {
   "cell_type": "code",
   "execution_count": 226,
   "id": "3aa8ce95",
   "metadata": {},
   "outputs": [
    {
     "data": {
      "text/html": [
       "<div>\n",
       "<style scoped>\n",
       "    .dataframe tbody tr th:only-of-type {\n",
       "        vertical-align: middle;\n",
       "    }\n",
       "\n",
       "    .dataframe tbody tr th {\n",
       "        vertical-align: top;\n",
       "    }\n",
       "\n",
       "    .dataframe thead th {\n",
       "        text-align: right;\n",
       "    }\n",
       "</style>\n",
       "<table border=\"1\" class=\"dataframe\">\n",
       "  <thead>\n",
       "    <tr style=\"text-align: right;\">\n",
       "      <th></th>\n",
       "      <th>UserId</th>\n",
       "      <th>other_total</th>\n",
       "    </tr>\n",
       "  </thead>\n",
       "  <tbody>\n",
       "    <tr>\n",
       "      <th>0</th>\n",
       "      <td>3.366371e+10</td>\n",
       "      <td>37557.372693</td>\n",
       "    </tr>\n",
       "    <tr>\n",
       "      <th>1</th>\n",
       "      <td>3.362632e+10</td>\n",
       "      <td>634.936095</td>\n",
       "    </tr>\n",
       "    <tr>\n",
       "      <th>2</th>\n",
       "      <td>3.362578e+10</td>\n",
       "      <td>601.204842</td>\n",
       "    </tr>\n",
       "    <tr>\n",
       "      <th>3</th>\n",
       "      <td>3.361489e+10</td>\n",
       "      <td>595.427778</td>\n",
       "    </tr>\n",
       "    <tr>\n",
       "      <th>4</th>\n",
       "      <td>3.365973e+10</td>\n",
       "      <td>559.612507</td>\n",
       "    </tr>\n",
       "    <tr>\n",
       "      <th>5</th>\n",
       "      <td>3.367588e+10</td>\n",
       "      <td>534.210258</td>\n",
       "    </tr>\n",
       "    <tr>\n",
       "      <th>6</th>\n",
       "      <td>3.376054e+10</td>\n",
       "      <td>516.657601</td>\n",
       "    </tr>\n",
       "    <tr>\n",
       "      <th>7</th>\n",
       "      <td>3.366716e+10</td>\n",
       "      <td>453.449280</td>\n",
       "    </tr>\n",
       "    <tr>\n",
       "      <th>8</th>\n",
       "      <td>3.360313e+10</td>\n",
       "      <td>425.729121</td>\n",
       "    </tr>\n",
       "    <tr>\n",
       "      <th>9</th>\n",
       "      <td>3.362708e+10</td>\n",
       "      <td>421.732448</td>\n",
       "    </tr>\n",
       "  </tbody>\n",
       "</table>\n",
       "</div>"
      ],
      "text/plain": [
       "         UserId   other_total\n",
       "0  3.366371e+10  37557.372693\n",
       "1  3.362632e+10    634.936095\n",
       "2  3.362578e+10    601.204842\n",
       "3  3.361489e+10    595.427778\n",
       "4  3.365973e+10    559.612507\n",
       "5  3.367588e+10    534.210258\n",
       "6  3.376054e+10    516.657601\n",
       "7  3.366716e+10    453.449280\n",
       "8  3.360313e+10    425.729121\n",
       "9  3.362708e+10    421.732448"
      ]
     },
     "execution_count": 226,
     "metadata": {},
     "output_type": "execute_result"
    }
   ],
   "source": [
    "Other_data_DF.head(10) "
   ]
  },
  {
   "cell_type": "code",
   "execution_count": 246,
   "id": "13b34fc4",
   "metadata": {},
   "outputs": [
    {
     "data": {
      "text/plain": [
       "[]"
      ]
     },
     "execution_count": 246,
     "metadata": {},
     "output_type": "execute_result"
    },
    {
     "data": {
      "image/png": "[encoded data removed]",
      "text/plain": [
       "<Figure size 1800x1080 with 8 Axes>"
      ]
     },
     "metadata": {
      "needs_background": "light"
     },
     "output_type": "display_data"
    }
   ],
   "source": [
    "fig, axes = plt.subplots(2, 4, figsize=(25, 15))\n",
    "socialMedia_plot = sns.barplot(data=SocialMedia_data_DF, x='UserId', orient='v', y='social_media_total', ax=axes[0,0], palette='Blues_d')\n",
    "GoogleMedia_plot = sns.barplot(data=Google_Agg_DF, x='UserId',orient='v', y='google_total', ax=axes[0,1], palette='Reds_d')\n",
    "Netflixdata_plot = sns.barplot(data=Netflix_data_DF, x='UserId',orient='v', y='netflix_total', ax=axes[0,2], palette='Greens_d')\n",
    "YouTubeData_plot = sns.barplot(data=YouTube_data_DF, x='UserId',orient='v', y='youtube_total', ax=axes[0,3], palette='Reds_d')\n",
    "GamingData_plot = sns.barplot(data=Gaming_data_DF, x='UserId',orient='v', y='gaming_total', ax=axes[1,0], palette='Blues_d')\n",
    "OtherData_plot = sns.barplot(data=Other_data_DF, x='UserId',orient='v', y='other_total', ax=axes[1,1], palette='Reds_d')\n",
    "EmailData_plot = sns.barplot(data=Email_data_DF, x='UserId',orient='v', y='email_total', ax=axes[1,2], palette='Greens_d')\n",
    "socialMedia_plot.set_xticklabels(socialMedia_plot.xaxis.get_majorticklabels(), rotation=45)\n",
    "GoogleMedia_plot.set_xticklabels(GoogleMedia_plot.xaxis.get_majorticklabels(), rotation=45)\n",
    "Netflixdata_plot.set_xticklabels(Netflixdata_plot.xaxis.get_majorticklabels(), rotation=45)\n",
    "YouTubeData_plot.set_xticklabels(YouTubeData_plot.xaxis.get_majorticklabels(), rotation=45)\n",
    "GamingData_plot.set_xticklabels(GamingData_plot.xaxis.get_majorticklabels(), rotation=45)\n",
    "OtherData_plot.set_xticklabels(OtherData_plot.xaxis.get_majorticklabels(), rotation=45)\n",
    "EmailData_plot.set_xticklabels(EmailData_plot.xaxis.get_majorticklabels(), rotation=45)\n",
    "plt.plot()"
   ]
  },
  {
   "cell_type": "code",
   "execution_count": null,
   "id": "707080f9",
   "metadata": {},
   "outputs": [],
   "source": [
    "#the Above Presentation were Dominated with single Outlier Value, so to remove it use below command\n",
    "Total_Traffic_Aggregation.drop(33663706799.0, axis=0, inplace=True)"
   ]
  },
  {
   "cell_type": "code",
   "execution_count": 255,
   "id": "a7c81a17",
   "metadata": {},
   "outputs": [
    {
     "data": {
      "text/plain": [
       "[]"
      ]
     },
     "execution_count": 255,
     "metadata": {},
     "output_type": "execute_result"
    },
    {
     "data": {
      "image/png": "[encoded data removed]",
      "text/plain": [
       "<Figure size 1800x1080 with 8 Axes>"
      ]
     },
     "metadata": {
      "needs_background": "light"
     },
     "output_type": "display_data"
    }
   ],
   "source": [
    "fig, axes = plt.subplots(2, 4, figsize=(25, 15))\n",
    "socialMedia_plot = sns.barplot(data=SocialMedia_data_DF, x='UserId', orient='v', y='social_media_total', ax=axes[0,0], palette='Blues_d')\n",
    "GoogleMedia_plot = sns.barplot(data=Google_Agg_DF, x='UserId',orient='v', y='google_total', ax=axes[0,1], palette='Reds_d')\n",
    "Netflixdata_plot = sns.barplot(data=Netflix_data_DF, x='UserId',orient='v', y='netflix_total', ax=axes[0,2], palette='Greens_d')\n",
    "YouTubeData_plot = sns.barplot(data=YouTube_data_DF, x='UserId',orient='v', y='youtube_total', ax=axes[0,3], palette='Reds_d')\n",
    "GamingData_plot = sns.barplot(data=Gaming_data_DF, x='UserId',orient='v', y='gaming_total', ax=axes[1,0], palette='Blues_d')\n",
    "OtherData_plot = sns.barplot(data=Other_data_DF, x='UserId',orient='v', y='other_total', ax=axes[1,1], palette='Reds_d')\n",
    "EmailData_plot = sns.barplot(data=Email_data_DF, x='UserId',orient='v', y='email_total', ax=axes[1,2], palette='Greens_d')\n",
    "socialMedia_plot.set_xticklabels(socialMedia_plot.xaxis.get_majorticklabels(), rotation=45)\n",
    "GoogleMedia_plot.set_xticklabels(GoogleMedia_plot.xaxis.get_majorticklabels(), rotation=45)\n",
    "Netflixdata_plot.set_xticklabels(Netflixdata_plot.xaxis.get_majorticklabels(), rotation=45)\n",
    "YouTubeData_plot.set_xticklabels(YouTubeData_plot.xaxis.get_majorticklabels(), rotation=45)\n",
    "GamingData_plot.set_xticklabels(GamingData_plot.xaxis.get_majorticklabels(), rotation=45)\n",
    "OtherData_plot.set_xticklabels(OtherData_plot.xaxis.get_majorticklabels(), rotation=45)\n",
    "EmailData_plot.set_xticklabels(EmailData_plot.xaxis.get_majorticklabels(), rotation=45)\n",
    "plt.plot()"
   ]
  },
  {
   "cell_type": "markdown",
   "id": "de224df9",
   "metadata": {},
   "source": [
    "# Plot Three Most Used Applications"
   ]
  },
  {
   "cell_type": "code",
   "execution_count": 256,
   "id": "2234db39",
   "metadata": {},
   "outputs": [
    {
     "data": {
      "text/plain": [
       "google_total          4.391648e+06\n",
       "email_total           3.997219e+06\n",
       "youtube_total         4.746610e+06\n",
       "netflix_total         4.745968e+06\n",
       "gaming_total          5.238909e+06\n",
       "other_total           5.237872e+06\n",
       "social_media_total            -inf\n",
       "dtype: float64"
      ]
     },
     "execution_count": 256,
     "metadata": {},
     "output_type": "execute_result"
    }
   ],
   "source": [
    "most_UsedTotal=Total_Traffic_Aggregation.sum()\n",
    "most_UsedTotal.head(10)"
   ]
  },
  {
   "cell_type": "code",
   "execution_count": 257,
   "id": "36b123af",
   "metadata": {},
   "outputs": [
    {
     "data": {
      "text/plain": [
       "gaming_total     5.238909e+06\n",
       "other_total      5.237872e+06\n",
       "youtube_total    4.746610e+06\n",
       "dtype: float64"
      ]
     },
     "execution_count": 257,
     "metadata": {},
     "output_type": "execute_result"
    }
   ],
   "source": [
    "#Display Top 3\n",
    "Top_Used=most_UsedTotal.nlargest(3)\n",
    "Top_Used"
   ]
  },
  {
   "cell_type": "code",
   "execution_count": 274,
   "id": "a3bea62e",
   "metadata": {},
   "outputs": [
    {
     "data": {
      "text/plain": [
       "array([5238909.02604377, 5237872.25900656, 4746610.02948139])"
      ]
     },
     "execution_count": 274,
     "metadata": {},
     "output_type": "execute_result"
    }
   ],
   "source": [
    "Top_Used.values"
   ]
  },
  {
   "cell_type": "code",
   "execution_count": null,
   "id": "e3430a95",
   "metadata": {},
   "outputs": [],
   "source": [
    "Plot Top 3 Used Applications using Piechart"
   ]
  },
  {
   "cell_type": "code",
   "execution_count": 283,
   "id": "3f57d300",
   "metadata": {},
   "outputs": [
    {
     "data": {
      "image/png": "[encoded data removed]",
      "text/plain": [
       "<Figure size 864x504 with 1 Axes>"
      ]
     },
     "metadata": {},
     "output_type": "display_data"
    }
   ],
   "source": [
    "keys=[\"Gaming Data\", \"Other Media Data\", \"Youtube Data\"]\n",
    "#keys = ['Cluster 1', 'Cluster 2', 'Cluster 3']\n",
    "plt.figure(figsize=(12, 7))\n",
    "colors = sns.color_palette('bright')\n",
    "plt.pie(Top_Used, labels=keys, colors=colors, autopct='%.0f%%')\n",
    "plt.title(\"Top Used Applications\", size=20)\n",
    "plt.show()"
   ]
  },
  {
   "cell_type": "markdown",
   "id": "9878ad4b",
   "metadata": {},
   "source": [
    "# Use Bar Chart to Plot"
   ]
  },
  {
   "cell_type": "code",
   "execution_count": 287,
   "id": "4e19f822",
   "metadata": {},
   "outputs": [
    {
     "data": {
      "text/plain": [
       "[]"
      ]
     },
     "execution_count": 287,
     "metadata": {},
     "output_type": "execute_result"
    },
    {
     "data": {
      "image/png": "[encoded data removed]",
      "text/plain": [
       "<Figure size 1080x360 with 2 Axes>"
      ]
     },
     "metadata": {
      "needs_background": "light"
     },
     "output_type": "display_data"
    }
   ],
   "source": [
    "keys=[\"Gaming Data\", \"Other Media Data\", \"Youtube Data\"]\n",
    "fig, axes = plt.subplots(1,2, figsize=(15, 5))\n",
    "ax1 = sns.barplot(data=Top_Used, x=keys, orient='v', y=Top_Used.values, ax=axes[0])\n",
    "plt.plot()"
   ]
  },
  {
   "cell_type": "markdown",
   "id": "0083622d",
   "metadata": {},
   "source": [
    "# K-Means Clustering on User Engagement"
   ]
  },
  {
   "cell_type": "code",
   "execution_count": 289,
   "id": "24c1d5cb",
   "metadata": {},
   "outputs": [],
   "source": [
    "inertias = []\n",
    "for i in range(1,16):\n",
    "    kmeans = KMeans(n_clusters = i, init = 'k-means++', random_state = 42)\n",
    "    kmeans.fit(normalized_user_engagement)\n",
    "    inertias.append(kmeans.inertia_)"
   ]
  },
  {
   "cell_type": "code",
   "execution_count": 291,
   "id": "6ee71f90",
   "metadata": {},
   "outputs": [
    {
     "data": {
      "image/png": "[encoded data removed]",
      "text/plain": [
       "<Figure size 720x576 with 1 Axes>"
      ]
     },
     "metadata": {
      "needs_background": "light"
     },
     "output_type": "display_data"
    }
   ],
   "source": [
    "# Plotting the cluster size vs. inertia graph to find the optimal cluster\n",
    "plt.figure(figsize = (10,8))\n",
    "plt.plot(range(1, 16), inertias, marker = 'o', linestyle = '--')\n",
    "plt.xlabel('Number of Clusters')\n",
    "plt.ylabel('Inertias')\n",
    "plt.title('K-means Clustering')\n",
    "plt.show()"
   ]
  },
  {
   "cell_type": "code",
   "execution_count": 296,
   "id": "ea7ebd6b",
   "metadata": {},
   "outputs": [
    {
     "data": {
      "image/png": "[encoded data removed]",
      "text/plain": [
       "<Figure size 432x288 with 1 Axes>"
      ]
     },
     "metadata": {
      "needs_background": "light"
     },
     "output_type": "display_data"
    }
   ],
   "source": [
    "wcss = []\n",
    "\n",
    "for i in range(1, 16):\n",
    "    clustering = KMeans(n_clusters=i, init='k-means++', random_state=42)\n",
    "    clustering.fit(normalized_user_engagement)\n",
    "    wcss.append(clustering.inertia_)\n",
    "    \n",
    "ks = [1, 2, 3, 4, 5, 6, 7, 8, 9, 10]\n",
    "sns.lineplot(x = range(1, 16), y = wcss);"
   ]
  },
  {
   "cell_type": "markdown",
   "id": "889abe63",
   "metadata": {},
   "source": [
    "# apply Elbow method"
   ]
  },
  {
   "cell_type": "code",
   "execution_count": null,
   "id": "fc705c70",
   "metadata": {},
   "outputs": [],
   "source": [
    "# As shown from the Above elbow method, the appropriate number of clusters is K=3, this is because the optimal value \n",
    "is found from the point where the elbow bends"
   ]
  },
  {
   "cell_type": "markdown",
   "id": "1c09e758",
   "metadata": {},
   "source": [
    "# Save KNN Model"
   ]
  },
  {
   "cell_type": "code",
   "execution_count": 305,
   "id": "5981bff8",
   "metadata": {},
   "outputs": [],
   "source": [
    "import pickle\n",
    "\n",
    "with open(\"E:\\\\10xAccademy_Practice\\\\Week 1\\\\User Engagement Analysis\\\\KNN Model\\\\UserEngagement_KNN_Model.pkl\", \"wb\") as f:\n",
    "    pickle.dump(kmeans, f)"
   ]
  },
  {
   "cell_type": "code",
   "execution_count": null,
   "id": "b7639dd2",
   "metadata": {},
   "outputs": [],
   "source": [
    "UserEngagement"
   ]
  },
  {
   "cell_type": "code",
   "execution_count": 306,
   "id": "58500786",
   "metadata": {},
   "outputs": [],
   "source": [
    "normalized_user_engagement.to_csv('E:\\\\10xAccademy_Practice\\\\Week 1\\\\User Engagement Analysis\\\\Processed_Data\\\\Normalized_UserEngagement_data.csv')"
   ]
  },
  {
   "cell_type": "code",
   "execution_count": 309,
   "id": "7fb5706e",
   "metadata": {},
   "outputs": [],
   "source": [
    "UserEngage_df.to_csv('E:\\\\10xAccademy_Practice\\\\Week 1\\\\User Engagement Analysis\\\\Processed_Data\\\\UserEngagement_data.csv')"
   ]
  },
  {
   "cell_type": "code",
   "execution_count": null,
   "id": "6ff23116",
   "metadata": {},
   "outputs": [],
   "source": []
  },
  {
   "cell_type": "code",
   "execution_count": 132,
   "id": "0bec65d0",
   "metadata": {},
   "outputs": [
    {
     "data": {
      "text/plain": [
       "array([0, 1, 0, ..., 1, 1, 1])"
      ]
     },
     "execution_count": 132,
     "metadata": {},
     "output_type": "execute_result"
    }
   ],
   "source": [
    "labels=kmeans.labels_"
   ]
  },
  {
   "cell_type": "code",
   "execution_count": 138,
   "id": "ac1b9b2a",
   "metadata": {},
   "outputs": [
    {
     "data": {
      "text/plain": [
       "array([0, 1, 2])"
      ]
     },
     "execution_count": 138,
     "metadata": {},
     "output_type": "execute_result"
    }
   ],
   "source": [
    "import numpy as np\n",
    "kmeans = KMeans(init=\"random\",n_clusters=3,n_init=10,max_iter=300,random_state=42)\n",
    "label = kmeans.fit_predict(normalized_user_engagement)\n",
    "centroids = kmeans.cluster_centers_\n",
    "\n",
    "\n",
    "lables_unique = np.unique(label)\n",
    "lables_unique\n"
   ]
  },
  {
   "cell_type": "code",
   "execution_count": null,
   "id": "08b5a1c9",
   "metadata": {},
   "outputs": [],
   "source": []
  },
  {
   "cell_type": "code",
   "execution_count": null,
   "id": "94e1374c",
   "metadata": {},
   "outputs": [],
   "source": []
  },
  {
   "cell_type": "code",
   "execution_count": null,
   "id": "c0fc6d55",
   "metadata": {},
   "outputs": [],
   "source": []
  },
  {
   "cell_type": "code",
   "execution_count": null,
   "id": "97a1b6e6",
   "metadata": {},
   "outputs": [],
   "source": []
  },
  {
   "cell_type": "code",
   "execution_count": null,
   "id": "7afb1cd8",
   "metadata": {},
   "outputs": [],
   "source": []
  },
  {
   "cell_type": "code",
   "execution_count": null,
   "id": "a51a791f",
   "metadata": {},
   "outputs": [],
   "source": []
  },
  {
   "cell_type": "code",
   "execution_count": null,
   "id": "401abaa3",
   "metadata": {},
   "outputs": [],
   "source": []
  },
  {
   "cell_type": "code",
   "execution_count": null,
   "id": "9045f324",
   "metadata": {},
   "outputs": [],
   "source": []
  },
  {
   "cell_type": "code",
   "execution_count": null,
   "id": "6d867850",
   "metadata": {},
   "outputs": [],
   "source": []
  },
  {
   "cell_type": "code",
   "execution_count": null,
   "id": "5ce42001",
   "metadata": {},
   "outputs": [],
   "source": []
  },
  {
   "cell_type": "code",
   "execution_count": null,
   "id": "7df2cb27",
   "metadata": {},
   "outputs": [],
   "source": []
  },
  {
   "cell_type": "code",
   "execution_count": null,
   "id": "f289bcc7",
   "metadata": {},
   "outputs": [],
   "source": []
  }
 ],
 "metadata": {
  "kernelspec": {
   "display_name": "Python 3 (ipykernel)",
   "language": "python",
   "name": "python3"
  },
  "language_info": {
   "codemirror_mode": {
    "name": "ipython",
    "version": 3
   },
   "file_extension": ".py",
   "mimetype": "text/x-python",
   "name": "python",
   "nbconvert_exporter": "python",
   "pygments_lexer": "ipython3",
   "version": "3.9.12"
  }
 },
 "nbformat": 4,
 "nbformat_minor": 5
}
